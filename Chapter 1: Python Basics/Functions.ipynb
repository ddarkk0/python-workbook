{
  "nbformat": 4,
  "nbformat_minor": 0,
  "metadata": {
    "colab": {
      "name": "Functions",
      "provenance": [],
      "authorship_tag": "ABX9TyNCUYoLx7AWpTvQmkuRZjRF",
      "include_colab_link": true
    },
    "kernelspec": {
      "name": "python3",
      "display_name": "Python 3"
    }
  },
  "cells": [
    {
      "cell_type": "markdown",
      "metadata": {
        "id": "view-in-github",
        "colab_type": "text"
      },
      "source": [
        "<a href=\"https://colab.research.google.com/github/ddarkk0/python-workbook/blob/master/Functions.ipynb\" target=\"_parent\"><img src=\"https://colab.research.google.com/assets/colab-badge.svg\" alt=\"Open In Colab\"/></a>"
      ]
    },
    {
      "cell_type": "markdown",
      "metadata": {
        "id": "SfsWzXtReZD4",
        "colab_type": "text"
      },
      "source": [
        "# **Python Functions**\n",
        "We will make detailed and multiple examples of functions."
      ]
    },
    {
      "cell_type": "markdown",
      "metadata": {
        "id": "Npw8VzV2QCpf",
        "colab_type": "text"
      },
      "source": [
        "# ✓ **Built-in Functions**"
      ]
    },
    {
      "cell_type": "code",
      "metadata": {
        "id": "FPZqt9_SPkM_",
        "colab_type": "code",
        "outputId": "c0596be5-a99f-4bf7-bad8-e9191cdc688b",
        "colab": {
          "base_uri": "https://localhost:8080/",
          "height": 34
        }
      },
      "source": [
        "#Returns the absolute value of a number\n",
        "\n",
        "strvar11 = -500.8\n",
        "abs(strvar11)"
      ],
      "execution_count": 0,
      "outputs": [
        {
          "output_type": "execute_result",
          "data": {
            "text/plain": [
              "500.8"
            ]
          },
          "metadata": {
            "tags": []
          },
          "execution_count": 51
        }
      ]
    },
    {
      "cell_type": "code",
      "metadata": {
        "id": "1kK3mxAiQ1be",
        "colab_type": "code",
        "outputId": "bcf1ffb3-6e88-4908-fa6f-cb85005c85d3",
        "colab": {
          "base_uri": "https://localhost:8080/",
          "height": 34
        }
      },
      "source": [
        "#Returns True if all items in an iterable object are true\n",
        "#ERROR: TypeError: 'int' object is not iterable\n",
        "\n",
        "strvar12 = 'string variable 12'\n",
        "all(strvar12)"
      ],
      "execution_count": 0,
      "outputs": [
        {
          "output_type": "execute_result",
          "data": {
            "text/plain": [
              "True"
            ]
          },
          "metadata": {
            "tags": []
          },
          "execution_count": 52
        }
      ]
    },
    {
      "cell_type": "code",
      "metadata": {
        "id": "kVfBNMadRLO5",
        "colab_type": "code",
        "outputId": "e9fa59ce-392e-4b4b-973d-c24e4b1d203a",
        "colab": {
          "base_uri": "https://localhost:8080/",
          "height": 34
        }
      },
      "source": [
        "#Returns True if any item in an iterable object is true\n",
        "\n",
        "strvar13 = 'string variable 13'\n",
        "any(strvar13)"
      ],
      "execution_count": 0,
      "outputs": [
        {
          "output_type": "execute_result",
          "data": {
            "text/plain": [
              "True"
            ]
          },
          "metadata": {
            "tags": []
          },
          "execution_count": 53
        }
      ]
    },
    {
      "cell_type": "code",
      "metadata": {
        "id": "qTpcaf1lRlOJ",
        "colab_type": "code",
        "outputId": "6defe9c8-9f61-4c3c-8ca1-02b3aa79b457",
        "colab": {
          "base_uri": "https://localhost:8080/",
          "height": 34
        }
      },
      "source": [
        "#Returns a readable version of an object. Replaces none-ascii characters with escape character\n",
        "\n",
        "strvar14 = 'string varıable 14'\n",
        "ascii(strvar14)"
      ],
      "execution_count": 0,
      "outputs": [
        {
          "output_type": "execute_result",
          "data": {
            "text/plain": [
              "\"'string var\\\\u0131able 14'\""
            ]
          },
          "metadata": {
            "tags": []
          },
          "execution_count": 54
        }
      ]
    },
    {
      "cell_type": "code",
      "metadata": {
        "id": "M3ZRg80KR1cx",
        "colab_type": "code",
        "outputId": "6f7716ba-60a0-4fac-838c-36911244699e",
        "colab": {
          "base_uri": "https://localhost:8080/",
          "height": 34
        }
      },
      "source": [
        "#Returns the boolean value of the specified object\n",
        "#1:True and 0:False\n",
        "\n",
        "strvar16 = 1\n",
        "bool(strvar16)"
      ],
      "execution_count": 0,
      "outputs": [
        {
          "output_type": "execute_result",
          "data": {
            "text/plain": [
              "True"
            ]
          },
          "metadata": {
            "tags": []
          },
          "execution_count": 55
        }
      ]
    },
    {
      "cell_type": "code",
      "metadata": {
        "id": "FEBVvqCtSF_Y",
        "colab_type": "code",
        "outputId": "1ab4ffa7-2811-4691-c0da-291b22dc2b75",
        "colab": {
          "base_uri": "https://localhost:8080/",
          "height": 34
        }
      },
      "source": [
        "#Returns a floating point number\n",
        "\n",
        "numericvar1 = 1000\n",
        "float(numericvar1)"
      ],
      "execution_count": 0,
      "outputs": [
        {
          "output_type": "execute_result",
          "data": {
            "text/plain": [
              "1000.0"
            ]
          },
          "metadata": {
            "tags": []
          },
          "execution_count": 56
        }
      ]
    },
    {
      "cell_type": "code",
      "metadata": {
        "id": "8IXkm4bBSvhB",
        "colab_type": "code",
        "outputId": "ee6c06d5-b59d-48fc-956d-874690740d15",
        "colab": {
          "base_uri": "https://localhost:8080/",
          "height": 34
        }
      },
      "source": [
        "#Returns an integer number\n",
        "\n",
        "numericvar2 = 250.4\n",
        "int(numericvar2)"
      ],
      "execution_count": 0,
      "outputs": [
        {
          "output_type": "execute_result",
          "data": {
            "text/plain": [
              "250"
            ]
          },
          "metadata": {
            "tags": []
          },
          "execution_count": 57
        }
      ]
    },
    {
      "cell_type": "code",
      "metadata": {
        "id": "wu3p3MlRS40C",
        "colab_type": "code",
        "outputId": "d4ef0998-6ad3-4d2c-acbe-eaa8bf14a0cc",
        "colab": {
          "base_uri": "https://localhost:8080/",
          "height": 34
        }
      },
      "source": [
        "#Returns the length of an object\n",
        "\n",
        "strvar17 = 'it is string variable'\n",
        "len(strvar17)"
      ],
      "execution_count": 0,
      "outputs": [
        {
          "output_type": "execute_result",
          "data": {
            "text/plain": [
              "21"
            ]
          },
          "metadata": {
            "tags": []
          },
          "execution_count": 58
        }
      ]
    },
    {
      "cell_type": "code",
      "metadata": {
        "id": "Gxu_H2-7TDXn",
        "colab_type": "code",
        "outputId": "7dd25be8-928c-44da-d277-6c3d1fb88b5f",
        "colab": {
          "base_uri": "https://localhost:8080/",
          "height": 34
        }
      },
      "source": [
        "#Returns the smallest item in an iterable\n",
        "\n",
        "strvar18 = '465329'\n",
        "min(strvar18)"
      ],
      "execution_count": 0,
      "outputs": [
        {
          "output_type": "execute_result",
          "data": {
            "text/plain": [
              "'2'"
            ]
          },
          "metadata": {
            "tags": []
          },
          "execution_count": 59
        }
      ]
    },
    {
      "cell_type": "code",
      "metadata": {
        "id": "fTqxP7EuTM7L",
        "colab_type": "code",
        "outputId": "c33a9693-9b3e-4e4d-eb0e-4fb402032634",
        "colab": {
          "base_uri": "https://localhost:8080/",
          "height": 34
        }
      },
      "source": [
        "#Returns the highest item in an iterable\n",
        "\n",
        "strvar19 = '465329'\n",
        "max(strvar18)"
      ],
      "execution_count": 0,
      "outputs": [
        {
          "output_type": "execute_result",
          "data": {
            "text/plain": [
              "'9'"
            ]
          },
          "metadata": {
            "tags": []
          },
          "execution_count": 60
        }
      ]
    },
    {
      "cell_type": "code",
      "metadata": {
        "id": "AJpUY3HoTX42",
        "colab_type": "code",
        "outputId": "79162616-66c6-4594-c756-7c56fbe88f1e",
        "colab": {
          "base_uri": "https://localhost:8080/",
          "height": 34
        }
      },
      "source": [
        "#Returns a new string\n",
        "\n",
        "numericvar4 = 400\n",
        "str(numericvar4)"
      ],
      "execution_count": 0,
      "outputs": [
        {
          "output_type": "execute_result",
          "data": {
            "text/plain": [
              "'400'"
            ]
          },
          "metadata": {
            "tags": []
          },
          "execution_count": 61
        }
      ]
    },
    {
      "cell_type": "code",
      "metadata": {
        "id": "Q0wXoEMzTmYC",
        "colab_type": "code",
        "outputId": "e0240360-b2cc-4ab5-c67e-7286d36a7bf0",
        "colab": {
          "base_uri": "https://localhost:8080/",
          "height": 34
        }
      },
      "source": [
        "#Returns the type of an object\n",
        "\n",
        "numericvar5 = 700\n",
        "type(numericvar5)"
      ],
      "execution_count": 1,
      "outputs": [
        {
          "output_type": "execute_result",
          "data": {
            "text/plain": [
              "int"
            ]
          },
          "metadata": {
            "tags": []
          },
          "execution_count": 1
        }
      ]
    },
    {
      "cell_type": "markdown",
      "metadata": {
        "colab_type": "text",
        "id": "q7h0xfrDUEKJ"
      },
      "source": [
        "<a id=3></a>\n",
        "# ✓ **User Defined Functions**"
      ]
    },
    {
      "cell_type": "code",
      "metadata": {
        "id": "FJcKCLN9ULDB",
        "colab_type": "code",
        "outputId": "f6b30715-2a34-402f-fe58-76fdb71968ca",
        "colab": {
          "base_uri": "https://localhost:8080/",
          "height": 34
        }
      },
      "source": [
        "#user defined functions\n",
        "\n",
        "variable20 = 10\n",
        "variable21 = 100\n",
        "\n",
        "output = ((variable20+variable21)*100)/400 + variable20\n",
        "print(output)"
      ],
      "execution_count": 0,
      "outputs": [
        {
          "output_type": "stream",
          "text": [
            "37.5\n"
          ],
          "name": "stdout"
        }
      ]
    },
    {
      "cell_type": "code",
      "metadata": {
        "id": "vtTHIOXTUoWZ",
        "colab_type": "code",
        "colab": {}
      },
      "source": [
        "def calculator_function(variable20,variable21):\n",
        "  \"\"\"\n",
        "  parameter: variable20, variable21\n",
        "  return: Calculation of the given values\n",
        "  \"\"\"\n",
        "  output_function = ((variable20+variable21)*100)/400 + variable20\n",
        "  return output_function\n"
      ],
      "execution_count": 0,
      "outputs": []
    },
    {
      "cell_type": "code",
      "metadata": {
        "id": "FYOT3_uPVeV6",
        "colab_type": "code",
        "outputId": "253b6d91-65f1-4691-b19a-46b8d97a6841",
        "colab": {
          "base_uri": "https://localhost:8080/",
          "height": 34
        }
      },
      "source": [
        "#Call User Defined Function (calculator_function)\n",
        "calculator_function(40,50)"
      ],
      "execution_count": 4,
      "outputs": [
        {
          "output_type": "execute_result",
          "data": {
            "text/plain": [
              "62.5"
            ]
          },
          "metadata": {
            "tags": []
          },
          "execution_count": 4
        }
      ]
    },
    {
      "cell_type": "markdown",
      "metadata": {
        "colab_type": "text",
        "id": "YOikDsnDWojS"
      },
      "source": [
        "<a id=4></a>\n",
        "# ✓ **Default and Flexible Functions**"
      ]
    },
    {
      "cell_type": "code",
      "metadata": {
        "id": "PxUj4MM5Wkte",
        "colab_type": "code",
        "colab": {}
      },
      "source": [
        "#Default Function:\n",
        "#Calculating the circumference of the circle\n",
        "\n",
        "def circle_calculating(r,pi = 3.14):\n",
        "  \"\"\"\n",
        "  input: r, pi\n",
        "  return: calculating the circumference of the circle\n",
        "  \"\"\"\n",
        "  output_circle = 2*pi*r\n",
        "  return output_circle"
      ],
      "execution_count": 0,
      "outputs": []
    },
    {
      "cell_type": "code",
      "metadata": {
        "id": "_K4yTaxEXHXj",
        "colab_type": "code",
        "outputId": "a6f0163b-9a85-437c-95b1-ff27f22bbbde",
        "colab": {
          "base_uri": "https://localhost:8080/",
          "height": 34
        }
      },
      "source": [
        "#Call function\n",
        "circle_calculating(2)"
      ],
      "execution_count": 0,
      "outputs": [
        {
          "output_type": "execute_result",
          "data": {
            "text/plain": [
              "12.56"
            ]
          },
          "metadata": {
            "tags": []
          },
          "execution_count": 67
        }
      ]
    },
    {
      "cell_type": "code",
      "metadata": {
        "id": "7cth-SInXQDf",
        "colab_type": "code",
        "colab": {}
      },
      "source": [
        "#Flexible Function:\n",
        "\"\"\"def calculate(weight, height, *args):\n",
        "  print(len(args))\n",
        "  output_w = weight + height\n",
        "  return output_w\"\"\"\n",
        "\n",
        "def calculate(weight, height, *args):\n",
        "  print(args)\n",
        "  output_w = (weight + height)*args[1]\n",
        "  return output_w"
      ],
      "execution_count": 0,
      "outputs": []
    },
    {
      "cell_type": "code",
      "metadata": {
        "id": "X1G1rX_2YbvT",
        "colab_type": "code",
        "outputId": "bf519f51-2e3d-4732-a5ba-9b1a03345791",
        "colab": {
          "base_uri": "https://localhost:8080/",
          "height": 51
        }
      },
      "source": [
        "#Call function\n",
        "#*args = 22,44\n",
        "calculate(60,120,22,44)"
      ],
      "execution_count": 7,
      "outputs": [
        {
          "output_type": "stream",
          "text": [
            "(22, 44)\n"
          ],
          "name": "stdout"
        },
        {
          "output_type": "execute_result",
          "data": {
            "text/plain": [
              "7920"
            ]
          },
          "metadata": {
            "tags": []
          },
          "execution_count": 7
        }
      ]
    },
    {
      "cell_type": "markdown",
      "metadata": {
        "colab_type": "text",
        "id": "n9BoRSOlgadR"
      },
      "source": [
        "<a id=4></a>\n",
        "# ✓ **Lambda Function**"
      ]
    },
    {
      "cell_type": "code",
      "metadata": {
        "id": "qGhlOIJafVd8",
        "colab_type": "code",
        "outputId": "3e7c563d-126b-4810-85da-287e97e76dc7",
        "colab": {
          "base_uri": "https://localhost:8080/",
          "height": 34
        }
      },
      "source": [
        "#Enables us to write functions faster than other functions\n",
        "\n",
        "output2 = lambda x: x*x\n",
        "output2(3)"
      ],
      "execution_count": 0,
      "outputs": [
        {
          "output_type": "execute_result",
          "data": {
            "text/plain": [
              "9"
            ]
          },
          "metadata": {
            "tags": []
          },
          "execution_count": 72
        }
      ]
    }
  ]
}
