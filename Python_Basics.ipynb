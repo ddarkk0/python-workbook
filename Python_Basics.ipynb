{
  "nbformat": 4,
  "nbformat_minor": 0,
  "metadata": {
    "colab": {
      "name": "Python Basics",
      "provenance": [],
      "collapsed_sections": [
        "5ds3boK5Mkmi",
        "Npw8VzV2QCpf",
        "q7h0xfrDUEKJ",
        "YOikDsnDWojS",
        "iwNzJzvoaDa9",
        "n9BoRSOlgadR",
        "VrOGQLEYhYe5",
        "0DjkZQtj4plM",
        "GiJeQ-0d_oRy",
        "pNE8Qs-bBWeF",
        "kP-i8FDXE700",
        "Y8H81K0XeN2c",
        "-d1FXYTbhrzV",
        "pznSrGJujohw",
        "SH5SBcVOkxvv",
        "r0iNCJpgmv0k",
        "_SvMp1QVL2K0",
        "X3PpYFNHb89w",
        "v6PNxBzDC7jq",
        "LyxRyiYMld2y"
      ],
      "authorship_tag": "ABX9TyO1TpH1AEUV/moYJwqRBqhH",
      "include_colab_link": true
    },
    "kernelspec": {
      "name": "python3",
      "display_name": "Python 3"
    }
  },
  "cells": [
    {
      "cell_type": "markdown",
      "metadata": {
        "id": "view-in-github",
        "colab_type": "text"
      },
      "source": [
        "<a href=\"https://colab.research.google.com/github/ddarkk0/python-workbook/blob/master/Python_Basics.ipynb\" target=\"_parent\"><img src=\"https://colab.research.google.com/assets/colab-badge.svg\" alt=\"Open In Colab\"/></a>"
      ]
    },
    {
      "cell_type": "markdown",
      "metadata": {
        "id": "l0VGTGFcmI7V",
        "colab_type": "text"
      },
      "source": [
        "# **Chapter 1: Python Basics**\n",
        "\n",
        "## **Introduction:** Understanding and interpreting Python fundamentals and code logic in general.\n",
        "\n",
        "## **Content:** Sections to take place,\n",
        "\n",
        "1. [Variable and Examples](#1)\n",
        "  * [Numeric Variable](#1)\n",
        "  * [String Variable](#1)\n",
        "2. [Functions](#2)\n",
        "  * [Built-in Functions](#2)\n",
        "  * [User Defined Functions](#3)\n",
        "  * [Default and Flexible Functions](#4)\n",
        "  * [Lambda Function](#5)\n",
        "3. [Data Types/Array](#6)\n",
        "  * [Data Type: List](#6)\n",
        "  * [Data Type: Tuple](#7)\n",
        "  * [Data Type: Dictionary](#8)\n",
        "  * [Data Type: Set](#9)\n",
        "4. [Conditionals (If-else Statements)](#10)\n",
        "5. [For Loop](#11)\n",
        "6. [While Loop](#12)\n",
        "7. [Object Oriented Programming (OBP](#13)\n",
        "8. [Numpy Basics](#14)\n",
        "9. [Pandas Basics](#15)\n",
        "10. [Visualization with Matplotlib](#16)"
      ]
    },
    {
      "cell_type": "markdown",
      "metadata": {
        "id": "5ds3boK5Mkmi",
        "colab_type": "text"
      },
      "source": [
        "<a id=1></a>\n",
        "# ✓ **Variables and Examples**\n",
        "  * Numeric Variable\n",
        "  * String Variable"
      ]
    },
    {
      "cell_type": "code",
      "metadata": {
        "id": "R1f96WA2MMkG",
        "colab_type": "code",
        "colab": {}
      },
      "source": [
        "#Numeric Variable\n",
        "\n",
        "variable1 = 10\n",
        "variable2 = 15\n",
        "variable3 = 20\n",
        "variable4 = 40\n",
        "variable5 = 55\n",
        "\n",
        "#Double Numeric Variable\n",
        "\n",
        "variable6 = 30.5\n",
        "variable7 = 40.4\n",
        "variable8 = 10.3\n",
        "variable9 = 19.7"
      ],
      "execution_count": 0,
      "outputs": []
    },
    {
      "cell_type": "code",
      "metadata": {
        "id": "jdwntmbQM441",
        "colab_type": "code",
        "outputId": "5ff83dfc-b7b3-4d22-b85a-04e3997635c6",
        "colab": {
          "base_uri": "https://localhost:8080/",
          "height": 34
        }
      },
      "source": [
        "print(variable1 + variable2)"
      ],
      "execution_count": 0,
      "outputs": [
        {
          "output_type": "stream",
          "text": [
            "25\n"
          ],
          "name": "stdout"
        }
      ]
    },
    {
      "cell_type": "code",
      "metadata": {
        "id": "YG2tJrUCNFng",
        "colab_type": "code",
        "outputId": "09a12965-5971-481c-d5b9-f0bba3b278c1",
        "colab": {
          "base_uri": "https://localhost:8080/",
          "height": 34
        }
      },
      "source": [
        "print((variable3+variable5)/(variable7+variable9))"
      ],
      "execution_count": 0,
      "outputs": [
        {
          "output_type": "stream",
          "text": [
            "1.247920133111481\n"
          ],
          "name": "stdout"
        }
      ]
    },
    {
      "cell_type": "code",
      "metadata": {
        "id": "O4c13kbONoKF",
        "colab_type": "code",
        "outputId": "8f3506bd-3cd8-451e-ebfc-356b5810f17d",
        "colab": {
          "base_uri": "https://localhost:8080/",
          "height": 34
        }
      },
      "source": [
        "#String Variable\n",
        "\n",
        "s = 'It\\'s a cat'\n",
        "variable_type = type(s)\n",
        "print(variable_type)"
      ],
      "execution_count": 0,
      "outputs": [
        {
          "output_type": "stream",
          "text": [
            "<class 'str'>\n"
          ],
          "name": "stdout"
        }
      ]
    },
    {
      "cell_type": "code",
      "metadata": {
        "id": "ldk1u9DHObfz",
        "colab_type": "code",
        "outputId": "675b91ff-489e-4e00-b94e-bfc85ec4927a",
        "colab": {
          "base_uri": "https://localhost:8080/",
          "height": 34
        }
      },
      "source": [
        "strvar1 = 'Hello! '\n",
        "strvar2 = 'My name is '\n",
        "strvar3 = 'Enes'\n",
        "\n",
        "print(strvar1+strvar2+strvar3)"
      ],
      "execution_count": 0,
      "outputs": [
        {
          "output_type": "stream",
          "text": [
            "Hello! My name is Enes\n"
          ],
          "name": "stdout"
        }
      ]
    },
    {
      "cell_type": "code",
      "metadata": {
        "id": "Gkb1GDlsOvtZ",
        "colab_type": "code",
        "outputId": "82877529-109a-4057-c552-11ff886d71f1",
        "colab": {
          "base_uri": "https://localhost:8080/",
          "height": 34
        }
      },
      "source": [
        "strvar4 = 'string variable'\n",
        "print(len(strvar4))"
      ],
      "execution_count": 0,
      "outputs": [
        {
          "output_type": "stream",
          "text": [
            "15\n"
          ],
          "name": "stdout"
        }
      ]
    },
    {
      "cell_type": "code",
      "metadata": {
        "id": "13h1z05VO_3c",
        "colab_type": "code",
        "outputId": "5138b1cd-3dd6-426c-909f-a7dc0e7ee88c",
        "colab": {
          "base_uri": "https://localhost:8080/",
          "height": 34
        }
      },
      "source": [
        "strvar5 = 'string variable character'\n",
        "print(strvar5[0])"
      ],
      "execution_count": 0,
      "outputs": [
        {
          "output_type": "stream",
          "text": [
            "s\n"
          ],
          "name": "stdout"
        }
      ]
    },
    {
      "cell_type": "code",
      "metadata": {
        "id": "hZjKsHAFPK_W",
        "colab_type": "code",
        "outputId": "b9ec3b6d-c321-455f-a505-fa28db278075",
        "colab": {
          "base_uri": "https://localhost:8080/",
          "height": 34
        }
      },
      "source": [
        "#String to integer and float!\n",
        "\n",
        "strvar10 = '400'\n",
        "int(strvar10) #change integer\n",
        "print(float(strvar10)) #and change float"
      ],
      "execution_count": 0,
      "outputs": [
        {
          "output_type": "stream",
          "text": [
            "400.0\n"
          ],
          "name": "stdout"
        }
      ]
    },
    {
      "cell_type": "markdown",
      "metadata": {
        "id": "Npw8VzV2QCpf",
        "colab_type": "text"
      },
      "source": [
        "<a id=2></a>\n",
        "# ✓ **Built-in Functions**"
      ]
    },
    {
      "cell_type": "code",
      "metadata": {
        "id": "FPZqt9_SPkM_",
        "colab_type": "code",
        "outputId": "c0596be5-a99f-4bf7-bad8-e9191cdc688b",
        "colab": {
          "base_uri": "https://localhost:8080/",
          "height": 34
        }
      },
      "source": [
        "#Returns the absolute value of a number\n",
        "\n",
        "strvar11 = -500.8\n",
        "abs(strvar11)"
      ],
      "execution_count": 0,
      "outputs": [
        {
          "output_type": "execute_result",
          "data": {
            "text/plain": [
              "500.8"
            ]
          },
          "metadata": {
            "tags": []
          },
          "execution_count": 51
        }
      ]
    },
    {
      "cell_type": "code",
      "metadata": {
        "id": "1kK3mxAiQ1be",
        "colab_type": "code",
        "outputId": "bcf1ffb3-6e88-4908-fa6f-cb85005c85d3",
        "colab": {
          "base_uri": "https://localhost:8080/",
          "height": 34
        }
      },
      "source": [
        "#Returns True if all items in an iterable object are true\n",
        "#ERROR: TypeError: 'int' object is not iterable\n",
        "\n",
        "strvar12 = 'string variable 12'\n",
        "all(strvar12)"
      ],
      "execution_count": 0,
      "outputs": [
        {
          "output_type": "execute_result",
          "data": {
            "text/plain": [
              "True"
            ]
          },
          "metadata": {
            "tags": []
          },
          "execution_count": 52
        }
      ]
    },
    {
      "cell_type": "code",
      "metadata": {
        "id": "kVfBNMadRLO5",
        "colab_type": "code",
        "outputId": "e9fa59ce-392e-4b4b-973d-c24e4b1d203a",
        "colab": {
          "base_uri": "https://localhost:8080/",
          "height": 34
        }
      },
      "source": [
        "#Returns True if any item in an iterable object is true\n",
        "\n",
        "strvar13 = 'string variable 13'\n",
        "any(strvar13)"
      ],
      "execution_count": 0,
      "outputs": [
        {
          "output_type": "execute_result",
          "data": {
            "text/plain": [
              "True"
            ]
          },
          "metadata": {
            "tags": []
          },
          "execution_count": 53
        }
      ]
    },
    {
      "cell_type": "code",
      "metadata": {
        "id": "qTpcaf1lRlOJ",
        "colab_type": "code",
        "outputId": "6defe9c8-9f61-4c3c-8ca1-02b3aa79b457",
        "colab": {
          "base_uri": "https://localhost:8080/",
          "height": 34
        }
      },
      "source": [
        "#Returns a readable version of an object. Replaces none-ascii characters with escape character\n",
        "\n",
        "strvar14 = 'string varıable 14'\n",
        "ascii(strvar14)"
      ],
      "execution_count": 0,
      "outputs": [
        {
          "output_type": "execute_result",
          "data": {
            "text/plain": [
              "\"'string var\\\\u0131able 14'\""
            ]
          },
          "metadata": {
            "tags": []
          },
          "execution_count": 54
        }
      ]
    },
    {
      "cell_type": "code",
      "metadata": {
        "id": "M3ZRg80KR1cx",
        "colab_type": "code",
        "outputId": "6f7716ba-60a0-4fac-838c-36911244699e",
        "colab": {
          "base_uri": "https://localhost:8080/",
          "height": 34
        }
      },
      "source": [
        "#Returns the boolean value of the specified object\n",
        "#1:True and 0:False\n",
        "\n",
        "strvar16 = 1\n",
        "bool(strvar16)"
      ],
      "execution_count": 0,
      "outputs": [
        {
          "output_type": "execute_result",
          "data": {
            "text/plain": [
              "True"
            ]
          },
          "metadata": {
            "tags": []
          },
          "execution_count": 55
        }
      ]
    },
    {
      "cell_type": "code",
      "metadata": {
        "id": "FEBVvqCtSF_Y",
        "colab_type": "code",
        "outputId": "1ab4ffa7-2811-4691-c0da-291b22dc2b75",
        "colab": {
          "base_uri": "https://localhost:8080/",
          "height": 34
        }
      },
      "source": [
        "#Returns a floating point number\n",
        "\n",
        "numericvar1 = 1000\n",
        "float(numericvar1)"
      ],
      "execution_count": 0,
      "outputs": [
        {
          "output_type": "execute_result",
          "data": {
            "text/plain": [
              "1000.0"
            ]
          },
          "metadata": {
            "tags": []
          },
          "execution_count": 56
        }
      ]
    },
    {
      "cell_type": "code",
      "metadata": {
        "id": "8IXkm4bBSvhB",
        "colab_type": "code",
        "outputId": "ee6c06d5-b59d-48fc-956d-874690740d15",
        "colab": {
          "base_uri": "https://localhost:8080/",
          "height": 34
        }
      },
      "source": [
        "#Returns an integer number\n",
        "\n",
        "numericvar2 = 250.4\n",
        "int(numericvar2)"
      ],
      "execution_count": 0,
      "outputs": [
        {
          "output_type": "execute_result",
          "data": {
            "text/plain": [
              "250"
            ]
          },
          "metadata": {
            "tags": []
          },
          "execution_count": 57
        }
      ]
    },
    {
      "cell_type": "code",
      "metadata": {
        "id": "wu3p3MlRS40C",
        "colab_type": "code",
        "outputId": "d4ef0998-6ad3-4d2c-acbe-eaa8bf14a0cc",
        "colab": {
          "base_uri": "https://localhost:8080/",
          "height": 34
        }
      },
      "source": [
        "#Returns the length of an object\n",
        "\n",
        "strvar17 = 'it is string variable'\n",
        "len(strvar17)"
      ],
      "execution_count": 0,
      "outputs": [
        {
          "output_type": "execute_result",
          "data": {
            "text/plain": [
              "21"
            ]
          },
          "metadata": {
            "tags": []
          },
          "execution_count": 58
        }
      ]
    },
    {
      "cell_type": "code",
      "metadata": {
        "id": "Gxu_H2-7TDXn",
        "colab_type": "code",
        "outputId": "7dd25be8-928c-44da-d277-6c3d1fb88b5f",
        "colab": {
          "base_uri": "https://localhost:8080/",
          "height": 34
        }
      },
      "source": [
        "#Returns the smallest item in an iterable\n",
        "\n",
        "strvar18 = '465329'\n",
        "min(strvar18)"
      ],
      "execution_count": 0,
      "outputs": [
        {
          "output_type": "execute_result",
          "data": {
            "text/plain": [
              "'2'"
            ]
          },
          "metadata": {
            "tags": []
          },
          "execution_count": 59
        }
      ]
    },
    {
      "cell_type": "code",
      "metadata": {
        "id": "fTqxP7EuTM7L",
        "colab_type": "code",
        "outputId": "c33a9693-9b3e-4e4d-eb0e-4fb402032634",
        "colab": {
          "base_uri": "https://localhost:8080/",
          "height": 34
        }
      },
      "source": [
        "#Returns the highest item in an iterable\n",
        "\n",
        "strvar19 = '465329'\n",
        "max(strvar18)"
      ],
      "execution_count": 0,
      "outputs": [
        {
          "output_type": "execute_result",
          "data": {
            "text/plain": [
              "'9'"
            ]
          },
          "metadata": {
            "tags": []
          },
          "execution_count": 60
        }
      ]
    },
    {
      "cell_type": "code",
      "metadata": {
        "id": "AJpUY3HoTX42",
        "colab_type": "code",
        "outputId": "79162616-66c6-4594-c756-7c56fbe88f1e",
        "colab": {
          "base_uri": "https://localhost:8080/",
          "height": 34
        }
      },
      "source": [
        "#Returns a new string\n",
        "\n",
        "numericvar4 = 400\n",
        "str(numericvar4)"
      ],
      "execution_count": 0,
      "outputs": [
        {
          "output_type": "execute_result",
          "data": {
            "text/plain": [
              "'400'"
            ]
          },
          "metadata": {
            "tags": []
          },
          "execution_count": 61
        }
      ]
    },
    {
      "cell_type": "code",
      "metadata": {
        "id": "Q0wXoEMzTmYC",
        "colab_type": "code",
        "outputId": "298458d2-58bd-4f78-edd4-111e721a185e",
        "colab": {
          "base_uri": "https://localhost:8080/",
          "height": 34
        }
      },
      "source": [
        "#Returns the type of an object\n",
        "\n",
        "numericvar5 = 700\n",
        "type(numericvar5)"
      ],
      "execution_count": 0,
      "outputs": [
        {
          "output_type": "execute_result",
          "data": {
            "text/plain": [
              "int"
            ]
          },
          "metadata": {
            "tags": []
          },
          "execution_count": 62
        }
      ]
    },
    {
      "cell_type": "markdown",
      "metadata": {
        "colab_type": "text",
        "id": "q7h0xfrDUEKJ"
      },
      "source": [
        "<a id=3></a>\n",
        "# ✓ **User Defined Functions**"
      ]
    },
    {
      "cell_type": "code",
      "metadata": {
        "id": "FJcKCLN9ULDB",
        "colab_type": "code",
        "outputId": "f6b30715-2a34-402f-fe58-76fdb71968ca",
        "colab": {
          "base_uri": "https://localhost:8080/",
          "height": 34
        }
      },
      "source": [
        "#user defined functions\n",
        "\n",
        "variable20 = 10\n",
        "variable21 = 100\n",
        "\n",
        "output = ((variable20+variable21)*100)/400 + variable20\n",
        "print(output)"
      ],
      "execution_count": 0,
      "outputs": [
        {
          "output_type": "stream",
          "text": [
            "37.5\n"
          ],
          "name": "stdout"
        }
      ]
    },
    {
      "cell_type": "code",
      "metadata": {
        "id": "vtTHIOXTUoWZ",
        "colab_type": "code",
        "colab": {}
      },
      "source": [
        "def calculator_function(variable20,variable21):\n",
        "  \"\"\"\n",
        "  parameter: variable20, variable21\n",
        "  return: Calculation of the given values\n",
        "  \"\"\"\n",
        "  output_function = ((variable20+variable21)*100)/400 + variable20\n",
        "  return output_function\n"
      ],
      "execution_count": 0,
      "outputs": []
    },
    {
      "cell_type": "code",
      "metadata": {
        "id": "FYOT3_uPVeV6",
        "colab_type": "code",
        "outputId": "477bb7f6-1a00-42a1-b2e5-2833697711e7",
        "colab": {
          "base_uri": "https://localhost:8080/",
          "height": 34
        }
      },
      "source": [
        "#Call User Defined Function (calculator_function)\n",
        "calculator_function(40,50)"
      ],
      "execution_count": 0,
      "outputs": [
        {
          "output_type": "execute_result",
          "data": {
            "text/plain": [
              "62.5"
            ]
          },
          "metadata": {
            "tags": []
          },
          "execution_count": 65
        }
      ]
    },
    {
      "cell_type": "markdown",
      "metadata": {
        "colab_type": "text",
        "id": "YOikDsnDWojS"
      },
      "source": [
        "<a id=4></a>\n",
        "# ✓ **Default and Flexible Functions**"
      ]
    },
    {
      "cell_type": "code",
      "metadata": {
        "id": "PxUj4MM5Wkte",
        "colab_type": "code",
        "colab": {}
      },
      "source": [
        "#Default Function:\n",
        "#Calculating the circumference of the circle\n",
        "\n",
        "def circle_calculating(r,pi = 3.14):\n",
        "  \"\"\"\n",
        "  input: r, pi\n",
        "  return: calculating the circumference of the circle\n",
        "  \"\"\"\n",
        "  output_circle = 2*pi*r\n",
        "  return output_circle"
      ],
      "execution_count": 0,
      "outputs": []
    },
    {
      "cell_type": "code",
      "metadata": {
        "id": "_K4yTaxEXHXj",
        "colab_type": "code",
        "outputId": "a6f0163b-9a85-437c-95b1-ff27f22bbbde",
        "colab": {
          "base_uri": "https://localhost:8080/",
          "height": 34
        }
      },
      "source": [
        "#Call function\n",
        "circle_calculating(2)"
      ],
      "execution_count": 0,
      "outputs": [
        {
          "output_type": "execute_result",
          "data": {
            "text/plain": [
              "12.56"
            ]
          },
          "metadata": {
            "tags": []
          },
          "execution_count": 67
        }
      ]
    },
    {
      "cell_type": "code",
      "metadata": {
        "id": "7cth-SInXQDf",
        "colab_type": "code",
        "colab": {}
      },
      "source": [
        "#Flexible Function:\n",
        "\"\"\"def calculate(weight, height, *args):\n",
        "  print(len(args))\n",
        "  output_w = weight + height\n",
        "  return output_w\"\"\"\n",
        "\n",
        "def calculate(weight, height, *args):\n",
        "  print(args)\n",
        "  output_w = (weight + height)*args[1]\n",
        "  return output_w"
      ],
      "execution_count": 0,
      "outputs": []
    },
    {
      "cell_type": "code",
      "metadata": {
        "id": "X1G1rX_2YbvT",
        "colab_type": "code",
        "outputId": "14b544a4-ea34-44bc-bcd8-7390a5ebbf37",
        "colab": {
          "base_uri": "https://localhost:8080/",
          "height": 51
        }
      },
      "source": [
        "#Call function\n",
        "#*args = 22,44\n",
        "calculate(60,120,22,44)"
      ],
      "execution_count": 0,
      "outputs": [
        {
          "output_type": "stream",
          "text": [
            "(22, 44)\n"
          ],
          "name": "stdout"
        },
        {
          "output_type": "execute_result",
          "data": {
            "text/plain": [
              "7920"
            ]
          },
          "metadata": {
            "tags": []
          },
          "execution_count": 69
        }
      ]
    },
    {
      "cell_type": "markdown",
      "metadata": {
        "colab_type": "text",
        "id": "iwNzJzvoaDa9"
      },
      "source": [
        "# **QUIZ AND EXAMPLE**"
      ]
    },
    {
      "cell_type": "code",
      "metadata": {
        "id": "u6sLRfQ8YsW5",
        "colab_type": "code",
        "outputId": "39880090-87ff-49f2-f0e8-8bb30ea163c5",
        "colab": {
          "base_uri": "https://localhost:8080/"
        }
      },
      "source": [
        "#int variable; age\n",
        "#string variable; name\n",
        "#fuction; print(type(), len(), float())\n",
        "#*args: surname\n",
        "#default parameter: shoes number\n",
        "\n",
        "name = 'Enes'\n",
        "surname = 'Akkaya'\n",
        "age = 22\n",
        "\n",
        "def function_quiz(name,surname,age,shoes_number = 44,*args):\n",
        "  print(args)\n",
        "  print(type(name))\n",
        "  print(float(age))\n",
        "  print(len(surname))\n",
        "  print(name, 'is', age ,'years old.')\n",
        "\n",
        "  output_quiz = (age + shoes_number)*args[0]\n",
        "  return output_quiz\n",
        "\n",
        "#call function\n",
        "\n",
        "function_quiz(name,surname,age,44,24,42,45)"
      ],
      "execution_count": 0,
      "outputs": [
        {
          "output_type": "stream",
          "text": [
            "(24, 42, 45)\n",
            "<class 'str'>\n",
            "22.0\n",
            "6\n",
            "Enes is 22 years old.\n"
          ],
          "name": "stdout"
        },
        {
          "output_type": "execute_result",
          "data": {
            "text/plain": [
              "1584"
            ]
          },
          "metadata": {
            "tags": []
          },
          "execution_count": 70
        }
      ]
    },
    {
      "cell_type": "code",
      "metadata": {
        "id": "gtuIKWNzbQCl",
        "colab_type": "code",
        "outputId": "e62d04b6-6233-4d10-cfae-9bb35af211cd",
        "colab": {
          "base_uri": "https://localhost:8080/"
        }
      },
      "source": [
        "#Profit and Loss Calculation\n",
        "\n",
        "def function_quiz1(cost,sale_price,tax = 0.18):\n",
        "  \"\"\"\n",
        "  input: cost, sale_price, tax\n",
        "  return: output_quiz1\n",
        "  \"\"\"\n",
        "  print('Cost Price:', cost)\n",
        "  print('Sale Price:', sale_price)\n",
        "  print('The Tax(%)', tax)\n",
        "\n",
        "  output_quiz1 = sale_price - ((sale_price*tax) + cost)\n",
        "  print('Net Remaining($):', output_quiz1)\n",
        "\n",
        "\n",
        "  if output_quiz1 > cost:\n",
        "    print('It made a profit.')\n",
        "  elif output_quiz1 == cost:\n",
        "    print('No profit or loss.')\n",
        "  else:\n",
        "    print('The business has damaged.')\n",
        "\n",
        "#call function\n",
        "\n",
        "function_quiz1(100,400)\n",
        "print('#####################')\n",
        "function_quiz1(100,200)"
      ],
      "execution_count": 0,
      "outputs": [
        {
          "output_type": "stream",
          "text": [
            "Cost Price: 100\n",
            "Sale Price: 400\n",
            "The Tax(%) 0.18\n",
            "Net Remaining($): 228.0\n",
            "It made a profit.\n",
            "#####################\n",
            "Cost Price: 100\n",
            "Sale Price: 200\n",
            "The Tax(%) 0.18\n",
            "Net Remaining($): 64.0\n",
            "The business has damaged.\n"
          ],
          "name": "stdout"
        }
      ]
    },
    {
      "cell_type": "markdown",
      "metadata": {
        "colab_type": "text",
        "id": "n9BoRSOlgadR"
      },
      "source": [
        "<a id=4></a>\n",
        "# ✓ **Lambda Function**"
      ]
    },
    {
      "cell_type": "code",
      "metadata": {
        "id": "qGhlOIJafVd8",
        "colab_type": "code",
        "outputId": "3e7c563d-126b-4810-85da-287e97e76dc7",
        "colab": {
          "base_uri": "https://localhost:8080/",
          "height": 34
        }
      },
      "source": [
        "#Enables us to write functions faster than other functions\n",
        "\n",
        "output2 = lambda x: x*x\n",
        "output2(3)"
      ],
      "execution_count": 0,
      "outputs": [
        {
          "output_type": "execute_result",
          "data": {
            "text/plain": [
              "9"
            ]
          },
          "metadata": {
            "tags": []
          },
          "execution_count": 72
        }
      ]
    },
    {
      "cell_type": "markdown",
      "metadata": {
        "colab_type": "text",
        "id": "VrOGQLEYhYe5"
      },
      "source": [
        "<a id=6></a>\n",
        "# ✓ **Data Type: List**"
      ]
    },
    {
      "cell_type": "code",
      "metadata": {
        "id": "W-PElYdLgw5Z",
        "colab_type": "code",
        "outputId": "c7b8c80f-edb4-4fad-9049-4f962f8d2791",
        "colab": {
          "base_uri": "https://localhost:8080/",
          "height": 119
        }
      },
      "source": [
        "#There are four collection data types in the Python programming language:\n",
        "\n",
        "#List is a collection which is ordered and changeable. Allows duplicate members.\n",
        "#Tuple is a collection which is ordered and unchangeable. Allows duplicate members.\n",
        "#Set is a collection which is unordered and unindexed. No duplicate members.\n",
        "#Dictionary is a collection which is unordered, changeable and indexed. No duplicate members.\n",
        "\n",
        "#List is a collection which is ordered and changeable. Allows duplicate members.\n",
        "#Create a List\n",
        "\n",
        "new_list = [1,2,3,4,5,'apple','cherry',6,7,8,9]\n",
        "print(type(new_list))\n",
        "\n",
        "#Print list elements\n",
        "\n",
        "value0 = new_list[0] #Call element 0\n",
        "print(value0)\n",
        "\n",
        "value6 = new_list[6] #Call element 6\n",
        "print(value6)\n",
        "\n",
        "last_value = new_list[-1] #Call last element\n",
        "print(last_value)\n",
        "\n",
        "value03 = new_list[0:3] #Invoke values between 0 and 3 elements\n",
        "print(value03)\n",
        "\n",
        "value_reverse = new_list[::-1] #Reverse list elements\n",
        "print(value_reverse)"
      ],
      "execution_count": 0,
      "outputs": [
        {
          "output_type": "stream",
          "text": [
            "<class 'list'>\n",
            "1\n",
            "cherry\n",
            "9\n",
            "[1, 2, 3]\n",
            "[9, 8, 7, 6, 'cherry', 'apple', 5, 4, 3, 2, 1]\n"
          ],
          "name": "stdout"
        }
      ]
    },
    {
      "cell_type": "code",
      "metadata": {
        "id": "26jhc29iiKZ4",
        "colab_type": "code",
        "outputId": "0cb6322d-29cc-4124-ec3d-a12134cc4cc5",
        "colab": {
          "base_uri": "https://localhost:8080/",
          "height": 799
        }
      },
      "source": [
        "#List Function (Built-in Functions):\n",
        "\n",
        "dir(list)"
      ],
      "execution_count": 0,
      "outputs": [
        {
          "output_type": "execute_result",
          "data": {
            "text/plain": [
              "['__add__',\n",
              " '__class__',\n",
              " '__contains__',\n",
              " '__delattr__',\n",
              " '__delitem__',\n",
              " '__dir__',\n",
              " '__doc__',\n",
              " '__eq__',\n",
              " '__format__',\n",
              " '__ge__',\n",
              " '__getattribute__',\n",
              " '__getitem__',\n",
              " '__gt__',\n",
              " '__hash__',\n",
              " '__iadd__',\n",
              " '__imul__',\n",
              " '__init__',\n",
              " '__init_subclass__',\n",
              " '__iter__',\n",
              " '__le__',\n",
              " '__len__',\n",
              " '__lt__',\n",
              " '__mul__',\n",
              " '__ne__',\n",
              " '__new__',\n",
              " '__reduce__',\n",
              " '__reduce_ex__',\n",
              " '__repr__',\n",
              " '__reversed__',\n",
              " '__rmul__',\n",
              " '__setattr__',\n",
              " '__setitem__',\n",
              " '__sizeof__',\n",
              " '__str__',\n",
              " '__subclasshook__',\n",
              " 'append',\n",
              " 'clear',\n",
              " 'copy',\n",
              " 'count',\n",
              " 'extend',\n",
              " 'index',\n",
              " 'insert',\n",
              " 'pop',\n",
              " 'remove',\n",
              " 'reverse',\n",
              " 'sort']"
            ]
          },
          "metadata": {
            "tags": []
          },
          "execution_count": 74
        }
      ]
    },
    {
      "cell_type": "code",
      "metadata": {
        "id": "-4f_3yUbjoz6",
        "colab_type": "code",
        "outputId": "78a2c144-2c9b-44cf-cab5-1aab4c173435",
        "colab": {
          "base_uri": "https://localhost:8080/",
          "height": 85
        }
      },
      "source": [
        "#List Function (Built-in Functions) Example:\n",
        "\n",
        "new_list3 = [1,2,3,4,5,6,7,8,9]\n",
        "\n",
        "new_list3.append(10) #Create a new element\n",
        "print(new_list3)\n",
        "\n",
        "copy_list = new_list3.copy() #List a copy\n",
        "copy_list.remove(4) #Remove 4 element in copy_list\n",
        "print(copy_list)\n",
        "\n",
        "copy_list.reverse() #Reverse a list\n",
        "print(copy_list)\n",
        "\n",
        "x = new_list3.index(2) #Index is the value input element!\n",
        "print(x)"
      ],
      "execution_count": 0,
      "outputs": [
        {
          "output_type": "stream",
          "text": [
            "[1, 2, 3, 4, 5, 6, 7, 8, 9, 10]\n",
            "[1, 2, 3, 5, 6, 7, 8, 9, 10]\n",
            "[10, 9, 8, 7, 6, 5, 3, 2, 1]\n",
            "1\n"
          ],
          "name": "stdout"
        }
      ]
    },
    {
      "cell_type": "markdown",
      "metadata": {
        "colab_type": "text",
        "id": "0DjkZQtj4plM"
      },
      "source": [
        "<a id=7></a>\n",
        "# ✓ **Data Type: Dictionary**"
      ]
    },
    {
      "cell_type": "code",
      "metadata": {
        "id": "mAYW4KVikukj",
        "colab_type": "code",
        "outputId": "51782391-b086-4e00-bfe0-63b7d00cce27",
        "colab": {
          "base_uri": "https://localhost:8080/",
          "height": 34
        }
      },
      "source": [
        "#A dictionary is a collection which is unordered, changeable and indexed. \n",
        "# In Python dictionaries are written with curly brackets, and they have keys and values.\n",
        "\n",
        "#Create a dictionary\n",
        "new_dictionary = {'model_number': 23842,\n",
        "                  'model_name': 'XD-MODEL',\n",
        "                  'sale_price': 300.50,\n",
        "                  'cost': 100}\n",
        "\n",
        "print(new_dictionary['model_number'])"
      ],
      "execution_count": 0,
      "outputs": [
        {
          "output_type": "stream",
          "text": [
            "23842\n"
          ],
          "name": "stdout"
        }
      ]
    },
    {
      "cell_type": "code",
      "metadata": {
        "id": "gAYQd4kB512X",
        "colab_type": "code",
        "outputId": "6c461cc5-0892-444a-b6af-74aa16854bf9",
        "colab": {
          "base_uri": "https://localhost:8080/",
          "height": 102
        }
      },
      "source": [
        "#Dictionary add new element\n",
        "\n",
        "new_dictionary['color'] = 'red'\n",
        "new_dictionary"
      ],
      "execution_count": 0,
      "outputs": [
        {
          "output_type": "execute_result",
          "data": {
            "text/plain": [
              "{'color': 'red',\n",
              " 'cost': 100,\n",
              " 'model_name': 'XD-MODEL',\n",
              " 'model_number': 23842,\n",
              " 'sale_price': 300.5}"
            ]
          },
          "metadata": {
            "tags": []
          },
          "execution_count": 77
        }
      ]
    },
    {
      "cell_type": "code",
      "metadata": {
        "id": "cNCiRXh56YVv",
        "colab_type": "code",
        "outputId": "a6bb2801-5d79-4945-8a76-6c75ca4bfa75",
        "colab": {
          "base_uri": "https://localhost:8080/",
          "height": 85
        }
      },
      "source": [
        "#Dictionary remove a element\n",
        "\n",
        "new_dictionary.pop('color')\n",
        "new_dictionary"
      ],
      "execution_count": 0,
      "outputs": [
        {
          "output_type": "execute_result",
          "data": {
            "text/plain": [
              "{'cost': 100,\n",
              " 'model_name': 'XD-MODEL',\n",
              " 'model_number': 23842,\n",
              " 'sale_price': 300.5}"
            ]
          },
          "metadata": {
            "tags": []
          },
          "execution_count": 78
        }
      ]
    },
    {
      "cell_type": "code",
      "metadata": {
        "id": "6nS1C2aI6hQi",
        "colab_type": "code",
        "outputId": "f7d51b98-58b4-44b9-8233-5c77df1add83",
        "colab": {
          "base_uri": "https://localhost:8080/",
          "height": 34
        }
      },
      "source": [
        "#The popitem() method removes the last inserted item (in versions before 3.7, a random item is removed instead):\n",
        "\n",
        "new_dictionary1 = {'color': 'blue',\n",
        "                   'number': 222,\n",
        "                   'lucky number': 20.5,\n",
        "                   'name': 'serhat'}\n",
        "x = new_dictionary1        \n",
        "print(x)"
      ],
      "execution_count": 0,
      "outputs": [
        {
          "output_type": "stream",
          "text": [
            "{'color': 'blue', 'number': 222, 'lucky number': 20.5, 'name': 'serhat'}\n"
          ],
          "name": "stdout"
        }
      ]
    },
    {
      "cell_type": "code",
      "metadata": {
        "id": "HiuZ8AHk7XRT",
        "colab_type": "code",
        "outputId": "e3784966-e9bd-45d2-c92f-72900b2ac743",
        "colab": {
          "base_uri": "https://localhost:8080/",
          "height": 34
        }
      },
      "source": [
        "#The del keyword removes the item with the specified key name:\n",
        "\n",
        "new_dictionary2 = {'color': 'blue',\n",
        "                   'number': 222,\n",
        "                   'lucky number': 20.5,\n",
        "                   'name': 'serhat'}\n",
        "\n",
        "del new_dictionary2['name']\n",
        "print(new_dictionary2)"
      ],
      "execution_count": 0,
      "outputs": [
        {
          "output_type": "stream",
          "text": [
            "{'color': 'blue', 'number': 222, 'lucky number': 20.5}\n"
          ],
          "name": "stdout"
        }
      ]
    },
    {
      "cell_type": "code",
      "metadata": {
        "id": "PxU1X4jc740N",
        "colab_type": "code",
        "colab": {}
      },
      "source": [
        "#The del keyword can also delete the dictionary completely:\n",
        "\n",
        "del new_dictionary2"
      ],
      "execution_count": 0,
      "outputs": []
    },
    {
      "cell_type": "code",
      "metadata": {
        "id": "-sNZhjmh8LQ8",
        "colab_type": "code",
        "outputId": "7f520dfd-3456-44ac-f7d8-137c404ca8c7",
        "colab": {
          "base_uri": "https://localhost:8080/",
          "height": 34
        }
      },
      "source": [
        "#The clear() method empties the dictionary:\n",
        "\n",
        "new_dictionary3 = {'color': 'blue',\n",
        "                   'number': 222,\n",
        "                   'lucky number': 20.5,\n",
        "                   'name': 'serhat'}\n",
        "\n",
        "new_dictionary3.clear()\n",
        "print(new_dictionary3)"
      ],
      "execution_count": 0,
      "outputs": [
        {
          "output_type": "stream",
          "text": [
            "{}\n"
          ],
          "name": "stdout"
        }
      ]
    },
    {
      "cell_type": "code",
      "metadata": {
        "id": "9SRJu2lZ8bVK",
        "colab_type": "code",
        "outputId": "9f3538a5-6997-428c-d6fe-333644056f4b",
        "colab": {
          "base_uri": "https://localhost:8080/",
          "height": 34
        }
      },
      "source": [
        "#Make a copy of a dictionary with the copy() method:\n",
        "\n",
        "new_dictionary4 = {'color': 'blue',\n",
        "                   'number': 222,\n",
        "                   'lucky number': 20.5,\n",
        "                   'name': 'serhat'}\n",
        "\n",
        "copy_dictionary4 = new_dictionary4.copy()\n",
        "print(copy_dictionary4)"
      ],
      "execution_count": 0,
      "outputs": [
        {
          "output_type": "stream",
          "text": [
            "{'color': 'blue', 'number': 222, 'lucky number': 20.5, 'name': 'serhat'}\n"
          ],
          "name": "stdout"
        }
      ]
    },
    {
      "cell_type": "code",
      "metadata": {
        "id": "aMUIWm7S9Dn3",
        "colab_type": "code",
        "outputId": "3e2dfad1-83aa-4aa9-b495-c1d542f0f50a",
        "colab": {
          "base_uri": "https://localhost:8080/",
          "height": 34
        }
      },
      "source": [
        "#Dictionary built-in function; dict()\n",
        "\n",
        "new_dictionary5 = {'color': 'blue',\n",
        "                   'number': 222,\n",
        "                   'lucky number': 20.5,\n",
        "                   'name': 'serhat'}\n",
        "\n",
        "copy_dictionary5 = dict(new_dictionary5)\n",
        "print(copy_dictionary5)"
      ],
      "execution_count": 0,
      "outputs": [
        {
          "output_type": "stream",
          "text": [
            "{'color': 'blue', 'number': 222, 'lucky number': 20.5, 'name': 'serhat'}\n"
          ],
          "name": "stdout"
        }
      ]
    },
    {
      "cell_type": "code",
      "metadata": {
        "id": "Cch3PQgQ9oAd",
        "colab_type": "code",
        "outputId": "2a2b029a-3417-4352-c09e-b25bb8a22fc4",
        "colab": {
          "base_uri": "https://localhost:8080/",
          "height": 34
        }
      },
      "source": [
        "#Create a dictionary that contain three dictionaries:\n",
        "\n",
        "sport_members = {\n",
        "    \"member1\" : {\n",
        "        \"name\" : \"Lokman\",\n",
        "        \"age\" : 22\n",
        "    },\n",
        "    \"member2\" : {\n",
        "        \"name\" : \"Serhat\",\n",
        "        \"age\" : 25\n",
        "    },\n",
        "    \"member3\" : {\n",
        "        \"name\" : \"Emir\",\n",
        "        \"age\" : 30\n",
        "    }\n",
        "}\n",
        "\n",
        "print(sport_members)"
      ],
      "execution_count": 0,
      "outputs": [
        {
          "output_type": "stream",
          "text": [
            "{'member1': {'name': 'Lokman', 'age': 22}, 'member2': {'name': 'Serhat', 'age': 25}, 'member3': {'name': 'Emir', 'age': 30}}\n"
          ],
          "name": "stdout"
        }
      ]
    },
    {
      "cell_type": "code",
      "metadata": {
        "id": "RCzUSJex-fsc",
        "colab_type": "code",
        "outputId": "dce32edd-beb2-4f99-8dfd-fae12eb5246f",
        "colab": {
          "base_uri": "https://localhost:8080/",
          "height": 34
        }
      },
      "source": [
        "#It is also possible to use the dict() constructor to make a new dictionary:\n",
        "\n",
        "new_dict = dict(brand='xforge',name='john',age=20)\n",
        "print(new_dict)"
      ],
      "execution_count": 0,
      "outputs": [
        {
          "output_type": "stream",
          "text": [
            "{'brand': 'xforge', 'name': 'john', 'age': 20}\n"
          ],
          "name": "stdout"
        }
      ]
    },
    {
      "cell_type": "markdown",
      "metadata": {
        "colab_type": "text",
        "id": "GiJeQ-0d_oRy"
      },
      "source": [
        "<a id=7></a>\n",
        "# ✓ **Data Type: Tuple**"
      ]
    },
    {
      "cell_type": "code",
      "metadata": {
        "id": "uhHq4bjZ_FVM",
        "colab_type": "code",
        "colab": {}
      },
      "source": [
        "#A tuple is a collection which is ordered and unchangeable. In Python tuples are written with round brackets.\n",
        "\n",
        "new_tuple = (\"banana\",\"apple\",\"orange\",\"cherry\",\"strawberry\",\"pineapple\")"
      ],
      "execution_count": 0,
      "outputs": []
    },
    {
      "cell_type": "code",
      "metadata": {
        "id": "LEU15QHw_9O_",
        "colab_type": "code",
        "outputId": "d005b003-25fb-4c93-a101-33c52ab13d2a",
        "colab": {
          "base_uri": "https://localhost:8080/",
          "height": 578
        }
      },
      "source": [
        "dir(tuple)"
      ],
      "execution_count": 0,
      "outputs": [
        {
          "output_type": "execute_result",
          "data": {
            "text/plain": [
              "['__add__',\n",
              " '__class__',\n",
              " '__contains__',\n",
              " '__delattr__',\n",
              " '__dir__',\n",
              " '__doc__',\n",
              " '__eq__',\n",
              " '__format__',\n",
              " '__ge__',\n",
              " '__getattribute__',\n",
              " '__getitem__',\n",
              " '__getnewargs__',\n",
              " '__gt__',\n",
              " '__hash__',\n",
              " '__init__',\n",
              " '__init_subclass__',\n",
              " '__iter__',\n",
              " '__le__',\n",
              " '__len__',\n",
              " '__lt__',\n",
              " '__mul__',\n",
              " '__ne__',\n",
              " '__new__',\n",
              " '__reduce__',\n",
              " '__reduce_ex__',\n",
              " '__repr__',\n",
              " '__rmul__',\n",
              " '__setattr__',\n",
              " '__sizeof__',\n",
              " '__str__',\n",
              " '__subclasshook__',\n",
              " 'count',\n",
              " 'index']"
            ]
          },
          "metadata": {
            "tags": []
          },
          "execution_count": 88
        }
      ]
    },
    {
      "cell_type": "code",
      "metadata": {
        "id": "LWZp2UnkAELx",
        "colab_type": "code",
        "outputId": "5704a8d3-9dbc-4b92-e047-a2911ecaf72b",
        "colab": {
          "base_uri": "https://localhost:8080/",
          "height": 34
        }
      },
      "source": [
        "#Call the first element in the group\n",
        "new_tuple[1]"
      ],
      "execution_count": 0,
      "outputs": [
        {
          "output_type": "execute_result",
          "data": {
            "text/plain": [
              "'apple'"
            ]
          },
          "metadata": {
            "tags": []
          },
          "execution_count": 89
        }
      ]
    },
    {
      "cell_type": "code",
      "metadata": {
        "id": "IKY2JGqdAKtO",
        "colab_type": "code",
        "outputId": "4d75a045-a1e7-485c-cc3f-9dc9562de2a3",
        "colab": {
          "base_uri": "https://localhost:8080/",
          "height": 34
        }
      },
      "source": [
        "#Call the last element of the group\n",
        "\n",
        "new_tuple[-1]"
      ],
      "execution_count": 0,
      "outputs": [
        {
          "output_type": "execute_result",
          "data": {
            "text/plain": [
              "'pineapple'"
            ]
          },
          "metadata": {
            "tags": []
          },
          "execution_count": 90
        }
      ]
    },
    {
      "cell_type": "code",
      "metadata": {
        "id": "zQDFw8MVArmU",
        "colab_type": "code",
        "outputId": "316e822c-47b4-4e0c-aece-d86e650eb050",
        "colab": {
          "base_uri": "https://localhost:8080/",
          "height": 34
        }
      },
      "source": [
        "#Calling 0 to 3 elements in the group\n",
        "\n",
        "new_tuple[0:3]"
      ],
      "execution_count": 0,
      "outputs": [
        {
          "output_type": "execute_result",
          "data": {
            "text/plain": [
              "('banana', 'apple', 'orange')"
            ]
          },
          "metadata": {
            "tags": []
          },
          "execution_count": 91
        }
      ]
    },
    {
      "cell_type": "code",
      "metadata": {
        "id": "nhNsXgbUb0gl",
        "colab_type": "code",
        "outputId": "d8e79265-90f7-4f9e-dae5-0dfe2fc40d86",
        "colab": {
          "base_uri": "https://localhost:8080/",
          "height": 34
        }
      },
      "source": [
        "#return number of occurrences of value\n",
        "\n",
        "new_tuple.count('cherry')"
      ],
      "execution_count": 0,
      "outputs": [
        {
          "output_type": "execute_result",
          "data": {
            "text/plain": [
              "1"
            ]
          },
          "metadata": {
            "tags": []
          },
          "execution_count": 92
        }
      ]
    },
    {
      "cell_type": "markdown",
      "metadata": {
        "colab_type": "text",
        "id": "pNE8Qs-bBWeF"
      },
      "source": [
        "<a id=7></a>\n",
        "# ✓ **Data Type: Sets**"
      ]
    },
    {
      "cell_type": "code",
      "metadata": {
        "id": "5XQcvt2CA3SB",
        "colab_type": "code",
        "outputId": "f276a187-e0af-45ea-eb44-81ac681d272d",
        "colab": {
          "base_uri": "https://localhost:8080/",
          "height": 34
        }
      },
      "source": [
        "#A set is a collection which is unordered and unindexed. In Python sets are written with curly brackets.\n",
        "\n",
        "new_set = {\"john\",\"alex\",\"dennis\"}\n",
        "new_set"
      ],
      "execution_count": 0,
      "outputs": [
        {
          "output_type": "execute_result",
          "data": {
            "text/plain": [
              "{'alex', 'dennis', 'john'}"
            ]
          },
          "metadata": {
            "tags": []
          },
          "execution_count": 93
        }
      ]
    },
    {
      "cell_type": "code",
      "metadata": {
        "id": "xRLl4laBBkj3",
        "colab_type": "code",
        "outputId": "113132f2-5cd1-40ab-e010-9582b5d806bd",
        "colab": {
          "base_uri": "https://localhost:8080/",
          "height": 34
        }
      },
      "source": [
        "#Check if \"alex\" is present in the set:\n",
        "\n",
        "print(\"alex\" in new_set)"
      ],
      "execution_count": 0,
      "outputs": [
        {
          "output_type": "stream",
          "text": [
            "True\n"
          ],
          "name": "stdout"
        }
      ]
    },
    {
      "cell_type": "code",
      "metadata": {
        "id": "kNWm1FVlBzF3",
        "colab_type": "code",
        "outputId": "ada52d99-3815-4478-c982-3ad0385466a4",
        "colab": {
          "base_uri": "https://localhost:8080/",
          "height": 34
        }
      },
      "source": [
        "#Add an item to a set, using the add() method:\n",
        "\n",
        "new_set.add(\"serhat\")\n",
        "new_set"
      ],
      "execution_count": 0,
      "outputs": [
        {
          "output_type": "execute_result",
          "data": {
            "text/plain": [
              "{'alex', 'dennis', 'john', 'serhat'}"
            ]
          },
          "metadata": {
            "tags": []
          },
          "execution_count": 95
        }
      ]
    },
    {
      "cell_type": "code",
      "metadata": {
        "id": "g89rero6B49F",
        "colab_type": "code",
        "outputId": "b9a8d879-a4d0-4721-a66b-ef509d1fdfd7",
        "colab": {
          "base_uri": "https://localhost:8080/",
          "height": 34
        }
      },
      "source": [
        "#Add multiple items to a set, using the update() method:\n",
        "\n",
        "new_set.update([\"omer\",\"ali\",\"derya\",\"lokman\"])\n",
        "new_set"
      ],
      "execution_count": 0,
      "outputs": [
        {
          "output_type": "execute_result",
          "data": {
            "text/plain": [
              "{'alex', 'ali', 'dennis', 'derya', 'john', 'lokman', 'omer', 'serhat'}"
            ]
          },
          "metadata": {
            "tags": []
          },
          "execution_count": 96
        }
      ]
    },
    {
      "cell_type": "code",
      "metadata": {
        "id": "6GQWGJY8CCoQ",
        "colab_type": "code",
        "outputId": "3700424d-ed72-47a9-95f9-d72e3ab77259",
        "colab": {
          "base_uri": "https://localhost:8080/",
          "height": 34
        }
      },
      "source": [
        "#Get the number of items in a set:\n",
        "\n",
        "print(len(new_set))"
      ],
      "execution_count": 0,
      "outputs": [
        {
          "output_type": "stream",
          "text": [
            "8\n"
          ],
          "name": "stdout"
        }
      ]
    },
    {
      "cell_type": "code",
      "metadata": {
        "id": "LEwALWRiCLOC",
        "colab_type": "code",
        "outputId": "2e637786-8cf4-4f6b-e34d-15ec63520ed6",
        "colab": {
          "base_uri": "https://localhost:8080/",
          "height": 34
        }
      },
      "source": [
        "#To remove an item in a set, use the remove(), or the discard() method.\n",
        "\n",
        "new_set.remove('lokman')\n",
        "new_set.discard('omer')\n",
        "new_set"
      ],
      "execution_count": 0,
      "outputs": [
        {
          "output_type": "execute_result",
          "data": {
            "text/plain": [
              "{'alex', 'ali', 'dennis', 'derya', 'john', 'serhat'}"
            ]
          },
          "metadata": {
            "tags": []
          },
          "execution_count": 98
        }
      ]
    },
    {
      "cell_type": "code",
      "metadata": {
        "id": "n9lQC_LICRHt",
        "colab_type": "code",
        "outputId": "cdcff7fa-ebcb-473e-f8e8-6c2d2769a53d",
        "colab": {
          "base_uri": "https://localhost:8080/",
          "height": 34
        }
      },
      "source": [
        "#The union() method returns a new set with all items from both sets:\n",
        "\n",
        "new_set1 = {'lokman','serhat','omer','emir'}\n",
        "new_set2 = {'yasin','enes','ibrahim'}\n",
        "\n",
        "new_set3 = new_set1.union(new_set2)\n",
        "new_set3"
      ],
      "execution_count": 0,
      "outputs": [
        {
          "output_type": "execute_result",
          "data": {
            "text/plain": [
              "{'emir', 'enes', 'ibrahim', 'lokman', 'omer', 'serhat', 'yasin'}"
            ]
          },
          "metadata": {
            "tags": []
          },
          "execution_count": 99
        }
      ]
    },
    {
      "cell_type": "code",
      "metadata": {
        "id": "psCbEgvMDHb0",
        "colab_type": "code",
        "outputId": "0346921f-38dd-452c-c537-0c5f1a462cf4",
        "colab": {
          "base_uri": "https://localhost:8080/",
          "height": 34
        }
      },
      "source": [
        "#Returns whether two sets have a intersection or not\n",
        "\n",
        "new_set4 = {'lokman','serhat','omer'}\n",
        "new_set5 = {'enes','ali','ibrahim'}\n",
        "\n",
        "y = new_set4.isdisjoint(new_set5)\n",
        "print(y)"
      ],
      "execution_count": 0,
      "outputs": [
        {
          "output_type": "stream",
          "text": [
            "True\n"
          ],
          "name": "stdout"
        }
      ]
    },
    {
      "cell_type": "code",
      "metadata": {
        "id": "emqFwsvBDexs",
        "colab_type": "code",
        "outputId": "78fd4ac4-dd67-4551-e47f-916bfb942381",
        "colab": {
          "base_uri": "https://localhost:8080/",
          "height": 34
        }
      },
      "source": [
        "#Returns a set, that is the intersection of two other sets\n",
        "\n",
        "new_set6 = {'lokman','serhat','omer'}\n",
        "new_set7 = {'serhat','omer','ibrahim'}\n",
        "\n",
        "z = new_set6.intersection(new_set7)\n",
        "print(z)"
      ],
      "execution_count": 0,
      "outputs": [
        {
          "output_type": "stream",
          "text": [
            "{'serhat', 'omer'}\n"
          ],
          "name": "stdout"
        }
      ]
    },
    {
      "cell_type": "markdown",
      "metadata": {
        "colab_type": "text",
        "id": "kP-i8FDXE700"
      },
      "source": [
        "<a id=8></a>\n",
        "# ✓ **Conditionals and If-else statements**"
      ]
    },
    {
      "cell_type": "code",
      "metadata": {
        "id": "sxpmYj9nFAxS",
        "colab_type": "code",
        "outputId": "bca6651e-9e73-4034-d7ad-a8763782f406",
        "colab": {
          "base_uri": "https://localhost:8080/",
          "height": 102
        }
      },
      "source": [
        "#What is the conditionals\n",
        "\n",
        "print(1 == 1)\n",
        "print(1 == 2)\n",
        "print(0 != 1)\n",
        "print(4 > 5)\n",
        "print(10 < 11)"
      ],
      "execution_count": 0,
      "outputs": [
        {
          "output_type": "stream",
          "text": [
            "True\n",
            "False\n",
            "True\n",
            "False\n",
            "True\n"
          ],
          "name": "stdout"
        }
      ]
    },
    {
      "cell_type": "code",
      "metadata": {
        "id": "xpdmaCxvcpco",
        "colab_type": "code",
        "outputId": "d52e5660-9cdd-46c0-ed54-648cb26b48db",
        "colab": {
          "base_uri": "https://localhost:8080/",
          "height": 34
        }
      },
      "source": [
        "#If-else statements\n",
        "\n",
        "var100 = 25\n",
        "var101 = 24.9\n",
        "\n",
        "if (var100 > var101):\n",
        "  print(\"Correct!\")\n",
        "elif(var100 == var101):\n",
        "  print(\"Equal!\")\n",
        "else:\n",
        "  print(\"Wrong!\")"
      ],
      "execution_count": 0,
      "outputs": [
        {
          "output_type": "stream",
          "text": [
            "Correct!\n"
          ],
          "name": "stdout"
        }
      ]
    },
    {
      "cell_type": "markdown",
      "metadata": {
        "id": "Y8H81K0XeN2c",
        "colab_type": "text"
      },
      "source": [
        "# **QUIZ AND EXAMPLE**"
      ]
    },
    {
      "cell_type": "code",
      "metadata": {
        "id": "nRn2EcwBdWV6",
        "colab_type": "code",
        "outputId": "6cba0bcd-ce5c-42e5-8601-79d14a266263",
        "colab": {
          "base_uri": "https://localhost:8080/"
        }
      },
      "source": [
        "#Transforming centuries by years\n",
        "#Output int\n",
        "\n",
        "def years_change(year):\n",
        "  \"\"\"\n",
        "  input: year\n",
        "  output: Transforming centuries by years\n",
        "  \"\"\"\n",
        "  str_year = str(year)\n",
        "\n",
        "  if (len(str_year) < 3):\n",
        "    return 1\n",
        "  elif (len(str_year) == 3):\n",
        "    if (str_year[1:3] == \"00\"):\n",
        "      return int(str_year[0])\n",
        "    else:\n",
        "      return int(str_year[0]) + 1\n",
        "  else:\n",
        "    if (str_year[2:4] == \"00\"):\n",
        "      return int(str_year[0:2])\n",
        "    else:\n",
        "      return int(str_year[0:2]) + 1\n",
        "\n",
        "print(years_change(100))\n",
        "print(years_change(88))\n",
        "print(years_change(1000))\n",
        "print(years_change(245))\n",
        "print(years_change(1004))"
      ],
      "execution_count": 0,
      "outputs": [
        {
          "output_type": "stream",
          "text": [
            "1\n",
            "1\n",
            "10\n",
            "3\n",
            "11\n"
          ],
          "name": "stdout"
        }
      ]
    },
    {
      "cell_type": "markdown",
      "metadata": {
        "colab_type": "text",
        "id": "-d1FXYTbhrzV"
      },
      "source": [
        "<a id=8></a>\n",
        "# ✓ **For Loop**"
      ]
    },
    {
      "cell_type": "code",
      "metadata": {
        "id": "dmgccABLhMZ-",
        "colab_type": "code",
        "outputId": "4679eff9-c776-432e-d37e-f8a56ec8a6c7",
        "colab": {
          "base_uri": "https://localhost:8080/",
          "height": 204
        }
      },
      "source": [
        "for each in range(1,12): #1: inclusive 12: exclusive\n",
        "  print(each)"
      ],
      "execution_count": 0,
      "outputs": [
        {
          "output_type": "stream",
          "text": [
            "1\n",
            "2\n",
            "3\n",
            "4\n",
            "5\n",
            "6\n",
            "7\n",
            "8\n",
            "9\n",
            "10\n",
            "11\n"
          ],
          "name": "stdout"
        }
      ]
    },
    {
      "cell_type": "code",
      "metadata": {
        "id": "DAnga_M-iEUb",
        "colab_type": "code",
        "outputId": "59a4d1ec-1f8a-4096-ff5e-dcc960968e0b",
        "colab": {
          "base_uri": "https://localhost:8080/",
          "height": 255
        }
      },
      "source": [
        "for each in 'john and alice':\n",
        "  print(each)"
      ],
      "execution_count": 0,
      "outputs": [
        {
          "output_type": "stream",
          "text": [
            "j\n",
            "o\n",
            "h\n",
            "n\n",
            " \n",
            "a\n",
            "n\n",
            "d\n",
            " \n",
            "a\n",
            "l\n",
            "i\n",
            "c\n",
            "e\n"
          ],
          "name": "stdout"
        }
      ]
    },
    {
      "cell_type": "code",
      "metadata": {
        "id": "4g4OIWd2iPHm",
        "colab_type": "code",
        "outputId": "03e70cae-3f46-44b7-dbbb-437f3aa9a1cd",
        "colab": {
          "base_uri": "https://localhost:8080/",
          "height": 68
        }
      },
      "source": [
        "for each in 'john and alice'.split():\n",
        "  print(each)"
      ],
      "execution_count": 0,
      "outputs": [
        {
          "output_type": "stream",
          "text": [
            "john\n",
            "and\n",
            "alice\n"
          ],
          "name": "stdout"
        }
      ]
    },
    {
      "cell_type": "code",
      "metadata": {
        "id": "hrQA8P04izL6",
        "colab_type": "code",
        "outputId": "240088a1-474c-40a2-a39f-5c03e71f6320",
        "colab": {
          "base_uri": "https://localhost:8080/",
          "height": 187
        }
      },
      "source": [
        "for_list = [1,2,3,4,5,6,7,8,9,10]\n",
        "\n",
        "sum_for_list = sum(for_list)\n",
        "\n",
        "count = 0\n",
        "for each in for_list:\n",
        "  count = count + each\n",
        "  print(count) "
      ],
      "execution_count": 0,
      "outputs": [
        {
          "output_type": "stream",
          "text": [
            "1\n",
            "3\n",
            "6\n",
            "10\n",
            "15\n",
            "21\n",
            "28\n",
            "36\n",
            "45\n",
            "55\n"
          ],
          "name": "stdout"
        }
      ]
    },
    {
      "cell_type": "markdown",
      "metadata": {
        "colab_type": "text",
        "id": "pznSrGJujohw"
      },
      "source": [
        "<a id=8></a>\n",
        "# ✓ **While Loop**"
      ]
    },
    {
      "cell_type": "code",
      "metadata": {
        "id": "EfLC_GNTjVPc",
        "colab_type": "code",
        "outputId": "6c5204b4-5074-4c19-8cf3-e75df02e2175",
        "colab": {
          "base_uri": "https://localhost:8080/",
          "height": 102
        }
      },
      "source": [
        "i = 0\n",
        "while (i < 5):\n",
        "  print(i)\n",
        "  i = i + 1"
      ],
      "execution_count": 0,
      "outputs": [
        {
          "output_type": "stream",
          "text": [
            "0\n",
            "1\n",
            "2\n",
            "3\n",
            "4\n"
          ],
          "name": "stdout"
        }
      ]
    },
    {
      "cell_type": "code",
      "metadata": {
        "id": "MtevKF4dj7hW",
        "colab_type": "code",
        "outputId": "01d9e118-8000-40b2-a065-1df2d40d3cc4",
        "colab": {
          "base_uri": "https://localhost:8080/",
          "height": 34
        }
      },
      "source": [
        "while_list = [1,2,3,4,5,6,7]\n",
        "\n",
        "s = len(while_list)\n",
        "each = 0\n",
        "count_w = 0\n",
        "\n",
        "while (each < s):\n",
        "  count_w = count_w + while_list[each]\n",
        "  each = each + 1\n",
        "\n",
        "print(count_w)"
      ],
      "execution_count": 0,
      "outputs": [
        {
          "output_type": "stream",
          "text": [
            "28\n"
          ],
          "name": "stdout"
        }
      ]
    },
    {
      "cell_type": "markdown",
      "metadata": {
        "colab_type": "text",
        "id": "SH5SBcVOkxvv"
      },
      "source": [
        "# **QUIZ AND EXAMPLE**"
      ]
    },
    {
      "cell_type": "code",
      "metadata": {
        "id": "BEsgQwdskkfB",
        "colab_type": "code",
        "outputId": "d55770fe-e50c-4e55-c4e8-c119348275e3",
        "colab": {
          "base_uri": "https://localhost:8080/"
        }
      },
      "source": [
        "#Find the lowest value in the list\n",
        "\n",
        "quiz_list1 = [1,3,4,53,7556,4534,-304,-103,-645,0,43]\n",
        "\n",
        "min1 = 10000\n",
        "\n",
        "for each in quiz_list1:\n",
        "  if (each < min1):\n",
        "    min1 = each\n",
        "  else:\n",
        "    continue\n",
        "\n",
        "print(min1)"
      ],
      "execution_count": 0,
      "outputs": [
        {
          "output_type": "stream",
          "text": [
            "-645\n"
          ],
          "name": "stdout"
        }
      ]
    },
    {
      "cell_type": "markdown",
      "metadata": {
        "id": "r0iNCJpgmv0k",
        "colab_type": "text"
      },
      "source": [
        "# ✓ **Object Oriented Programming (OOP) - Basic**"
      ]
    },
    {
      "cell_type": "code",
      "metadata": {
        "id": "VZYrGsfPmQ-y",
        "colab_type": "code",
        "outputId": "fdf56f77-082f-4d16-9fb8-387425d29ad3",
        "colab": {
          "base_uri": "https://localhost:8080/",
          "height": 51
        }
      },
      "source": [
        "#Employee list\n",
        "\n",
        "class Employee:\n",
        "\n",
        "  def __init__(self,name,surname,age,departmant):\n",
        "    self.name = name\n",
        "    self.surname = surname\n",
        "    self.age = age\n",
        "    self.departmant = departmant\n",
        "  \n",
        "  def giveNameSurname(self):\n",
        "    return self.name + \" \" + self.surname\n",
        "\n",
        "employee1 = Employee(\"John\",\"David\",22,\"Marketing\")\n",
        "print(employee1)\n",
        "print(employee1.giveNameSurname())"
      ],
      "execution_count": 0,
      "outputs": [
        {
          "output_type": "stream",
          "text": [
            "<__main__.Employee object at 0x7f507a24d828>\n",
            "John David\n"
          ],
          "name": "stdout"
        }
      ]
    },
    {
      "cell_type": "code",
      "metadata": {
        "id": "mwtoC2sImvF_",
        "colab_type": "code",
        "outputId": "9a7ec219-779f-49f5-e054-efca57d2848a",
        "colab": {
          "base_uri": "https://localhost:8080/",
          "height": 51
        }
      },
      "source": [
        "#Stundents list\n",
        "\n",
        "class Students:\n",
        "\n",
        "  score_coefficient = 0.15\n",
        "  counter = 0 #We will use it to learn the number of students.\n",
        "  def __init__(self,stname,stsurname,stage,gender,exam_score,performance_score):\n",
        "    self.stname = stname\n",
        "    self.stsurname = stsurname\n",
        "    self.stage = stage\n",
        "    self.gender = gender\n",
        "    self.exam_score = int(exam_score)\n",
        "    self.performance_score = performance_score\n",
        "\n",
        "    Students.counter = Students.counter + 1 #We will use it to learn the number of students.\n",
        "  \n",
        "  def studentNameSurname(self):\n",
        "    return self.stname + \" \" + self.stsurname\n",
        "\n",
        "  def giveGender(self):\n",
        "    return self.stname + \" \" + self.stsurname + \" is \" + self.gender + \"!\"\n",
        "  \n",
        "  def updatePerformanceScore(self):\n",
        "    self.performance_score = (self.exam_score * self.score_coefficient) + self.performance_score\n",
        "\n",
        "student1 = Students(\"Jack\",\"Dennis\",19,\"Male\",70,60)\n",
        "print(student1)\n",
        "print(student1.giveGender())"
      ],
      "execution_count": 0,
      "outputs": [
        {
          "output_type": "stream",
          "text": [
            "<__main__.Students object at 0x7f507a1a79e8>\n",
            "Jack Dennis is Male!\n"
          ],
          "name": "stdout"
        }
      ]
    },
    {
      "cell_type": "code",
      "metadata": {
        "id": "_aBwR-bMpgvc",
        "colab_type": "code",
        "outputId": "524fad5c-c5cd-408f-b2c1-ace80fe55e28",
        "colab": {
          "base_uri": "https://localhost:8080/",
          "height": 136
        }
      },
      "source": [
        "#Class Variable\n",
        "#We have created our student class above and we want to update these students' performance grades.\n",
        "\n",
        "student2 = Students(\"John\",\"Oracle\",22,\"Male\",70,65)\n",
        "print(\"Student's Name:\", student2.stname)\n",
        "print(\"Student's Surname:\", student2.stsurname)\n",
        "print(\"How old is he?:\", student2.stage)\n",
        "print(\"Student's Gender:\", student2.gender)\n",
        "print(\"Student's Exam Score:\", student2.exam_score)\n",
        "print(\"Student's Performance Score:\", student2.performance_score)\n",
        "student2.updatePerformanceScore() #updated performance\n",
        "print(\"Updated Student's Performance Score:\", student2.performance_score)"
      ],
      "execution_count": 0,
      "outputs": [
        {
          "output_type": "stream",
          "text": [
            "Student's Name: John\n",
            "Student's Surname: Oracle\n",
            "How old is he?: 22\n",
            "Student's Gender: Male\n",
            "Student's Exam Score: 70\n",
            "Student's Performance Score: 65\n",
            "Updated Student's Performance Score: 75.5\n"
          ],
          "name": "stdout"
        }
      ]
    },
    {
      "cell_type": "code",
      "metadata": {
        "id": "Cmu5zXC5D1Nc",
        "colab_type": "code",
        "colab": {}
      },
      "source": [
        "#Create a new student\n",
        "student3 = Students(\"Kate\",\"Lose\",20,\"Female\",70,55)\n",
        "student4 = Students(\"Angelica\",\"Rose\",27,\"Female\",90,60)"
      ],
      "execution_count": 0,
      "outputs": []
    },
    {
      "cell_type": "code",
      "metadata": {
        "id": "pVSt9ZQQ_m6J",
        "colab_type": "code",
        "outputId": "8aacbf27-a002-43aa-d906-a385d139bdae",
        "colab": {
          "base_uri": "https://localhost:8080/",
          "height": 34
        }
      },
      "source": [
        "#How many students do we have?\n",
        "Students.counter"
      ],
      "execution_count": 0,
      "outputs": [
        {
          "output_type": "execute_result",
          "data": {
            "text/plain": [
              "4"
            ]
          },
          "metadata": {
            "tags": []
          },
          "execution_count": 116
        }
      ]
    },
    {
      "cell_type": "code",
      "metadata": {
        "id": "droMVhdYFWCN",
        "colab_type": "code",
        "outputId": "6488359b-147d-4a51-eddd-ed71927a123b",
        "colab": {
          "base_uri": "https://localhost:8080/",
          "height": 85
        }
      },
      "source": [
        "#Create a list\n",
        "students_list = [student1,student2,student3,student4]\n",
        "students_list"
      ],
      "execution_count": 0,
      "outputs": [
        {
          "output_type": "execute_result",
          "data": {
            "text/plain": [
              "[<__main__.Students at 0x7f507a1a79e8>,\n",
              " <__main__.Students at 0x7f507a1dc630>,\n",
              " <__main__.Students at 0x7f507a1dcb00>,\n",
              " <__main__.Students at 0x7f507a1dc748>]"
            ]
          },
          "metadata": {
            "tags": []
          },
          "execution_count": 117
        }
      ]
    },
    {
      "cell_type": "code",
      "metadata": {
        "id": "3IhR06poFeDm",
        "colab_type": "code",
        "outputId": "62982baf-e0ac-4bb3-ae06-82c2a9ff7755",
        "colab": {
          "base_uri": "https://localhost:8080/",
          "height": 51
        }
      },
      "source": [
        "#Top rated student?\n",
        "\n",
        "max_examscore = -1\n",
        "\n",
        "for each in students_list:\n",
        "  if (each.exam_score > max_examscore):\n",
        "    max_examscore = each.exam_score\n",
        "    index = each\n",
        "print(max_examscore)\n",
        "\n",
        "#The highest grade is determined, but who got it?\n",
        "print(index.studentNameSurname())\n",
        "\n"
      ],
      "execution_count": 0,
      "outputs": [
        {
          "output_type": "stream",
          "text": [
            "90\n",
            "Angelica Rose\n"
          ],
          "name": "stdout"
        }
      ]
    },
    {
      "cell_type": "markdown",
      "metadata": {
        "id": "_SvMp1QVL2K0",
        "colab_type": "text"
      },
      "source": [
        "# ✓ **Numpy Basics**"
      ]
    },
    {
      "cell_type": "code",
      "metadata": {
        "id": "eq6J0vnyL6CI",
        "colab_type": "code",
        "colab": {}
      },
      "source": [
        "#import\n",
        "import numpy as np"
      ],
      "execution_count": 0,
      "outputs": []
    },
    {
      "cell_type": "code",
      "metadata": {
        "id": "zrxBQMs7NSEz",
        "colab_type": "code",
        "outputId": "b4f79285-84c3-4932-e771-14ca0b8ec3cc",
        "colab": {
          "base_uri": "https://localhost:8080/",
          "height": 34
        }
      },
      "source": [
        "#array\n",
        "array = np.array([1,2,3,4,5,6,7,8,9,10,11,12,13,14,15])\n",
        "array"
      ],
      "execution_count": 0,
      "outputs": [
        {
          "output_type": "execute_result",
          "data": {
            "text/plain": [
              "array([ 1,  2,  3,  4,  5,  6,  7,  8,  9, 10, 11, 12, 13, 14, 15])"
            ]
          },
          "metadata": {
            "tags": []
          },
          "execution_count": 120
        }
      ]
    },
    {
      "cell_type": "code",
      "metadata": {
        "id": "iOTJfqx0Naho",
        "colab_type": "code",
        "outputId": "c8ba6d1e-4a6f-446a-f724-954b5b5a6da6",
        "colab": {
          "base_uri": "https://localhost:8080/",
          "height": 170
        }
      },
      "source": [
        "#shape and reshape\n",
        "\n",
        "print(\"array's shape:\", array.shape)\n",
        "a = array.reshape(3,5)\n",
        "print(a)\n",
        "\n",
        "#dimension\n",
        "print(\"dimension array:\", array.ndim)\n",
        "print(\"dimension a:\", a.ndim)\n",
        "\n",
        "#value is data type\n",
        "print(\"data type:\", a.dtype.name)\n",
        "\n",
        "#size\n",
        "print(\"size:\", a.size)\n",
        "\n",
        "#type function\n",
        "print(type(a))"
      ],
      "execution_count": 0,
      "outputs": [
        {
          "output_type": "stream",
          "text": [
            "array's shape: (15,)\n",
            "[[ 1  2  3  4  5]\n",
            " [ 6  7  8  9 10]\n",
            " [11 12 13 14 15]]\n",
            "dimension array: 1\n",
            "dimension a: 2\n",
            "data type: int64\n",
            "size: 15\n",
            "<class 'numpy.ndarray'>\n"
          ],
          "name": "stdout"
        }
      ]
    },
    {
      "cell_type": "code",
      "metadata": {
        "id": "2qFuouGRNswO",
        "colab_type": "code",
        "outputId": "24e48835-86ae-4fd8-8de7-fbd93697208a",
        "colab": {
          "base_uri": "https://localhost:8080/",
          "height": 34
        }
      },
      "source": [
        "#New array 2D\n",
        "\n",
        "array1 = np.array([[2,3,4,5,6],[7,8,9,10,11]])\n",
        "array1\n",
        "\n",
        "print(array1.shape)"
      ],
      "execution_count": 0,
      "outputs": [
        {
          "output_type": "stream",
          "text": [
            "(2, 5)\n"
          ],
          "name": "stdout"
        }
      ]
    },
    {
      "cell_type": "code",
      "metadata": {
        "id": "e8steHiZPF9m",
        "colab_type": "code",
        "outputId": "745a7233-3daa-4033-8729-f80c8a86b9fb",
        "colab": {
          "base_uri": "https://localhost:8080/",
          "height": 85
        }
      },
      "source": [
        "#np.zeros\n",
        "\n",
        "zeros = np.zeros((4,5))\n",
        "\n",
        "#zeros update\n",
        "zeros[0,0] = 5\n",
        "print(zeros)"
      ],
      "execution_count": 0,
      "outputs": [
        {
          "output_type": "stream",
          "text": [
            "[[5. 0. 0. 0. 0.]\n",
            " [0. 0. 0. 0. 0.]\n",
            " [0. 0. 0. 0. 0.]\n",
            " [0. 0. 0. 0. 0.]]\n"
          ],
          "name": "stdout"
        }
      ]
    },
    {
      "cell_type": "code",
      "metadata": {
        "id": "gTtBbZofPYjQ",
        "colab_type": "code",
        "outputId": "f9492309-5a7f-4741-9705-1317f489ce24",
        "colab": {
          "base_uri": "https://localhost:8080/",
          "height": 68
        }
      },
      "source": [
        "#np.ones\n",
        "\n",
        "np.ones((3,4))"
      ],
      "execution_count": 0,
      "outputs": [
        {
          "output_type": "execute_result",
          "data": {
            "text/plain": [
              "array([[1., 1., 1., 1.],\n",
              "       [1., 1., 1., 1.],\n",
              "       [1., 1., 1., 1.]])"
            ]
          },
          "metadata": {
            "tags": []
          },
          "execution_count": 124
        }
      ]
    },
    {
      "cell_type": "code",
      "metadata": {
        "id": "Y4dl5BKKP1U0",
        "colab_type": "code",
        "colab": {}
      },
      "source": [
        "#np.empty\n",
        "\n",
        "# p = np.empty((3,4))\n",
        "# print(p)"
      ],
      "execution_count": 0,
      "outputs": []
    },
    {
      "cell_type": "code",
      "metadata": {
        "id": "0klvtgZXP51e",
        "colab_type": "code",
        "outputId": "976e6f64-f762-4614-d14d-51cc1655ec41",
        "colab": {
          "base_uri": "https://localhost:8080/",
          "height": 34
        }
      },
      "source": [
        "#np.arange\n",
        "\n",
        "np.arange(10,50,5)"
      ],
      "execution_count": 0,
      "outputs": [
        {
          "output_type": "execute_result",
          "data": {
            "text/plain": [
              "array([10, 15, 20, 25, 30, 35, 40, 45])"
            ]
          },
          "metadata": {
            "tags": []
          },
          "execution_count": 126
        }
      ]
    },
    {
      "cell_type": "code",
      "metadata": {
        "id": "lc50SDrGQNve",
        "colab_type": "code",
        "outputId": "0148c782-42cb-4e10-fd9d-7f5c8eadef5c",
        "colab": {
          "base_uri": "https://localhost:8080/",
          "height": 85
        }
      },
      "source": [
        "#np.linspace\n",
        "\n",
        "np.linspace(10,50,20)"
      ],
      "execution_count": 0,
      "outputs": [
        {
          "output_type": "execute_result",
          "data": {
            "text/plain": [
              "array([10.        , 12.10526316, 14.21052632, 16.31578947, 18.42105263,\n",
              "       20.52631579, 22.63157895, 24.73684211, 26.84210526, 28.94736842,\n",
              "       31.05263158, 33.15789474, 35.26315789, 37.36842105, 39.47368421,\n",
              "       41.57894737, 43.68421053, 45.78947368, 47.89473684, 50.        ])"
            ]
          },
          "metadata": {
            "tags": []
          },
          "execution_count": 127
        }
      ]
    },
    {
      "cell_type": "code",
      "metadata": {
        "id": "qEku1eP3Q74F",
        "colab_type": "code",
        "outputId": "e17c4d44-777d-4b75-c34e-84963c0e1049",
        "colab": {
          "base_uri": "https://localhost:8080/",
          "height": 102
        }
      },
      "source": [
        "#np.random\n",
        "\n",
        "c = np.random.random((5,5))\n",
        "print(c.sum())\n",
        "print(c.max())\n",
        "print(c.min())\n",
        "print(c.sum(axis=0))\n",
        "print(c.sum(axis=1))"
      ],
      "execution_count": 0,
      "outputs": [
        {
          "output_type": "stream",
          "text": [
            "11.091344912475156\n",
            "0.9595353771991304\n",
            "0.08489486716355199\n",
            "[2.81236731 1.09016832 2.67600372 2.55982474 1.95298083]\n",
            "[2.65308072 3.18542223 0.7741752  2.33310917 2.1455576 ]\n"
          ],
          "name": "stdout"
        }
      ]
    },
    {
      "cell_type": "code",
      "metadata": {
        "id": "xruWe-YWSn8_",
        "colab_type": "code",
        "outputId": "218a1eef-d125-4086-aa04-c0e5f2f2f5ec",
        "colab": {
          "base_uri": "https://localhost:8080/",
          "height": 204
        }
      },
      "source": [
        "#np.sqrt and np.square\n",
        "\n",
        "print(np.sqrt(c))\n",
        "print(\"#######################\")\n",
        "print(np.square(c))"
      ],
      "execution_count": 0,
      "outputs": [
        {
          "output_type": "stream",
          "text": [
            "[[0.94661862 0.47697368 0.65034068 0.7128491  0.77355877]\n",
            " [0.6752186  0.5664192  0.97955877 0.94642192 0.74392307]\n",
            " [0.40238236 0.492728   0.41372044 0.29136724 0.33678373]\n",
            " [0.74399528 0.35537912 0.76358007 0.9484267  0.41318053]\n",
            " [0.86308736 0.41564228 0.73437471 0.41418398 0.7190443 ]]\n",
            "#######################\n",
            "[[0.80297158 0.05175802 0.17888078 0.25822032 0.35807438]\n",
            " [0.20786319 0.10293235 0.92070814 0.80230438 0.30627539]\n",
            " [0.02621535 0.05894256 0.02929732 0.00720714 0.01286484]\n",
            " [0.30639433 0.01595025 0.33995257 0.80912402 0.02914469]\n",
            " [0.5549055  0.0298455  0.2908512  0.02942884 0.26731455]]\n"
          ],
          "name": "stdout"
        }
      ]
    },
    {
      "cell_type": "code",
      "metadata": {
        "id": "m0R7bZrMTDf5",
        "colab_type": "code",
        "outputId": "9f100cd9-be7a-4109-c019-5b05dea66d31",
        "colab": {
          "base_uri": "https://localhost:8080/",
          "height": 102
        }
      },
      "source": [
        "#np.add\n",
        "\n",
        "print(np.add(c,c))"
      ],
      "execution_count": 0,
      "outputs": [
        {
          "output_type": "stream",
          "text": [
            "[[1.79217363 0.45500779 0.84588599 1.01630768 1.19678634]\n",
            " [0.91184032 0.64166142 1.91907075 1.7914289  1.10684306]\n",
            " [0.32382312 0.48556177 0.34232921 0.16978973 0.22684656]\n",
            " [1.10705796 0.25258864 1.16610903 1.79902642 0.34143629]\n",
            " [1.48983959 0.34551702 1.07861244 0.34309674 1.03404941]]\n"
          ],
          "name": "stdout"
        }
      ]
    },
    {
      "cell_type": "code",
      "metadata": {
        "id": "rBorCC_KQej_",
        "colab_type": "code",
        "outputId": "a67a9da1-bdd6-4f1c-8214-15737d6054af",
        "colab": {
          "base_uri": "https://localhost:8080/",
          "height": 136
        }
      },
      "source": [
        "#Basic operations\n",
        "\n",
        "array5 = np.array([1,2,3,4,5,6,7,8,9])\n",
        "array6 = np.array([10,11,12,13,14,15,16,17,18])\n",
        "\n",
        "print(array5 + array6)\n",
        "print(array5 - array6)\n",
        "print(array5**2)\n",
        "print(np.sin(array5))\n",
        "print(array5 < 6)\n",
        "print(array5 * array6)"
      ],
      "execution_count": 0,
      "outputs": [
        {
          "output_type": "stream",
          "text": [
            "[11 13 15 17 19 21 23 25 27]\n",
            "[-9 -9 -9 -9 -9 -9 -9 -9 -9]\n",
            "[ 1  4  9 16 25 36 49 64 81]\n",
            "[ 0.84147098  0.90929743  0.14112001 -0.7568025  -0.95892427 -0.2794155\n",
            "  0.6569866   0.98935825  0.41211849]\n",
            "[ True  True  True  True  True False False False False]\n",
            "[ 10  22  36  52  70  90 112 136 162]\n"
          ],
          "name": "stdout"
        }
      ]
    },
    {
      "cell_type": "code",
      "metadata": {
        "id": "Pg6Gpqe2R6yX",
        "colab_type": "code",
        "outputId": "2c69faa5-00ee-4084-d800-99ddb556f7de",
        "colab": {
          "base_uri": "https://localhost:8080/",
          "height": 187
        }
      },
      "source": [
        "#Indexing and Slicing\n",
        "\n",
        "array_new = np.array([4,5,6,7,8,9])\n",
        "print(array_new)\n",
        "\n",
        "#Call Index\n",
        "print(array_new[2])\n",
        "print(array_new[0:3])\n",
        "\n",
        "#Reverse\n",
        "reverse_array_new = array_new[::-1]\n",
        "print(reverse_array_new)\n",
        "\n",
        "#New array 2d\n",
        "array_new_2d = np.array([[2,3,4,5],[6,7,8,9]])\n",
        "print(array_new_2d)\n",
        "\n",
        "#Call Index 2d\n",
        "print(array_new_2d[1,1])\n",
        "print(array_new_2d[:,1])\n",
        "print(array_new_2d[1,1:4])\n",
        "print(array_new_2d[-1,:])"
      ],
      "execution_count": 0,
      "outputs": [
        {
          "output_type": "stream",
          "text": [
            "[4 5 6 7 8 9]\n",
            "6\n",
            "[4 5 6]\n",
            "[9 8 7 6 5 4]\n",
            "[[2 3 4 5]\n",
            " [6 7 8 9]]\n",
            "7\n",
            "[3 7]\n",
            "[7 8 9]\n",
            "[6 7 8 9]\n"
          ],
          "name": "stdout"
        }
      ]
    },
    {
      "cell_type": "code",
      "metadata": {
        "id": "2WxQnD2vTUhV",
        "colab_type": "code",
        "outputId": "c2988d43-9f3c-412a-96f1-6e0bc2a39f3b",
        "colab": {
          "base_uri": "https://localhost:8080/",
          "height": 68
        }
      },
      "source": [
        "#Shape Manipulation\n",
        "\n",
        "array_new_3d = np.array([[2,3,4,5],[6,7,8,9],[10,11,12,13]])\n",
        "print(array_new_3d)"
      ],
      "execution_count": 0,
      "outputs": [
        {
          "output_type": "stream",
          "text": [
            "[[ 2  3  4  5]\n",
            " [ 6  7  8  9]\n",
            " [10 11 12 13]]\n"
          ],
          "name": "stdout"
        }
      ]
    },
    {
      "cell_type": "code",
      "metadata": {
        "id": "QY4R_2imXpWp",
        "colab_type": "code",
        "outputId": "77a42d40-472b-4a8c-fc20-95c87bd8ab23",
        "colab": {
          "base_uri": "https://localhost:8080/",
          "height": 34
        }
      },
      "source": [
        "#ravel command\n",
        "f = array_new_3d.ravel()\n",
        "f"
      ],
      "execution_count": 0,
      "outputs": [
        {
          "output_type": "execute_result",
          "data": {
            "text/plain": [
              "array([ 2,  3,  4,  5,  6,  7,  8,  9, 10, 11, 12, 13])"
            ]
          },
          "metadata": {
            "tags": []
          },
          "execution_count": 134
        }
      ]
    },
    {
      "cell_type": "code",
      "metadata": {
        "id": "lb-1v39gXyhB",
        "colab_type": "code",
        "outputId": "369308d3-6c3f-41ce-9d6d-82e708fef812",
        "colab": {
          "base_uri": "https://localhost:8080/",
          "height": 85
        }
      },
      "source": [
        "#Return\n",
        "g = f.reshape(4,3)\n",
        "g"
      ],
      "execution_count": 0,
      "outputs": [
        {
          "output_type": "execute_result",
          "data": {
            "text/plain": [
              "array([[ 2,  3,  4],\n",
              "       [ 5,  6,  7],\n",
              "       [ 8,  9, 10],\n",
              "       [11, 12, 13]])"
            ]
          },
          "metadata": {
            "tags": []
          },
          "execution_count": 135
        }
      ]
    },
    {
      "cell_type": "code",
      "metadata": {
        "id": "QhrD8KdtYXY8",
        "colab_type": "code",
        "outputId": "da8b9cfe-c4dc-48e0-aa6c-b7d0f4c5a54a",
        "colab": {
          "base_uri": "https://localhost:8080/",
          "height": 204
        }
      },
      "source": [
        "#reshape vs resize\n",
        "\n",
        "array99 = np.array([[2,3,4,5],[6,7,8,9]])\n",
        "print(array99.reshape(4,2))\n",
        "print(array99) #not change!\n",
        "print(\"#################\")\n",
        "#resize\n",
        "array100 = np.array([[1,2,3,4],[5,6,7,8]])\n",
        "array100.resize((4,2))\n",
        "print(array100) #change!"
      ],
      "execution_count": 0,
      "outputs": [
        {
          "output_type": "stream",
          "text": [
            "[[2 3]\n",
            " [4 5]\n",
            " [6 7]\n",
            " [8 9]]\n",
            "[[2 3 4 5]\n",
            " [6 7 8 9]]\n",
            "#################\n",
            "[[1 2]\n",
            " [3 4]\n",
            " [5 6]\n",
            " [7 8]]\n"
          ],
          "name": "stdout"
        }
      ]
    },
    {
      "cell_type": "code",
      "metadata": {
        "id": "lgqKf3uaZaGO",
        "colab_type": "code",
        "outputId": "331d830f-d875-49fa-b2d7-bafc95cd6ba8",
        "colab": {
          "base_uri": "https://localhost:8080/",
          "height": 238
        }
      },
      "source": [
        "#Stacking Arrays\n",
        "\n",
        "array101 = np.array([[1,2,3,4],[5,6,7,8]])\n",
        "array102 = np.array([[-1,-2,-3,-4],[-5,-6,-7,-8]])\n",
        "\n",
        "print(array101)\n",
        "print('----------')\n",
        "print(array102)\n",
        "print('---------- Vertical')\n",
        "\n",
        "#vertical combining\n",
        "array103 = np.vstack((array101,array102))\n",
        "print(array103)\n",
        "print('---------- Horizontal')\n",
        "\n",
        "#horizontal combining\n",
        "array104 = np.hstack((array101,array102))\n",
        "print(array104)"
      ],
      "execution_count": 0,
      "outputs": [
        {
          "output_type": "stream",
          "text": [
            "[[1 2 3 4]\n",
            " [5 6 7 8]]\n",
            "----------\n",
            "[[-1 -2 -3 -4]\n",
            " [-5 -6 -7 -8]]\n",
            "---------- Vertical\n",
            "[[ 1  2  3  4]\n",
            " [ 5  6  7  8]\n",
            " [-1 -2 -3 -4]\n",
            " [-5 -6 -7 -8]]\n",
            "---------- Horizontal\n",
            "[[ 1  2  3  4 -1 -2 -3 -4]\n",
            " [ 5  6  7  8 -5 -6 -7 -8]]\n"
          ],
          "name": "stdout"
        }
      ]
    },
    {
      "cell_type": "code",
      "metadata": {
        "id": "thkyoumzZ8WY",
        "colab_type": "code",
        "outputId": "5742eca7-ba7f-42ce-81f6-844c36e4bd12",
        "colab": {
          "base_uri": "https://localhost:8080/",
          "height": 51
        }
      },
      "source": [
        "#Convert and Copy Array\n",
        "\n",
        "list_new94 = [1,2,3,4,5]\n",
        "array_listnew = np.array([5,6,7,8])\n",
        "\n",
        "#Convert to array\n",
        "array_listnew94 = np.array(list_new94)\n",
        "print(array_listnew94)\n",
        "\n",
        "#Convert to list\n",
        "list_new95 = list(array_listnew)\n",
        "print(list_new95)"
      ],
      "execution_count": 0,
      "outputs": [
        {
          "output_type": "stream",
          "text": [
            "[1 2 3 4 5]\n",
            "[5, 6, 7, 8]\n"
          ],
          "name": "stdout"
        }
      ]
    },
    {
      "cell_type": "markdown",
      "metadata": {
        "id": "X3PpYFNHb89w",
        "colab_type": "text"
      },
      "source": [
        "# **BIG! QUIZ AND EXAMPLE**\n",
        "Let's prepare a general review and study of all we've learned.\n",
        "\n",
        "**Tasks:**\n",
        "* Create 5 numeric and string variables\n",
        "* Make examples of all functions\n",
        "* Use all data types, create instances for all of them, and make selections and deletions.\n",
        "* If-else, make the corresponding example.\n",
        "* Examples and repeats with for and while loops\n",
        "* Make examples with object - based programming\n",
        "* Do all functions with Numpy-related examples!"
      ]
    },
    {
      "cell_type": "markdown",
      "metadata": {
        "id": "BLHfDkjlJ2eN",
        "colab_type": "text"
      },
      "source": [
        "**Mission 1:** Create 5 numeric and string variables.\n",
        "\n",
        "* 5 create variables and do related operations, print them according to operations."
      ]
    },
    {
      "cell_type": "code",
      "metadata": {
        "id": "zb-CcDtla4Ls",
        "colab_type": "code",
        "outputId": "030ddda3-b343-427f-cd66-441b17523728",
        "colab": {
          "base_uri": "https://localhost:8080/"
        }
      },
      "source": [
        "#Create 5 numeric and string variables\n",
        "\n",
        "#numeric variable\n",
        "numeric_variable1 = 10\n",
        "numeric_variable2 = 20.5\n",
        "numeric_variable3 = 40\n",
        "numeric_variable4 = 50\n",
        "numeric_variable5 = -100\n",
        "\n",
        "#string\n",
        "string_variable10 = \"apple\"\n",
        "string_variable20 = \"200\"\n",
        "string_variable30 = \"banana\"\n",
        "string_variable40 = \"country\"\n",
        "string_variable50 = \"500\"\n",
        "\n",
        "#operations and printing\n",
        "\n",
        "print(numeric_variable1)\n",
        "\n",
        "printed_value = ((numeric_variable1 * numeric_variable3) + (numeric_variable5 + numeric_variable2) + 1000)\n",
        "print(printed_value)\n",
        "\n",
        "print(string_variable10, string_variable30)\n",
        "print(string_variable20 + string_variable50)"
      ],
      "execution_count": 0,
      "outputs": [
        {
          "output_type": "stream",
          "text": [
            "10\n",
            "1320.5\n",
            "apple banana\n",
            "200500\n"
          ],
          "name": "stdout"
        }
      ]
    },
    {
      "cell_type": "markdown",
      "metadata": {
        "colab_type": "text",
        "id": "pYg-KG8BKI9m"
      },
      "source": [
        "**Mission 2:** Make examples of all functions\n",
        "\n",
        "* Let's make simple and repeating examples about all the functions shown."
      ]
    },
    {
      "cell_type": "code",
      "metadata": {
        "id": "sR0LSCzXIg4f",
        "colab_type": "code",
        "outputId": "d282e2b0-5bd7-4253-967a-db17fd0bad9d",
        "colab": {
          "base_uri": "https://localhost:8080/"
        }
      },
      "source": [
        "#built-in function example\n",
        "\n",
        "#Change integer to float\n",
        "value_int = 100\n",
        "print(float(value_int))\n",
        "\n",
        "#Change float to integer\n",
        "value_float = 20.5\n",
        "print(int(value_float))\n",
        "\n",
        "#type function\n",
        "value_string = \"it is a banana\"\n",
        "print(type(value_string))\n",
        "\n",
        "#len function\n",
        "print(len(value_string))\n",
        "\n",
        "#abs function\n",
        "value_abs = -100\n",
        "print(abs(value_abs))\n",
        "\n",
        "#string upper function\n",
        "print(value_string.upper())\n",
        "\n",
        "#string title function\n",
        "print(value_string.title())"
      ],
      "execution_count": 0,
      "outputs": [
        {
          "output_type": "stream",
          "text": [
            "100.0\n",
            "20\n",
            "<class 'str'>\n",
            "14\n",
            "100\n",
            "IT IS A BANANA\n",
            "It Is A Banana\n"
          ],
          "name": "stdout"
        }
      ]
    },
    {
      "cell_type": "code",
      "metadata": {
        "id": "ociqGJ2BK2Qc",
        "colab_type": "code",
        "outputId": "4472f10d-c13c-48fa-cc2a-cf926eb2c19b",
        "colab": {
          "base_uri": "https://localhost:8080/"
        }
      },
      "source": [
        "#user defined function\n",
        "#Automatically multiplying the two values and dividing the resulting value by 100\n",
        "\n",
        "def auto_calculate(a_variable,b_variable):\n",
        "  output_variable = (a_variable * b_variable) / 100\n",
        "  return output_variable\n",
        "\n",
        "auto_calculate(100,200)"
      ],
      "execution_count": 0,
      "outputs": [
        {
          "output_type": "execute_result",
          "data": {
            "text/plain": [
              "200.0"
            ]
          },
          "metadata": {
            "tags": []
          },
          "execution_count": 141
        }
      ]
    },
    {
      "cell_type": "code",
      "metadata": {
        "id": "QQMgu_PmMTvH",
        "colab_type": "code",
        "outputId": "aeca9927-2ad7-46cb-8ef4-77b918d2eeb9",
        "colab": {
          "base_uri": "https://localhost:8080/"
        }
      },
      "source": [
        "#default and flexible function\n",
        "#Calculate the division of the two values automatically multiplied by 100 and then make the sum with the standard given value. In addition, if the user has entered an extra value, the extra value entered must be subtracted from the number.\n",
        "\n",
        "def auto_calculate2(c_variable,d_variable,f_variable = 40):\n",
        "  output_variable2 = ((c_variable * d_variable) / 100) + f_variable\n",
        "  return output_variable2\n",
        "\n",
        "auto_calculate2(200,200)\n",
        "\n",
        "#flexible function\n",
        "\"\"\"\n",
        "Calculate the division of the two values automatically multiplied by 100 and then make the sum with the standard given value. \n",
        "In addition, if the user has entered an extra value, the extra value entered must be subtracted from the number.\n",
        "\"\"\"\n",
        "\n",
        "def auto_calculate3(x_variable,y_variable,z_variable = 50, *args):\n",
        "  print(args)\n",
        "  output_variable3 = (((x_variable * y_variable) / 100) + z_variable) - args[0]\n",
        "  return output_variable3\n",
        "\n",
        "auto_calculate3(100,200,50,40)"
      ],
      "execution_count": 0,
      "outputs": [
        {
          "output_type": "stream",
          "text": [
            "(40,)\n"
          ],
          "name": "stdout"
        },
        {
          "output_type": "execute_result",
          "data": {
            "text/plain": [
              "210.0"
            ]
          },
          "metadata": {
            "tags": []
          },
          "execution_count": 142
        }
      ]
    },
    {
      "cell_type": "markdown",
      "metadata": {
        "id": "uqD4FSZXO5Pj",
        "colab_type": "text"
      },
      "source": [
        "**Mission 3:** Use all data types, create instances for all of them, and make selections and deletions."
      ]
    },
    {
      "cell_type": "code",
      "metadata": {
        "id": "_vdgQtaaO7aV",
        "colab_type": "code",
        "outputId": "0fd07880-3175-4bed-8859-e68d0f499983",
        "colab": {
          "base_uri": "https://localhost:8080/"
        }
      },
      "source": [
        "#Data type; list\n",
        "\n",
        "datatype_list = [1,2,3,4,5,6,7,8,9,10]\n",
        "\n",
        "#list indexing\n",
        "print(datatype_list[0])\n",
        "print(datatype_list[1:3])\n",
        "print(datatype_list[-1])\n",
        "print(datatype_list[-4:-1])\n",
        "print(datatype_list[::-1])\n",
        "\n",
        "#list function\n",
        "print(\"-----------\")\n",
        "\n",
        "datatype_list.append(11)\n",
        "print(\"Append Function:\", datatype_list)\n",
        "\n",
        "datatype_list.remove(7)\n",
        "print(\"Remove Function:\", datatype_list)\n",
        "\n",
        "datatype_listcopy = datatype_list.copy()\n",
        "print(\"Copy Function:\", datatype_listcopy)\n",
        "\n",
        "datatype_listcopy.clear()\n",
        "print(\"Clear Function:\", datatype_listcopy)\n",
        "\n",
        "datatype_list.sort()\n",
        "print(\"Sort Function:\", datatype_list)\n",
        "\n",
        "datatype_list.count(6)\n",
        "print(\"Count Function:\", datatype_list)\n",
        "\n",
        "datatype_list.pop(0)\n",
        "print(datatype_list)"
      ],
      "execution_count": 0,
      "outputs": [
        {
          "output_type": "stream",
          "text": [
            "1\n",
            "[2, 3]\n",
            "10\n",
            "[7, 8, 9]\n",
            "[10, 9, 8, 7, 6, 5, 4, 3, 2, 1]\n",
            "-----------\n",
            "Append Function: [1, 2, 3, 4, 5, 6, 7, 8, 9, 10, 11]\n",
            "Remove Function: [1, 2, 3, 4, 5, 6, 8, 9, 10, 11]\n",
            "Copy Function: [1, 2, 3, 4, 5, 6, 8, 9, 10, 11]\n",
            "Clear Function: []\n",
            "Sort Function: [1, 2, 3, 4, 5, 6, 8, 9, 10, 11]\n",
            "Count Function: [1, 2, 3, 4, 5, 6, 8, 9, 10, 11]\n",
            "[2, 3, 4, 5, 6, 8, 9, 10, 11]\n"
          ],
          "name": "stdout"
        }
      ]
    },
    {
      "cell_type": "code",
      "metadata": {
        "id": "5bYQJbBdjLKJ",
        "colab_type": "code",
        "outputId": "cb65b74d-6b75-4be7-b393-9fd50715d82b",
        "colab": {
          "base_uri": "https://localhost:8080/"
        }
      },
      "source": [
        "#Data type; dictionary\n",
        "\n",
        "datatype_dictionary = {\"Name\": \"John\",\n",
        "                       \"Surname\": \"David\",\n",
        "                       \"Age\" : 19,\n",
        "                       \"Gender\": \"Male\",\n",
        "                       \"Job\": \"Doctor\",\n",
        "                       \"Lucky Number\": 20}\n",
        "\n",
        "print(\"Dictionary:\", datatype_dictionary)\n",
        "\n",
        "#dictionary indexing!\n",
        "\n",
        "print(datatype_dictionary[\"Name\"])\n",
        "print(datatype_dictionary[\"Age\"])\n",
        "datatype_dictionary[\"John's Father\"] = \"Mike\"\n",
        "print(datatype_dictionary)"
      ],
      "execution_count": 0,
      "outputs": [
        {
          "output_type": "stream",
          "text": [
            "Dictionary: {'Name': 'John', 'Surname': 'David', 'Age': 19, 'Gender': 'Male', 'Job': 'Doctor', 'Lucky Number': 20}\n",
            "John\n",
            "19\n",
            "{'Name': 'John', 'Surname': 'David', 'Age': 19, 'Gender': 'Male', 'Job': 'Doctor', 'Lucky Number': 20, \"John's Father\": 'Mike'}\n"
          ],
          "name": "stdout"
        }
      ]
    },
    {
      "cell_type": "code",
      "metadata": {
        "id": "FeBfGqhikVft",
        "colab_type": "code",
        "outputId": "4cf900b0-4f27-4b04-bf46-b031ff68b74a",
        "colab": {
          "base_uri": "https://localhost:8080/"
        }
      },
      "source": [
        "#Data type; tuple\n",
        "\n",
        "datatype_tuple = (1,2,3,4,5,6,7,8,9,10)\n",
        "\n",
        "print(\"Tuple:\", datatype_tuple)\n",
        "\n",
        "#tuple indexing\n",
        "print(datatype_tuple[0])\n",
        "print(datatype_tuple[3])\n",
        "print(datatype_tuple.count(2))"
      ],
      "execution_count": 0,
      "outputs": [
        {
          "output_type": "stream",
          "text": [
            "Tuple: (1, 2, 3, 4, 5, 6, 7, 8, 9, 10)\n",
            "1\n",
            "4\n",
            "1\n"
          ],
          "name": "stdout"
        }
      ]
    },
    {
      "cell_type": "code",
      "metadata": {
        "id": "Gr42EBr-k8WJ",
        "colab_type": "code",
        "outputId": "f4759000-68ee-4839-fa72-a22686364e52",
        "colab": {
          "base_uri": "https://localhost:8080/"
        }
      },
      "source": [
        "#Data type; sets\n",
        "\n",
        "datatype_set = {1,2,3,4,5,6,7,8}\n",
        "datatype_set2 = {9,10,11,7,13,14,15,16}\n",
        "\n",
        "print(\"Set1:\", datatype_set)\n",
        "print(\"Set2:\", datatype_set2)\n",
        "\n",
        "#sets indexing\n",
        "print(datatype_set.union(datatype_set2))\n",
        "print(datatype_set.intersection(datatype_set2))"
      ],
      "execution_count": 0,
      "outputs": [
        {
          "output_type": "stream",
          "text": [
            "Set1: {1, 2, 3, 4, 5, 6, 7, 8}\n",
            "Set2: {7, 9, 10, 11, 13, 14, 15, 16}\n",
            "{1, 2, 3, 4, 5, 6, 7, 8, 9, 10, 11, 13, 14, 15, 16}\n",
            "{7}\n"
          ],
          "name": "stdout"
        }
      ]
    },
    {
      "cell_type": "markdown",
      "metadata": {
        "id": "w7z6TY-jmUDl",
        "colab_type": "text"
      },
      "source": [
        "**Mission 4:** If-else, for and while loop\n",
        "* If-else, make the corresponding example.\n",
        "* Examples and repeats with for and while loops"
      ]
    },
    {
      "cell_type": "code",
      "metadata": {
        "id": "XOYEKLOplcTR",
        "colab_type": "code",
        "outputId": "500c503d-b0f3-4ca2-e8dc-d1ebd6a65343",
        "colab": {
          "base_uri": "https://localhost:8080/"
        }
      },
      "source": [
        "#Example 1\n",
        "\n",
        "if (2 > 1):\n",
        "  print('True')\n",
        "else:\n",
        "  print('False')"
      ],
      "execution_count": 0,
      "outputs": [
        {
          "output_type": "stream",
          "text": [
            "True\n"
          ],
          "name": "stdout"
        }
      ]
    },
    {
      "cell_type": "code",
      "metadata": {
        "id": "qHCKXLeom-Qf",
        "colab_type": "code",
        "outputId": "3e2e748c-2645-49d1-bd38-6140776c8945",
        "colab": {
          "base_uri": "https://localhost:8080/"
        }
      },
      "source": [
        "#Example 2\n",
        "\n",
        "def examScore(student_grade1, student_grade2, student_grade3, student_grade4):\n",
        "  \n",
        "  print(\"Stundent Grades\")\n",
        "  print(\"1. Student Grade:\", student_grade1)\n",
        "  print(\"2. Student Grade:\", student_grade2)\n",
        "  print(\"3. Student Grade:\", student_grade3)\n",
        "  print(\"4. Student Grade:\", student_grade4)\n",
        "  print(\"-----------------------------------\")\n",
        "\n",
        "  student_gradelist = [student_grade1, student_grade2, student_grade3, student_grade4]\n",
        "  average_grade = (student_grade1 + student_grade2 + student_grade3 + student_grade4) / len(student_gradelist)\n",
        "  print(\"Average Grade:\", average_grade)\n",
        "\n",
        "  for each in student_gradelist:\n",
        "    if (each > average_grade):\n",
        "      print(\"Student grade levels are generally good!\")\n",
        "    elif (each == average_grade):\n",
        "      print(\"Student grade levels are generally not bad!\")\n",
        "    else:\n",
        "      print(\"Student grade levels are generally poor\")\n",
        "\n",
        "examScore(50,60,70,40)"
      ],
      "execution_count": 0,
      "outputs": [
        {
          "output_type": "stream",
          "text": [
            "Stundent Grades\n",
            "1. Student Grade: 50\n",
            "2. Student Grade: 60\n",
            "3. Student Grade: 70\n",
            "4. Student Grade: 40\n",
            "-----------------------------------\n",
            "Average Grade: 55.0\n",
            "Student grade levels are generally poor\n",
            "Student grade levels are generally good!\n",
            "Student grade levels are generally good!\n",
            "Student grade levels are generally poor\n"
          ],
          "name": "stdout"
        }
      ]
    },
    {
      "cell_type": "markdown",
      "metadata": {
        "id": "YvGGESym1ZqT",
        "colab_type": "text"
      },
      "source": [
        "**Mission 5:** Make examples with object - based programming (basic)"
      ]
    },
    {
      "cell_type": "code",
      "metadata": {
        "id": "Oe5opLb0rHKt",
        "colab_type": "code",
        "outputId": "22c68d1b-161d-40c0-f5b6-4278ee87ff04",
        "colab": {
          "base_uri": "https://localhost:8080/"
        }
      },
      "source": [
        "#Workers list\n",
        "\n",
        "class Workers:\n",
        "\n",
        "  workers_counter = 0\n",
        "  def __init__(self, worker_name, worker_surname, worker_age, worker_gender, worker_position, worker_salary):\n",
        "    self.worker_name = worker_name\n",
        "    self.worker_surname = worker_surname\n",
        "    self.worker_age = worker_age\n",
        "    self.worker_gender = worker_gender\n",
        "    self.worker_position = worker_position\n",
        "    self.worker_salary = worker_salary\n",
        "\n",
        "    Workers.workers_counter = Workers.workers_counter + 1\n",
        "\n",
        "  def workersNameSurname(self):\n",
        "    return self.worker_name + \" \" + self.worker_surname\n",
        "  \n",
        "  def updateWorkerSalary(self):\n",
        "    self.worker_salary = (self.worker_salary * 0.18) + self.worker_salary\n",
        "\n",
        "worker1 = Workers(\"Alex\", \"Spain\", 22, \"Male\", \"Marketing\", 700)\n",
        "worker2 = Workers(\"Sam\", \"Candle\", 25, \"Male\", \"Partner\", 2000)\n",
        "worker3 = Workers(\"Steve\", \"John\", 19, \"Male\", \"Student\", 400)\n",
        "\n",
        "print(\"Q: How many workers are there?:\")\n",
        "print(\"A:\", Workers.workers_counter)\n",
        "print(\" \")\n",
        "print(\"Q: What is the name and surname of worker number 1?:\")\n",
        "print(\"A:\", worker1.workersNameSurname())\n",
        "print(\" \")\n",
        "print(\"Q: The salary of worker number 2 will be raised!:\")\n",
        "worker2.updateWorkerSalary()\n",
        "print(\"A:\", worker2.worker_salary)"
      ],
      "execution_count": 0,
      "outputs": [
        {
          "output_type": "stream",
          "text": [
            "Q: How many workers are there?:\n",
            "A: 3\n",
            " \n",
            "Q: What is the name and surname of worker number 1?:\n",
            "A: Alex Spain\n",
            " \n",
            "Q: The salary of worker number 2 will be raised!:\n",
            "A: 2360.0\n"
          ],
          "name": "stdout"
        }
      ]
    },
    {
      "cell_type": "markdown",
      "metadata": {
        "id": "QHAsV6vZ--pk",
        "colab_type": "text"
      },
      "source": [
        "**Mission 6:** Do all functions with Numpy-related examples!"
      ]
    },
    {
      "cell_type": "code",
      "metadata": {
        "id": "Iw_jYrSl8S8G",
        "colab_type": "code",
        "colab": {}
      },
      "source": [
        "#import numpy\n",
        "\n",
        "import numpy as np"
      ],
      "execution_count": 0,
      "outputs": []
    },
    {
      "cell_type": "code",
      "metadata": {
        "id": "TxL_bMEQ_CwB",
        "colab_type": "code",
        "outputId": "944ee36b-e3e1-480c-92ba-3908373159ea",
        "colab": {
          "base_uri": "https://localhost:8080/"
        }
      },
      "source": [
        "#Create array\n",
        "\n",
        "numpy1 = np.array([1,2,3,4,5,6,7,8])\n",
        "numpy2 = np.array([[1,2,3,4],[5,6,7,8]])\n",
        "numpy3 = np.array([[[1,2,3,4],[5,6,7,8],[9,10,11,12]]])\n",
        "\n",
        "print(numpy1)\n",
        "print(\" \")\n",
        "print(numpy2)\n",
        "print(\" \")\n",
        "print(numpy3)"
      ],
      "execution_count": 0,
      "outputs": [
        {
          "output_type": "stream",
          "text": [
            "[1 2 3 4 5 6 7 8]\n",
            " \n",
            "[[1 2 3 4]\n",
            " [5 6 7 8]]\n",
            " \n",
            "[[[ 1  2  3  4]\n",
            "  [ 5  6  7  8]\n",
            "  [ 9 10 11 12]]]\n"
          ],
          "name": "stdout"
        }
      ]
    },
    {
      "cell_type": "code",
      "metadata": {
        "id": "vOF5wmU0_Z-D",
        "colab_type": "code",
        "outputId": "b6ec5880-e167-4f9c-ad15-f20715aa5786",
        "colab": {
          "base_uri": "https://localhost:8080/"
        }
      },
      "source": [
        "#ndim function\n",
        "\n",
        "print(numpy1.ndim)\n",
        "print(numpy2.ndim)\n",
        "print(numpy3.ndim)"
      ],
      "execution_count": 0,
      "outputs": [
        {
          "output_type": "stream",
          "text": [
            "1\n",
            "2\n",
            "3\n"
          ],
          "name": "stdout"
        }
      ]
    },
    {
      "cell_type": "code",
      "metadata": {
        "id": "2Ro8IUzEAKNA",
        "colab_type": "code",
        "outputId": "8a85cf53-bf61-47c4-839b-42ad86a1bde4",
        "colab": {
          "base_uri": "https://localhost:8080/"
        }
      },
      "source": [
        "#ravel\n",
        "\n",
        "numpy4 = numpy2.ravel()\n",
        "print(numpy4)"
      ],
      "execution_count": 0,
      "outputs": [
        {
          "output_type": "stream",
          "text": [
            "[1 2 3 4 5 6 7 8]\n"
          ],
          "name": "stdout"
        }
      ]
    },
    {
      "cell_type": "code",
      "metadata": {
        "id": "b-SDON9x_lry",
        "colab_type": "code",
        "outputId": "ff5a6560-94cf-4e66-f755-97197d4c7c4e",
        "colab": {
          "base_uri": "https://localhost:8080/"
        }
      },
      "source": [
        "#shape, reshape, resize\n",
        "\n",
        "print(numpy1.shape)\n",
        "print(numpy2.shape)\n",
        "print(numpy3.shape)\n",
        "\n",
        "print(\"---------------\")\n",
        "print(numpy2.reshape(4,2))\n",
        "print(\" \")\n",
        "print(numpy3.reshape(2,2,3))\n",
        "\n",
        "print(\"---------------\")\n",
        "numpy2.resize(4,2)\n",
        "print(numpy2)\n",
        "print(\" \")\n",
        "numpy3.resize(2,2,3)\n",
        "print(numpy3)"
      ],
      "execution_count": 0,
      "outputs": [
        {
          "output_type": "stream",
          "text": [
            "(8,)\n",
            "(2, 4)\n",
            "(1, 3, 4)\n",
            "---------------\n",
            "[[1 2]\n",
            " [3 4]\n",
            " [5 6]\n",
            " [7 8]]\n",
            " \n",
            "[[[ 1  2  3]\n",
            "  [ 4  5  6]]\n",
            "\n",
            " [[ 7  8  9]\n",
            "  [10 11 12]]]\n",
            "---------------\n",
            "[[1 2]\n",
            " [3 4]\n",
            " [5 6]\n",
            " [7 8]]\n",
            " \n",
            "[[[ 1  2  3]\n",
            "  [ 4  5  6]]\n",
            "\n",
            " [[ 7  8  9]\n",
            "  [10 11 12]]]\n"
          ],
          "name": "stdout"
        }
      ]
    },
    {
      "cell_type": "code",
      "metadata": {
        "id": "K69lDDKH_yN7",
        "colab_type": "code",
        "outputId": "ebceb948-f686-45ff-8db9-2876fd1fedb8",
        "colab": {
          "base_uri": "https://localhost:8080/"
        }
      },
      "source": [
        "#arange\n",
        "\n",
        "numpy5 = np.arange(5,20)\n",
        "print(numpy5)"
      ],
      "execution_count": 0,
      "outputs": [
        {
          "output_type": "stream",
          "text": [
            "[ 5  6  7  8  9 10 11 12 13 14 15 16 17 18 19]\n"
          ],
          "name": "stdout"
        }
      ]
    },
    {
      "cell_type": "code",
      "metadata": {
        "id": "Agha74WLB-FE",
        "colab_type": "code",
        "outputId": "f9f883e8-4716-4928-ceb8-07e499260337",
        "colab": {
          "base_uri": "https://localhost:8080/"
        }
      },
      "source": [
        "numpy6 = np.linspace(5,10,25)\n",
        "print(numpy6)"
      ],
      "execution_count": 0,
      "outputs": [
        {
          "output_type": "stream",
          "text": [
            "[ 5.          5.20833333  5.41666667  5.625       5.83333333  6.04166667\n",
            "  6.25        6.45833333  6.66666667  6.875       7.08333333  7.29166667\n",
            "  7.5         7.70833333  7.91666667  8.125       8.33333333  8.54166667\n",
            "  8.75        8.95833333  9.16666667  9.375       9.58333333  9.79166667\n",
            " 10.        ]\n"
          ],
          "name": "stdout"
        }
      ]
    },
    {
      "cell_type": "code",
      "metadata": {
        "id": "unhKyG7qCNy-",
        "colab_type": "code",
        "outputId": "c79edd4a-4859-4584-a98b-4dd613dea39f",
        "colab": {
          "base_uri": "https://localhost:8080/"
        }
      },
      "source": [
        "numpy7 = np.zeros((5,5))\n",
        "print(numpy7)"
      ],
      "execution_count": 0,
      "outputs": [
        {
          "output_type": "stream",
          "text": [
            "[[0. 0. 0. 0. 0.]\n",
            " [0. 0. 0. 0. 0.]\n",
            " [0. 0. 0. 0. 0.]\n",
            " [0. 0. 0. 0. 0.]\n",
            " [0. 0. 0. 0. 0.]]\n"
          ],
          "name": "stdout"
        }
      ]
    },
    {
      "cell_type": "code",
      "metadata": {
        "id": "J0FC0Zb4CR1I",
        "colab_type": "code",
        "outputId": "97e77810-cd4c-4db2-fa16-35e2bf20112c",
        "colab": {
          "base_uri": "https://localhost:8080/"
        }
      },
      "source": [
        "numpy8 = np.random.random((5,5))\n",
        "print(numpy8)"
      ],
      "execution_count": 0,
      "outputs": [
        {
          "output_type": "stream",
          "text": [
            "[[0.22691817 0.78309258 0.99254445 0.96683861 0.80566295]\n",
            " [0.93548527 0.51157282 0.38447673 0.04102254 0.64440339]\n",
            " [0.36104217 0.37253841 0.52556271 0.80288975 0.47004688]\n",
            " [0.44947981 0.36914828 0.15219785 0.49525189 0.80470621]\n",
            " [0.87582185 0.75329889 0.41954883 0.08324655 0.96971426]]\n"
          ],
          "name": "stdout"
        }
      ]
    },
    {
      "cell_type": "markdown",
      "metadata": {
        "colab_type": "text",
        "id": "v6PNxBzDC7jq"
      },
      "source": [
        "# ✓ **Pandas Basics**"
      ]
    },
    {
      "cell_type": "code",
      "metadata": {
        "id": "aMyQSQL5Cjj3",
        "colab_type": "code",
        "colab": {}
      },
      "source": [
        "#import pandas\n",
        "# Fast and effective for using dataframes\n",
        "# .csv, .xlsx, .txt format\n",
        "# Mising data NaN solve and handle\n",
        "# We can use data effectively.\n",
        "# Easy slicing and indexing\n",
        "# Time series data\n",
        "# A quick library\n",
        "import pandas as pd\n"
      ],
      "execution_count": 0,
      "outputs": []
    },
    {
      "cell_type": "code",
      "metadata": {
        "id": "MPWmfGxBVqsb",
        "colab_type": "code",
        "outputId": "1fc275ea-4286-4635-8c40-4bd1ddb2fe1b",
        "colab": {
          "base_uri": "https://localhost:8080/",
          "height": 142
        }
      },
      "source": [
        "pd_dict = {\"NAME\" : [\"JOHN\", \"ALEX\", \"DAVID\"],\n",
        "           \"AGE\" : [18, 16, 14],\n",
        "           \"MALE\" : [\"MALE\", \"FEMALE\", \"MALE\"]}\n",
        "\n",
        "#create a dataframe\n",
        "pd_dict_convert = pd.DataFrame(pd_dict)\n",
        "pd_dict_convert"
      ],
      "execution_count": 0,
      "outputs": [
        {
          "output_type": "execute_result",
          "data": {
            "text/html": [
              "<div>\n",
              "<style scoped>\n",
              "    .dataframe tbody tr th:only-of-type {\n",
              "        vertical-align: middle;\n",
              "    }\n",
              "\n",
              "    .dataframe tbody tr th {\n",
              "        vertical-align: top;\n",
              "    }\n",
              "\n",
              "    .dataframe thead th {\n",
              "        text-align: right;\n",
              "    }\n",
              "</style>\n",
              "<table border=\"1\" class=\"dataframe\">\n",
              "  <thead>\n",
              "    <tr style=\"text-align: right;\">\n",
              "      <th></th>\n",
              "      <th>NAME</th>\n",
              "      <th>AGE</th>\n",
              "      <th>MALE</th>\n",
              "    </tr>\n",
              "  </thead>\n",
              "  <tbody>\n",
              "    <tr>\n",
              "      <th>0</th>\n",
              "      <td>JOHN</td>\n",
              "      <td>18</td>\n",
              "      <td>MALE</td>\n",
              "    </tr>\n",
              "    <tr>\n",
              "      <th>1</th>\n",
              "      <td>ALEX</td>\n",
              "      <td>16</td>\n",
              "      <td>FEMALE</td>\n",
              "    </tr>\n",
              "    <tr>\n",
              "      <th>2</th>\n",
              "      <td>DAVID</td>\n",
              "      <td>14</td>\n",
              "      <td>MALE</td>\n",
              "    </tr>\n",
              "  </tbody>\n",
              "</table>\n",
              "</div>"
            ],
            "text/plain": [
              "    NAME  AGE    MALE\n",
              "0   JOHN   18    MALE\n",
              "1   ALEX   16  FEMALE\n",
              "2  DAVID   14    MALE"
            ]
          },
          "metadata": {
            "tags": []
          },
          "execution_count": 160
        }
      ]
    },
    {
      "cell_type": "code",
      "metadata": {
        "id": "os3O9MMcXSmG",
        "colab_type": "code",
        "outputId": "3df4a024-a462-4326-d853-f709342e6141",
        "colab": {
          "base_uri": "https://localhost:8080/",
          "height": 142
        }
      },
      "source": [
        "#head method\n",
        "\n",
        "pd_dict_convert.head()"
      ],
      "execution_count": 0,
      "outputs": [
        {
          "output_type": "execute_result",
          "data": {
            "text/html": [
              "<div>\n",
              "<style scoped>\n",
              "    .dataframe tbody tr th:only-of-type {\n",
              "        vertical-align: middle;\n",
              "    }\n",
              "\n",
              "    .dataframe tbody tr th {\n",
              "        vertical-align: top;\n",
              "    }\n",
              "\n",
              "    .dataframe thead th {\n",
              "        text-align: right;\n",
              "    }\n",
              "</style>\n",
              "<table border=\"1\" class=\"dataframe\">\n",
              "  <thead>\n",
              "    <tr style=\"text-align: right;\">\n",
              "      <th></th>\n",
              "      <th>NAME</th>\n",
              "      <th>AGE</th>\n",
              "      <th>MALE</th>\n",
              "    </tr>\n",
              "  </thead>\n",
              "  <tbody>\n",
              "    <tr>\n",
              "      <th>0</th>\n",
              "      <td>JOHN</td>\n",
              "      <td>18</td>\n",
              "      <td>MALE</td>\n",
              "    </tr>\n",
              "    <tr>\n",
              "      <th>1</th>\n",
              "      <td>ALEX</td>\n",
              "      <td>16</td>\n",
              "      <td>FEMALE</td>\n",
              "    </tr>\n",
              "    <tr>\n",
              "      <th>2</th>\n",
              "      <td>DAVID</td>\n",
              "      <td>14</td>\n",
              "      <td>MALE</td>\n",
              "    </tr>\n",
              "  </tbody>\n",
              "</table>\n",
              "</div>"
            ],
            "text/plain": [
              "    NAME  AGE    MALE\n",
              "0   JOHN   18    MALE\n",
              "1   ALEX   16  FEMALE\n",
              "2  DAVID   14    MALE"
            ]
          },
          "metadata": {
            "tags": []
          },
          "execution_count": 161
        }
      ]
    },
    {
      "cell_type": "code",
      "metadata": {
        "id": "wY97hJW4Xx0m",
        "colab_type": "code",
        "outputId": "c0d5bba4-be4e-4a0d-e840-9a3de60ca304",
        "colab": {
          "base_uri": "https://localhost:8080/",
          "height": 142
        }
      },
      "source": [
        "#tail method\n",
        "pd_dict_convert.tail()"
      ],
      "execution_count": 0,
      "outputs": [
        {
          "output_type": "execute_result",
          "data": {
            "text/html": [
              "<div>\n",
              "<style scoped>\n",
              "    .dataframe tbody tr th:only-of-type {\n",
              "        vertical-align: middle;\n",
              "    }\n",
              "\n",
              "    .dataframe tbody tr th {\n",
              "        vertical-align: top;\n",
              "    }\n",
              "\n",
              "    .dataframe thead th {\n",
              "        text-align: right;\n",
              "    }\n",
              "</style>\n",
              "<table border=\"1\" class=\"dataframe\">\n",
              "  <thead>\n",
              "    <tr style=\"text-align: right;\">\n",
              "      <th></th>\n",
              "      <th>NAME</th>\n",
              "      <th>AGE</th>\n",
              "      <th>MALE</th>\n",
              "    </tr>\n",
              "  </thead>\n",
              "  <tbody>\n",
              "    <tr>\n",
              "      <th>0</th>\n",
              "      <td>JOHN</td>\n",
              "      <td>18</td>\n",
              "      <td>MALE</td>\n",
              "    </tr>\n",
              "    <tr>\n",
              "      <th>1</th>\n",
              "      <td>ALEX</td>\n",
              "      <td>16</td>\n",
              "      <td>FEMALE</td>\n",
              "    </tr>\n",
              "    <tr>\n",
              "      <th>2</th>\n",
              "      <td>DAVID</td>\n",
              "      <td>14</td>\n",
              "      <td>MALE</td>\n",
              "    </tr>\n",
              "  </tbody>\n",
              "</table>\n",
              "</div>"
            ],
            "text/plain": [
              "    NAME  AGE    MALE\n",
              "0   JOHN   18    MALE\n",
              "1   ALEX   16  FEMALE\n",
              "2  DAVID   14    MALE"
            ]
          },
          "metadata": {
            "tags": []
          },
          "execution_count": 162
        }
      ]
    },
    {
      "cell_type": "code",
      "metadata": {
        "id": "fkjJ16bNX20R",
        "colab_type": "code",
        "outputId": "7189bd23-889c-4e6a-8c1b-001a95a7c64a",
        "colab": {
          "base_uri": "https://localhost:8080/",
          "height": 561
        }
      },
      "source": [
        "#pandas basic methods\n",
        "\n",
        "#columns\n",
        "print(\"Columns:\")\n",
        "print(pd_dict_convert.columns)\n",
        "print(\" \")\n",
        "\n",
        "#info\n",
        "print(\"Info:\")\n",
        "print(pd_dict_convert.info())\n",
        "print(\" \")\n",
        "\n",
        "#dtypes\n",
        "print(\"dtypes:\")\n",
        "print(pd_dict_convert.dtypes)\n",
        "print(\" \")\n",
        "\n",
        "#describe = numeric columns\n",
        "print(\"describe:\")\n",
        "print(pd_dict_convert.describe())"
      ],
      "execution_count": 0,
      "outputs": [
        {
          "output_type": "stream",
          "text": [
            "Columns:\n",
            "Index(['NAME', 'AGE', 'MALE'], dtype='object')\n",
            " \n",
            "Info:\n",
            "<class 'pandas.core.frame.DataFrame'>\n",
            "RangeIndex: 3 entries, 0 to 2\n",
            "Data columns (total 3 columns):\n",
            " #   Column  Non-Null Count  Dtype \n",
            "---  ------  --------------  ----- \n",
            " 0   NAME    3 non-null      object\n",
            " 1   AGE     3 non-null      int64 \n",
            " 2   MALE    3 non-null      object\n",
            "dtypes: int64(1), object(2)\n",
            "memory usage: 200.0+ bytes\n",
            "None\n",
            " \n",
            "dtypes:\n",
            "NAME    object\n",
            "AGE      int64\n",
            "MALE    object\n",
            "dtype: object\n",
            " \n",
            "describe:\n",
            "        AGE\n",
            "count   3.0\n",
            "mean   16.0\n",
            "std     2.0\n",
            "min    14.0\n",
            "25%    15.0\n",
            "50%    16.0\n",
            "75%    17.0\n",
            "max    18.0\n"
          ],
          "name": "stdout"
        }
      ]
    },
    {
      "cell_type": "code",
      "metadata": {
        "id": "R64yX014YOgQ",
        "colab_type": "code",
        "outputId": "bb6ba3e1-5dba-4bda-8626-be2ee1499817",
        "colab": {
          "base_uri": "https://localhost:8080/",
          "height": 850
        }
      },
      "source": [
        "#indexing and slicing\n",
        "\n",
        "print(pd_dict_convert[\"NAME\"])\n",
        "print(\" \")\n",
        "print(pd_dict_convert.NAME)\n",
        "print(\" \")\n",
        "\n",
        "#new feature (columns)\n",
        "pd_dict_convert[\"MONEY\"] = [100,200,300]\n",
        "print(pd_dict_convert)\n",
        "print(\" \")\n",
        "\n",
        "print(pd_dict_convert.loc[:, \"AGE\"])\n",
        "print(\" \")\n",
        "\n",
        "print(pd_dict_convert.loc[0:3, \"NAME\"])\n",
        "print(\" \")\n",
        "\n",
        "print(pd_dict_convert.loc[0:3, \"NAME\":\"MALE\"])\n",
        "print(\" \")\n",
        "\n",
        "print(pd_dict_convert.loc[0:3, [\"NAME\",\"MALE\"]])\n",
        "print(\" \")\n",
        "\n",
        "print(pd_dict_convert[::-1])\n",
        "print(\" \")\n",
        "\n",
        "print(pd_dict_convert.loc[:,:\"AGE\"])\n",
        "print(\" \")\n",
        "\n",
        "print(pd_dict_convert.iloc[:,2])"
      ],
      "execution_count": 0,
      "outputs": [
        {
          "output_type": "stream",
          "text": [
            "0     JOHN\n",
            "1     ALEX\n",
            "2    DAVID\n",
            "Name: NAME, dtype: object\n",
            " \n",
            "0     JOHN\n",
            "1     ALEX\n",
            "2    DAVID\n",
            "Name: NAME, dtype: object\n",
            " \n",
            "    NAME  AGE    MALE  MONEY\n",
            "0   JOHN   18    MALE    100\n",
            "1   ALEX   16  FEMALE    200\n",
            "2  DAVID   14    MALE    300\n",
            " \n",
            "0    18\n",
            "1    16\n",
            "2    14\n",
            "Name: AGE, dtype: int64\n",
            " \n",
            "0     JOHN\n",
            "1     ALEX\n",
            "2    DAVID\n",
            "Name: NAME, dtype: object\n",
            " \n",
            "    NAME  AGE    MALE\n",
            "0   JOHN   18    MALE\n",
            "1   ALEX   16  FEMALE\n",
            "2  DAVID   14    MALE\n",
            " \n",
            "    NAME    MALE\n",
            "0   JOHN    MALE\n",
            "1   ALEX  FEMALE\n",
            "2  DAVID    MALE\n",
            " \n",
            "    NAME  AGE    MALE  MONEY\n",
            "2  DAVID   14    MALE    300\n",
            "1   ALEX   16  FEMALE    200\n",
            "0   JOHN   18    MALE    100\n",
            " \n",
            "    NAME  AGE\n",
            "0   JOHN   18\n",
            "1   ALEX   16\n",
            "2  DAVID   14\n",
            " \n",
            "0      MALE\n",
            "1    FEMALE\n",
            "2      MALE\n",
            "Name: MALE, dtype: object\n"
          ],
          "name": "stdout"
        }
      ]
    },
    {
      "cell_type": "code",
      "metadata": {
        "id": "Qcz8R57OZ4Vb",
        "colab_type": "code",
        "outputId": "240d0d81-ea4b-489a-d0a7-5a343585c32b",
        "colab": {
          "base_uri": "https://localhost:8080/",
          "height": 323
        }
      },
      "source": [
        "#filtering pandas data-frame\n",
        "\n",
        "# MONEY > 200\n",
        "filter_pd = pd_dict_convert.MONEY > 200\n",
        "print(filter_pd)\n",
        "\n",
        "print(\" \")\n",
        "filter_data = pd_dict_convert[filter_pd]\n",
        "print(filter_data)\n",
        "print(\" \")\n",
        "\n",
        "filter2_pd = pd_dict_convert.AGE < 16\n",
        "print(filter2_pd)\n",
        "\n",
        "print(\" \")\n",
        "print(pd_dict_convert[filter_pd & filter2_pd])\n",
        "print(\" \")\n",
        "\n",
        "print(pd_dict_convert[pd_dict_convert.MONEY > 200])"
      ],
      "execution_count": 0,
      "outputs": [
        {
          "output_type": "stream",
          "text": [
            "0    False\n",
            "1    False\n",
            "2     True\n",
            "Name: MONEY, dtype: bool\n",
            " \n",
            "    NAME  AGE  MALE  MONEY\n",
            "2  DAVID   14  MALE    300\n",
            " \n",
            "0    False\n",
            "1    False\n",
            "2     True\n",
            "Name: AGE, dtype: bool\n",
            " \n",
            "    NAME  AGE  MALE  MONEY\n",
            "2  DAVID   14  MALE    300\n",
            " \n",
            "    NAME  AGE  MALE  MONEY\n",
            "2  DAVID   14  MALE    300\n"
          ],
          "name": "stdout"
        }
      ]
    },
    {
      "cell_type": "code",
      "metadata": {
        "id": "sf_plNEAckoA",
        "colab_type": "code",
        "outputId": "6f0bb695-2dcf-404f-8d7d-f06faf0a8ba9",
        "colab": {
          "base_uri": "https://localhost:8080/",
          "height": 204
        }
      },
      "source": [
        "#list comprehension\n",
        "\n",
        "mean_pd = pd_dict_convert.MONEY.mean()\n",
        "print(mean_pd)\n",
        "print(\" \")\n",
        "\n",
        "pd_dict_convert[\"MONEY_LEVEL\"] = [\"HIGH\" if mean_pd <= each else \"LOW\" for each in pd_dict_convert.MONEY]\n",
        "print(pd_dict_convert)\n",
        "print(\" \")\n",
        "\n",
        "pd_dict_convert.columns = [each.lower() for each in pd_dict_convert.columns]\n",
        "print(pd_dict_convert)"
      ],
      "execution_count": 0,
      "outputs": [
        {
          "output_type": "stream",
          "text": [
            "200.0\n",
            " \n",
            "    NAME  AGE    MALE  MONEY MONEY_LEVEL\n",
            "0   JOHN   18    MALE    100         LOW\n",
            "1   ALEX   16  FEMALE    200        HIGH\n",
            "2  DAVID   14    MALE    300        HIGH\n",
            " \n",
            "    name  age    male  money money_level\n",
            "0   JOHN   18    MALE    100         LOW\n",
            "1   ALEX   16  FEMALE    200        HIGH\n",
            "2  DAVID   14    MALE    300        HIGH\n"
          ],
          "name": "stdout"
        }
      ]
    },
    {
      "cell_type": "code",
      "metadata": {
        "id": "uv0pP-DseDWY",
        "colab_type": "code",
        "outputId": "85499267-40b5-444a-dc49-ef0f5b401a6d",
        "colab": {
          "base_uri": "https://localhost:8080/",
          "height": 142
        }
      },
      "source": [
        "#list comprehension\n",
        "\n",
        "pd_dict_convert[\"money status\"] = [\"+\",\"-\",\"+\"]\n",
        "\n",
        "pd_dict_convert.columns = [each.split()[0] + \"_\" + each.split()[1] if (len(each.split()) > 1) else each for each in pd_dict_convert.columns]\n",
        "pd_dict_convert"
      ],
      "execution_count": 0,
      "outputs": [
        {
          "output_type": "execute_result",
          "data": {
            "text/html": [
              "<div>\n",
              "<style scoped>\n",
              "    .dataframe tbody tr th:only-of-type {\n",
              "        vertical-align: middle;\n",
              "    }\n",
              "\n",
              "    .dataframe tbody tr th {\n",
              "        vertical-align: top;\n",
              "    }\n",
              "\n",
              "    .dataframe thead th {\n",
              "        text-align: right;\n",
              "    }\n",
              "</style>\n",
              "<table border=\"1\" class=\"dataframe\">\n",
              "  <thead>\n",
              "    <tr style=\"text-align: right;\">\n",
              "      <th></th>\n",
              "      <th>name</th>\n",
              "      <th>age</th>\n",
              "      <th>male</th>\n",
              "      <th>money</th>\n",
              "      <th>money_level</th>\n",
              "      <th>money_status</th>\n",
              "    </tr>\n",
              "  </thead>\n",
              "  <tbody>\n",
              "    <tr>\n",
              "      <th>0</th>\n",
              "      <td>JOHN</td>\n",
              "      <td>18</td>\n",
              "      <td>MALE</td>\n",
              "      <td>100</td>\n",
              "      <td>LOW</td>\n",
              "      <td>+</td>\n",
              "    </tr>\n",
              "    <tr>\n",
              "      <th>1</th>\n",
              "      <td>ALEX</td>\n",
              "      <td>16</td>\n",
              "      <td>FEMALE</td>\n",
              "      <td>200</td>\n",
              "      <td>HIGH</td>\n",
              "      <td>-</td>\n",
              "    </tr>\n",
              "    <tr>\n",
              "      <th>2</th>\n",
              "      <td>DAVID</td>\n",
              "      <td>14</td>\n",
              "      <td>MALE</td>\n",
              "      <td>300</td>\n",
              "      <td>HIGH</td>\n",
              "      <td>+</td>\n",
              "    </tr>\n",
              "  </tbody>\n",
              "</table>\n",
              "</div>"
            ],
            "text/plain": [
              "    name  age    male  money money_level money_status\n",
              "0   JOHN   18    MALE    100         LOW            +\n",
              "1   ALEX   16  FEMALE    200        HIGH            -\n",
              "2  DAVID   14    MALE    300        HIGH            +"
            ]
          },
          "metadata": {
            "tags": []
          },
          "execution_count": 167
        }
      ]
    },
    {
      "cell_type": "code",
      "metadata": {
        "id": "BsAX4eNJhlIf",
        "colab_type": "code",
        "outputId": "8d03d9c1-fb16-49b3-8454-173f58563aa8",
        "colab": {
          "base_uri": "https://localhost:8080/",
          "height": 85
        }
      },
      "source": [
        "#concatenating data\n",
        "\n",
        "pd_dict_convert.drop([\"money_status\"],axis=1, inplace= True)\n",
        "print(pd_dict_convert)"
      ],
      "execution_count": 0,
      "outputs": [
        {
          "output_type": "stream",
          "text": [
            "    name  age    male  money money_level\n",
            "0   JOHN   18    MALE    100         LOW\n",
            "1   ALEX   16  FEMALE    200        HIGH\n",
            "2  DAVID   14    MALE    300        HIGH\n"
          ],
          "name": "stdout"
        }
      ]
    },
    {
      "cell_type": "code",
      "metadata": {
        "id": "hUUNjs8FjGS1",
        "colab_type": "code",
        "outputId": "89445ac9-4a19-460d-950a-b2216e4a8875",
        "colab": {
          "base_uri": "https://localhost:8080/",
          "height": 204
        }
      },
      "source": [
        "#concatenating data\n",
        "\n",
        "money = pd_dict_convert.money\n",
        "gender = pd_dict_convert.male\n",
        "\n",
        "money_gender = pd.concat([money,gender],axis=0, ignore_index= True)\n",
        "print(money_gender)\n",
        "\n",
        "money_gender2 = pd.concat([money,gender],axis=1)\n",
        "print(money_gender2)"
      ],
      "execution_count": 0,
      "outputs": [
        {
          "output_type": "stream",
          "text": [
            "0       100\n",
            "1       200\n",
            "2       300\n",
            "3      MALE\n",
            "4    FEMALE\n",
            "5      MALE\n",
            "dtype: object\n",
            "   money    male\n",
            "0    100    MALE\n",
            "1    200  FEMALE\n",
            "2    300    MALE\n"
          ],
          "name": "stdout"
        }
      ]
    },
    {
      "cell_type": "code",
      "metadata": {
        "id": "JukRJ_MykPeI",
        "colab_type": "code",
        "outputId": "f4db50cf-7210-4746-da5d-191c7860fbb1",
        "colab": {
          "base_uri": "https://localhost:8080/",
          "height": 142
        }
      },
      "source": [
        "#transforming data\n",
        "\n",
        "#apply\n",
        "def multiply(money2):\n",
        "  return money2*2\n",
        "\n",
        "pd_dict_convert[\"money_x2\"] = pd_dict_convert.money.apply(multiply)\n",
        "pd_dict_convert\n"
      ],
      "execution_count": 0,
      "outputs": [
        {
          "output_type": "execute_result",
          "data": {
            "text/html": [
              "<div>\n",
              "<style scoped>\n",
              "    .dataframe tbody tr th:only-of-type {\n",
              "        vertical-align: middle;\n",
              "    }\n",
              "\n",
              "    .dataframe tbody tr th {\n",
              "        vertical-align: top;\n",
              "    }\n",
              "\n",
              "    .dataframe thead th {\n",
              "        text-align: right;\n",
              "    }\n",
              "</style>\n",
              "<table border=\"1\" class=\"dataframe\">\n",
              "  <thead>\n",
              "    <tr style=\"text-align: right;\">\n",
              "      <th></th>\n",
              "      <th>name</th>\n",
              "      <th>age</th>\n",
              "      <th>male</th>\n",
              "      <th>money</th>\n",
              "      <th>money_level</th>\n",
              "      <th>money_x2</th>\n",
              "    </tr>\n",
              "  </thead>\n",
              "  <tbody>\n",
              "    <tr>\n",
              "      <th>0</th>\n",
              "      <td>JOHN</td>\n",
              "      <td>18</td>\n",
              "      <td>MALE</td>\n",
              "      <td>100</td>\n",
              "      <td>LOW</td>\n",
              "      <td>200</td>\n",
              "    </tr>\n",
              "    <tr>\n",
              "      <th>1</th>\n",
              "      <td>ALEX</td>\n",
              "      <td>16</td>\n",
              "      <td>FEMALE</td>\n",
              "      <td>200</td>\n",
              "      <td>HIGH</td>\n",
              "      <td>400</td>\n",
              "    </tr>\n",
              "    <tr>\n",
              "      <th>2</th>\n",
              "      <td>DAVID</td>\n",
              "      <td>14</td>\n",
              "      <td>MALE</td>\n",
              "      <td>300</td>\n",
              "      <td>HIGH</td>\n",
              "      <td>600</td>\n",
              "    </tr>\n",
              "  </tbody>\n",
              "</table>\n",
              "</div>"
            ],
            "text/plain": [
              "    name  age    male  money money_level  money_x2\n",
              "0   JOHN   18    MALE    100         LOW       200\n",
              "1   ALEX   16  FEMALE    200        HIGH       400\n",
              "2  DAVID   14    MALE    300        HIGH       600"
            ]
          },
          "metadata": {
            "tags": []
          },
          "execution_count": 170
        }
      ]
    },
    {
      "cell_type": "markdown",
      "metadata": {
        "id": "LyxRyiYMld2y",
        "colab_type": "text"
      },
      "source": [
        "# ✓ **Visualization with Matplotlib**"
      ]
    },
    {
      "cell_type": "code",
      "metadata": {
        "id": "3hJUVrPplrto",
        "colab_type": "code",
        "colab": {}
      },
      "source": [
        "import pandas as pd\n",
        "\n",
        "df_new = pd.read_csv(\"/content/data.csv\")"
      ],
      "execution_count": 0,
      "outputs": []
    },
    {
      "cell_type": "code",
      "metadata": {
        "id": "dAq_JFiQmLNg",
        "colab_type": "code",
        "outputId": "68e87cbe-e527-4ee1-8d8c-0a0e6839502f",
        "colab": {
          "base_uri": "https://localhost:8080/",
          "height": 204
        }
      },
      "source": [
        "df_new.head()"
      ],
      "execution_count": 0,
      "outputs": [
        {
          "output_type": "execute_result",
          "data": {
            "text/html": [
              "<div>\n",
              "<style scoped>\n",
              "    .dataframe tbody tr th:only-of-type {\n",
              "        vertical-align: middle;\n",
              "    }\n",
              "\n",
              "    .dataframe tbody tr th {\n",
              "        vertical-align: top;\n",
              "    }\n",
              "\n",
              "    .dataframe thead th {\n",
              "        text-align: right;\n",
              "    }\n",
              "</style>\n",
              "<table border=\"1\" class=\"dataframe\">\n",
              "  <thead>\n",
              "    <tr style=\"text-align: right;\">\n",
              "      <th></th>\n",
              "      <th>Id</th>\n",
              "      <th>SepalLengthCm</th>\n",
              "      <th>SepalWidthCm</th>\n",
              "      <th>PetalLengthCm</th>\n",
              "      <th>PetalWidthCm</th>\n",
              "      <th>Species</th>\n",
              "    </tr>\n",
              "  </thead>\n",
              "  <tbody>\n",
              "    <tr>\n",
              "      <th>0</th>\n",
              "      <td>1</td>\n",
              "      <td>5.1</td>\n",
              "      <td>3.5</td>\n",
              "      <td>1.4</td>\n",
              "      <td>0.2</td>\n",
              "      <td>Iris-setosa</td>\n",
              "    </tr>\n",
              "    <tr>\n",
              "      <th>1</th>\n",
              "      <td>2</td>\n",
              "      <td>4.9</td>\n",
              "      <td>3.0</td>\n",
              "      <td>1.4</td>\n",
              "      <td>0.2</td>\n",
              "      <td>Iris-setosa</td>\n",
              "    </tr>\n",
              "    <tr>\n",
              "      <th>2</th>\n",
              "      <td>3</td>\n",
              "      <td>4.7</td>\n",
              "      <td>3.2</td>\n",
              "      <td>1.3</td>\n",
              "      <td>0.2</td>\n",
              "      <td>Iris-setosa</td>\n",
              "    </tr>\n",
              "    <tr>\n",
              "      <th>3</th>\n",
              "      <td>4</td>\n",
              "      <td>4.6</td>\n",
              "      <td>3.1</td>\n",
              "      <td>1.5</td>\n",
              "      <td>0.2</td>\n",
              "      <td>Iris-setosa</td>\n",
              "    </tr>\n",
              "    <tr>\n",
              "      <th>4</th>\n",
              "      <td>5</td>\n",
              "      <td>5.0</td>\n",
              "      <td>3.6</td>\n",
              "      <td>1.4</td>\n",
              "      <td>0.2</td>\n",
              "      <td>Iris-setosa</td>\n",
              "    </tr>\n",
              "  </tbody>\n",
              "</table>\n",
              "</div>"
            ],
            "text/plain": [
              "   Id  SepalLengthCm  SepalWidthCm  PetalLengthCm  PetalWidthCm      Species\n",
              "0   1            5.1           3.5            1.4           0.2  Iris-setosa\n",
              "1   2            4.9           3.0            1.4           0.2  Iris-setosa\n",
              "2   3            4.7           3.2            1.3           0.2  Iris-setosa\n",
              "3   4            4.6           3.1            1.5           0.2  Iris-setosa\n",
              "4   5            5.0           3.6            1.4           0.2  Iris-setosa"
            ]
          },
          "metadata": {
            "tags": []
          },
          "execution_count": 173
        }
      ]
    },
    {
      "cell_type": "code",
      "metadata": {
        "id": "dc-K6sUpmNzC",
        "colab_type": "code",
        "outputId": "6e448b09-fe65-4513-811e-b70f2f48825e",
        "colab": {
          "base_uri": "https://localhost:8080/",
          "height": 204
        }
      },
      "source": [
        "df_new.tail()"
      ],
      "execution_count": 0,
      "outputs": [
        {
          "output_type": "execute_result",
          "data": {
            "text/html": [
              "<div>\n",
              "<style scoped>\n",
              "    .dataframe tbody tr th:only-of-type {\n",
              "        vertical-align: middle;\n",
              "    }\n",
              "\n",
              "    .dataframe tbody tr th {\n",
              "        vertical-align: top;\n",
              "    }\n",
              "\n",
              "    .dataframe thead th {\n",
              "        text-align: right;\n",
              "    }\n",
              "</style>\n",
              "<table border=\"1\" class=\"dataframe\">\n",
              "  <thead>\n",
              "    <tr style=\"text-align: right;\">\n",
              "      <th></th>\n",
              "      <th>Id</th>\n",
              "      <th>SepalLengthCm</th>\n",
              "      <th>SepalWidthCm</th>\n",
              "      <th>PetalLengthCm</th>\n",
              "      <th>PetalWidthCm</th>\n",
              "      <th>Species</th>\n",
              "    </tr>\n",
              "  </thead>\n",
              "  <tbody>\n",
              "    <tr>\n",
              "      <th>145</th>\n",
              "      <td>146</td>\n",
              "      <td>6.7</td>\n",
              "      <td>3.0</td>\n",
              "      <td>5.2</td>\n",
              "      <td>2.3</td>\n",
              "      <td>Iris-virginica</td>\n",
              "    </tr>\n",
              "    <tr>\n",
              "      <th>146</th>\n",
              "      <td>147</td>\n",
              "      <td>6.3</td>\n",
              "      <td>2.5</td>\n",
              "      <td>5.0</td>\n",
              "      <td>1.9</td>\n",
              "      <td>Iris-virginica</td>\n",
              "    </tr>\n",
              "    <tr>\n",
              "      <th>147</th>\n",
              "      <td>148</td>\n",
              "      <td>6.5</td>\n",
              "      <td>3.0</td>\n",
              "      <td>5.2</td>\n",
              "      <td>2.0</td>\n",
              "      <td>Iris-virginica</td>\n",
              "    </tr>\n",
              "    <tr>\n",
              "      <th>148</th>\n",
              "      <td>149</td>\n",
              "      <td>6.2</td>\n",
              "      <td>3.4</td>\n",
              "      <td>5.4</td>\n",
              "      <td>2.3</td>\n",
              "      <td>Iris-virginica</td>\n",
              "    </tr>\n",
              "    <tr>\n",
              "      <th>149</th>\n",
              "      <td>150</td>\n",
              "      <td>5.9</td>\n",
              "      <td>3.0</td>\n",
              "      <td>5.1</td>\n",
              "      <td>1.8</td>\n",
              "      <td>Iris-virginica</td>\n",
              "    </tr>\n",
              "  </tbody>\n",
              "</table>\n",
              "</div>"
            ],
            "text/plain": [
              "      Id  SepalLengthCm  ...  PetalWidthCm         Species\n",
              "145  146            6.7  ...           2.3  Iris-virginica\n",
              "146  147            6.3  ...           1.9  Iris-virginica\n",
              "147  148            6.5  ...           2.0  Iris-virginica\n",
              "148  149            6.2  ...           2.3  Iris-virginica\n",
              "149  150            5.9  ...           1.8  Iris-virginica\n",
              "\n",
              "[5 rows x 6 columns]"
            ]
          },
          "metadata": {
            "tags": []
          },
          "execution_count": 174
        }
      ]
    },
    {
      "cell_type": "code",
      "metadata": {
        "id": "ffi6tDU8mQzw",
        "colab_type": "code",
        "outputId": "44c118e8-12cc-4334-d484-312d6aed2b9d",
        "colab": {
          "base_uri": "https://localhost:8080/",
          "height": 297
        }
      },
      "source": [
        "df_new.describe()"
      ],
      "execution_count": 0,
      "outputs": [
        {
          "output_type": "execute_result",
          "data": {
            "text/html": [
              "<div>\n",
              "<style scoped>\n",
              "    .dataframe tbody tr th:only-of-type {\n",
              "        vertical-align: middle;\n",
              "    }\n",
              "\n",
              "    .dataframe tbody tr th {\n",
              "        vertical-align: top;\n",
              "    }\n",
              "\n",
              "    .dataframe thead th {\n",
              "        text-align: right;\n",
              "    }\n",
              "</style>\n",
              "<table border=\"1\" class=\"dataframe\">\n",
              "  <thead>\n",
              "    <tr style=\"text-align: right;\">\n",
              "      <th></th>\n",
              "      <th>Id</th>\n",
              "      <th>SepalLengthCm</th>\n",
              "      <th>SepalWidthCm</th>\n",
              "      <th>PetalLengthCm</th>\n",
              "      <th>PetalWidthCm</th>\n",
              "    </tr>\n",
              "  </thead>\n",
              "  <tbody>\n",
              "    <tr>\n",
              "      <th>count</th>\n",
              "      <td>150.000000</td>\n",
              "      <td>150.000000</td>\n",
              "      <td>150.000000</td>\n",
              "      <td>150.000000</td>\n",
              "      <td>150.000000</td>\n",
              "    </tr>\n",
              "    <tr>\n",
              "      <th>mean</th>\n",
              "      <td>75.500000</td>\n",
              "      <td>5.843333</td>\n",
              "      <td>3.054000</td>\n",
              "      <td>3.758667</td>\n",
              "      <td>1.198667</td>\n",
              "    </tr>\n",
              "    <tr>\n",
              "      <th>std</th>\n",
              "      <td>43.445368</td>\n",
              "      <td>0.828066</td>\n",
              "      <td>0.433594</td>\n",
              "      <td>1.764420</td>\n",
              "      <td>0.763161</td>\n",
              "    </tr>\n",
              "    <tr>\n",
              "      <th>min</th>\n",
              "      <td>1.000000</td>\n",
              "      <td>4.300000</td>\n",
              "      <td>2.000000</td>\n",
              "      <td>1.000000</td>\n",
              "      <td>0.100000</td>\n",
              "    </tr>\n",
              "    <tr>\n",
              "      <th>25%</th>\n",
              "      <td>38.250000</td>\n",
              "      <td>5.100000</td>\n",
              "      <td>2.800000</td>\n",
              "      <td>1.600000</td>\n",
              "      <td>0.300000</td>\n",
              "    </tr>\n",
              "    <tr>\n",
              "      <th>50%</th>\n",
              "      <td>75.500000</td>\n",
              "      <td>5.800000</td>\n",
              "      <td>3.000000</td>\n",
              "      <td>4.350000</td>\n",
              "      <td>1.300000</td>\n",
              "    </tr>\n",
              "    <tr>\n",
              "      <th>75%</th>\n",
              "      <td>112.750000</td>\n",
              "      <td>6.400000</td>\n",
              "      <td>3.300000</td>\n",
              "      <td>5.100000</td>\n",
              "      <td>1.800000</td>\n",
              "    </tr>\n",
              "    <tr>\n",
              "      <th>max</th>\n",
              "      <td>150.000000</td>\n",
              "      <td>7.900000</td>\n",
              "      <td>4.400000</td>\n",
              "      <td>6.900000</td>\n",
              "      <td>2.500000</td>\n",
              "    </tr>\n",
              "  </tbody>\n",
              "</table>\n",
              "</div>"
            ],
            "text/plain": [
              "               Id  SepalLengthCm  SepalWidthCm  PetalLengthCm  PetalWidthCm\n",
              "count  150.000000     150.000000    150.000000     150.000000    150.000000\n",
              "mean    75.500000       5.843333      3.054000       3.758667      1.198667\n",
              "std     43.445368       0.828066      0.433594       1.764420      0.763161\n",
              "min      1.000000       4.300000      2.000000       1.000000      0.100000\n",
              "25%     38.250000       5.100000      2.800000       1.600000      0.300000\n",
              "50%     75.500000       5.800000      3.000000       4.350000      1.300000\n",
              "75%    112.750000       6.400000      3.300000       5.100000      1.800000\n",
              "max    150.000000       7.900000      4.400000       6.900000      2.500000"
            ]
          },
          "metadata": {
            "tags": []
          },
          "execution_count": 175
        }
      ]
    },
    {
      "cell_type": "code",
      "metadata": {
        "id": "YbkJGQimmS6u",
        "colab_type": "code",
        "outputId": "ac8566d0-4f0e-4a91-bf6c-e52dfc704ee4",
        "colab": {
          "base_uri": "https://localhost:8080/",
          "height": 238
        }
      },
      "source": [
        "df_new.info()"
      ],
      "execution_count": 0,
      "outputs": [
        {
          "output_type": "stream",
          "text": [
            "<class 'pandas.core.frame.DataFrame'>\n",
            "RangeIndex: 150 entries, 0 to 149\n",
            "Data columns (total 6 columns):\n",
            " #   Column         Non-Null Count  Dtype  \n",
            "---  ------         --------------  -----  \n",
            " 0   Id             150 non-null    int64  \n",
            " 1   SepalLengthCm  150 non-null    float64\n",
            " 2   SepalWidthCm   150 non-null    float64\n",
            " 3   PetalLengthCm  150 non-null    float64\n",
            " 4   PetalWidthCm   150 non-null    float64\n",
            " 5   Species        150 non-null    object \n",
            "dtypes: float64(4), int64(1), object(1)\n",
            "memory usage: 7.2+ KB\n"
          ],
          "name": "stdout"
        }
      ]
    },
    {
      "cell_type": "code",
      "metadata": {
        "id": "vNocHG-hmU1I",
        "colab_type": "code",
        "outputId": "d3c55355-a95d-4b7d-9b62-ce1461ac4c02",
        "colab": {
          "base_uri": "https://localhost:8080/",
          "height": 34
        }
      },
      "source": [
        "df_new.Species.unique()"
      ],
      "execution_count": 0,
      "outputs": [
        {
          "output_type": "execute_result",
          "data": {
            "text/plain": [
              "array(['Iris-setosa', 'Iris-versicolor', 'Iris-virginica'], dtype=object)"
            ]
          },
          "metadata": {
            "tags": []
          },
          "execution_count": 177
        }
      ]
    },
    {
      "cell_type": "code",
      "metadata": {
        "id": "arvXpd0hm1D7",
        "colab_type": "code",
        "colab": {}
      },
      "source": [
        "setosa = df_new[df_new.Species == \"Iris-setosa\"]\n",
        "versicolor = df_new[df_new.Species == \"Iris-versicolor\"]\n",
        "virginica = df_new[df_new.Species == \"Iris-virginica\"]"
      ],
      "execution_count": 0,
      "outputs": []
    },
    {
      "cell_type": "code",
      "metadata": {
        "id": "a_29hiQHnT7G",
        "colab_type": "code",
        "outputId": "691a1267-cc8e-4aac-9152-d49125763e85",
        "colab": {
          "base_uri": "https://localhost:8080/",
          "height": 510
        }
      },
      "source": [
        "print(setosa.describe())\n",
        "print(\"---------------------\")\n",
        "print(versicolor.describe())\n",
        "print(\"---------------------\")\n",
        "print(virginica.describe())"
      ],
      "execution_count": 0,
      "outputs": [
        {
          "output_type": "stream",
          "text": [
            "             Id  SepalLengthCm  SepalWidthCm  PetalLengthCm  PetalWidthCm\n",
            "count  50.00000       50.00000     50.000000      50.000000      50.00000\n",
            "mean   25.50000        5.00600      3.418000       1.464000       0.24400\n",
            "std    14.57738        0.35249      0.381024       0.173511       0.10721\n",
            "min     1.00000        4.30000      2.300000       1.000000       0.10000\n",
            "25%    13.25000        4.80000      3.125000       1.400000       0.20000\n",
            "50%    25.50000        5.00000      3.400000       1.500000       0.20000\n",
            "75%    37.75000        5.20000      3.675000       1.575000       0.30000\n",
            "max    50.00000        5.80000      4.400000       1.900000       0.60000\n",
            "---------------------\n",
            "              Id  SepalLengthCm  SepalWidthCm  PetalLengthCm  PetalWidthCm\n",
            "count   50.00000      50.000000     50.000000      50.000000     50.000000\n",
            "mean    75.50000       5.936000      2.770000       4.260000      1.326000\n",
            "std     14.57738       0.516171      0.313798       0.469911      0.197753\n",
            "min     51.00000       4.900000      2.000000       3.000000      1.000000\n",
            "25%     63.25000       5.600000      2.525000       4.000000      1.200000\n",
            "50%     75.50000       5.900000      2.800000       4.350000      1.300000\n",
            "75%     87.75000       6.300000      3.000000       4.600000      1.500000\n",
            "max    100.00000       7.000000      3.400000       5.100000      1.800000\n",
            "---------------------\n",
            "              Id  SepalLengthCm  SepalWidthCm  PetalLengthCm  PetalWidthCm\n",
            "count   50.00000       50.00000     50.000000      50.000000      50.00000\n",
            "mean   125.50000        6.58800      2.974000       5.552000       2.02600\n",
            "std     14.57738        0.63588      0.322497       0.551895       0.27465\n",
            "min    101.00000        4.90000      2.200000       4.500000       1.40000\n",
            "25%    113.25000        6.22500      2.800000       5.100000       1.80000\n",
            "50%    125.50000        6.50000      3.000000       5.550000       2.00000\n",
            "75%    137.75000        6.90000      3.175000       5.875000       2.30000\n",
            "max    150.00000        7.90000      3.800000       6.900000       2.50000\n"
          ],
          "name": "stdout"
        }
      ]
    },
    {
      "cell_type": "code",
      "metadata": {
        "id": "3Mr_HlEQnnxW",
        "colab_type": "code",
        "colab": {}
      },
      "source": [
        "#Line plot\n",
        "\n",
        "import matplotlib.pyplot as plt\n"
      ],
      "execution_count": 0,
      "outputs": []
    },
    {
      "cell_type": "code",
      "metadata": {
        "id": "bzzmoTbnoFqW",
        "colab_type": "code",
        "outputId": "bb99a09a-92c1-4bd5-ed11-5b39e89fecd8",
        "colab": {
          "base_uri": "https://localhost:8080/",
          "height": 419
        }
      },
      "source": [
        "df_new1 = df_new.drop([\"Id\"],axis=1)\n",
        "df_new1"
      ],
      "execution_count": 0,
      "outputs": [
        {
          "output_type": "execute_result",
          "data": {
            "text/html": [
              "<div>\n",
              "<style scoped>\n",
              "    .dataframe tbody tr th:only-of-type {\n",
              "        vertical-align: middle;\n",
              "    }\n",
              "\n",
              "    .dataframe tbody tr th {\n",
              "        vertical-align: top;\n",
              "    }\n",
              "\n",
              "    .dataframe thead th {\n",
              "        text-align: right;\n",
              "    }\n",
              "</style>\n",
              "<table border=\"1\" class=\"dataframe\">\n",
              "  <thead>\n",
              "    <tr style=\"text-align: right;\">\n",
              "      <th></th>\n",
              "      <th>SepalLengthCm</th>\n",
              "      <th>SepalWidthCm</th>\n",
              "      <th>PetalLengthCm</th>\n",
              "      <th>PetalWidthCm</th>\n",
              "      <th>Species</th>\n",
              "    </tr>\n",
              "  </thead>\n",
              "  <tbody>\n",
              "    <tr>\n",
              "      <th>0</th>\n",
              "      <td>5.1</td>\n",
              "      <td>3.5</td>\n",
              "      <td>1.4</td>\n",
              "      <td>0.2</td>\n",
              "      <td>Iris-setosa</td>\n",
              "    </tr>\n",
              "    <tr>\n",
              "      <th>1</th>\n",
              "      <td>4.9</td>\n",
              "      <td>3.0</td>\n",
              "      <td>1.4</td>\n",
              "      <td>0.2</td>\n",
              "      <td>Iris-setosa</td>\n",
              "    </tr>\n",
              "    <tr>\n",
              "      <th>2</th>\n",
              "      <td>4.7</td>\n",
              "      <td>3.2</td>\n",
              "      <td>1.3</td>\n",
              "      <td>0.2</td>\n",
              "      <td>Iris-setosa</td>\n",
              "    </tr>\n",
              "    <tr>\n",
              "      <th>3</th>\n",
              "      <td>4.6</td>\n",
              "      <td>3.1</td>\n",
              "      <td>1.5</td>\n",
              "      <td>0.2</td>\n",
              "      <td>Iris-setosa</td>\n",
              "    </tr>\n",
              "    <tr>\n",
              "      <th>4</th>\n",
              "      <td>5.0</td>\n",
              "      <td>3.6</td>\n",
              "      <td>1.4</td>\n",
              "      <td>0.2</td>\n",
              "      <td>Iris-setosa</td>\n",
              "    </tr>\n",
              "    <tr>\n",
              "      <th>...</th>\n",
              "      <td>...</td>\n",
              "      <td>...</td>\n",
              "      <td>...</td>\n",
              "      <td>...</td>\n",
              "      <td>...</td>\n",
              "    </tr>\n",
              "    <tr>\n",
              "      <th>145</th>\n",
              "      <td>6.7</td>\n",
              "      <td>3.0</td>\n",
              "      <td>5.2</td>\n",
              "      <td>2.3</td>\n",
              "      <td>Iris-virginica</td>\n",
              "    </tr>\n",
              "    <tr>\n",
              "      <th>146</th>\n",
              "      <td>6.3</td>\n",
              "      <td>2.5</td>\n",
              "      <td>5.0</td>\n",
              "      <td>1.9</td>\n",
              "      <td>Iris-virginica</td>\n",
              "    </tr>\n",
              "    <tr>\n",
              "      <th>147</th>\n",
              "      <td>6.5</td>\n",
              "      <td>3.0</td>\n",
              "      <td>5.2</td>\n",
              "      <td>2.0</td>\n",
              "      <td>Iris-virginica</td>\n",
              "    </tr>\n",
              "    <tr>\n",
              "      <th>148</th>\n",
              "      <td>6.2</td>\n",
              "      <td>3.4</td>\n",
              "      <td>5.4</td>\n",
              "      <td>2.3</td>\n",
              "      <td>Iris-virginica</td>\n",
              "    </tr>\n",
              "    <tr>\n",
              "      <th>149</th>\n",
              "      <td>5.9</td>\n",
              "      <td>3.0</td>\n",
              "      <td>5.1</td>\n",
              "      <td>1.8</td>\n",
              "      <td>Iris-virginica</td>\n",
              "    </tr>\n",
              "  </tbody>\n",
              "</table>\n",
              "<p>150 rows × 5 columns</p>\n",
              "</div>"
            ],
            "text/plain": [
              "     SepalLengthCm  SepalWidthCm  PetalLengthCm  PetalWidthCm         Species\n",
              "0              5.1           3.5            1.4           0.2     Iris-setosa\n",
              "1              4.9           3.0            1.4           0.2     Iris-setosa\n",
              "2              4.7           3.2            1.3           0.2     Iris-setosa\n",
              "3              4.6           3.1            1.5           0.2     Iris-setosa\n",
              "4              5.0           3.6            1.4           0.2     Iris-setosa\n",
              "..             ...           ...            ...           ...             ...\n",
              "145            6.7           3.0            5.2           2.3  Iris-virginica\n",
              "146            6.3           2.5            5.0           1.9  Iris-virginica\n",
              "147            6.5           3.0            5.2           2.0  Iris-virginica\n",
              "148            6.2           3.4            5.4           2.3  Iris-virginica\n",
              "149            5.9           3.0            5.1           1.8  Iris-virginica\n",
              "\n",
              "[150 rows x 5 columns]"
            ]
          },
          "metadata": {
            "tags": []
          },
          "execution_count": 181
        }
      ]
    },
    {
      "cell_type": "code",
      "metadata": {
        "id": "bYP3_2hkoRcV",
        "colab_type": "code",
        "outputId": "3dba29e3-6c0d-40b5-e177-0179d31d4d6d",
        "colab": {
          "base_uri": "https://localhost:8080/",
          "height": 265
        }
      },
      "source": [
        "df_new1.plot()\n",
        "\n",
        "plt.show()"
      ],
      "execution_count": 0,
      "outputs": [
        {
          "output_type": "display_data",
          "data": {
            "image/png": "[encoded data removed]",
            "text/plain": [
              "<Figure size 432x288 with 1 Axes>"
            ]
          },
          "metadata": {
            "tags": [],
            "needs_background": "light"
          }
        }
      ]
    },
    {
      "cell_type": "code",
      "metadata": {
        "id": "ogzsEajipV_Y",
        "colab_type": "code",
        "outputId": "152eacb4-9823-4995-dbb7-427d053e35ab",
        "colab": {
          "base_uri": "https://localhost:8080/",
          "height": 279
        }
      },
      "source": [
        "#line plot \n",
        "\n",
        "plt.plot(setosa.Id, setosa.PetalLengthCm, color = \"red\", label =\"Setosa PetalLengthCm\")\n",
        "plt.plot(versicolor.Id, versicolor.PetalLengthCm, color = \"green\", label =\"Versicolor PetalLengthCm\")\n",
        "plt.plot(virginica.Id, virginica.PetalLengthCm, color = \"orange\", label =\"Virginica PetalLengthCm\")\n",
        "\n",
        "plt.xlabel(\"Id\")\n",
        "plt.ylabel(\"PetalLengthCm\")\n",
        "plt.legend(loc=\"upper right\")\n",
        "plt.grid()\n",
        "plt.show()"
      ],
      "execution_count": 0,
      "outputs": [
        {
          "output_type": "display_data",
          "data": {
            "image/png": "[encoded data removed]",
            "text/plain": [
              "<Figure size 432x288 with 1 Axes>"
            ]
          },
          "metadata": {
            "tags": [],
            "needs_background": "light"
          }
        }
      ]
    },
    {
      "cell_type": "code",
      "metadata": {
        "id": "_9ntcOPnqN74",
        "colab_type": "code",
        "outputId": "9d415b3b-78e3-4cbf-fe4a-8273e8a8bedd",
        "colab": {
          "base_uri": "https://localhost:8080/",
          "height": 279
        }
      },
      "source": [
        "#scatter plot\n",
        "\n",
        "plt.scatter(setosa.PetalLengthCm, setosa.PetalWidthCm, color='red', label='Setosa')\n",
        "plt.scatter(versicolor.PetalLengthCm, versicolor.PetalWidthCm, color='green', label='Versicolor')\n",
        "plt.scatter(virginica.PetalLengthCm, virginica.PetalWidthCm, color='orange', label='Virginica')\n",
        "\n",
        "plt.xlabel(\"PetalLengthCm\")\n",
        "plt.ylabel(\"PetalWidthCm\")\n",
        "plt.legend(loc=\"upper right\")\n",
        "plt.show()"
      ],
      "execution_count": 0,
      "outputs": [
        {
          "output_type": "display_data",
          "data": {
            "image/png": "[encoded data removed]",
            "text/plain": [
              "<Figure size 432x288 with 1 Axes>"
            ]
          },
          "metadata": {
            "tags": [],
            "needs_background": "light"
          }
        }
      ]
    },
    {
      "cell_type": "code",
      "metadata": {
        "id": "vD2in3HVr0O2",
        "colab_type": "code",
        "outputId": "9e3d5e79-b495-476c-95d0-9c4e0c324bf2",
        "colab": {
          "base_uri": "https://localhost:8080/",
          "height": 295
        }
      },
      "source": [
        "#histogram\n",
        "\n",
        "plt.hist(setosa.SepalLengthCm)\n",
        "plt.xlabel(\"SepalLengthCm Value\")\n",
        "plt.ylabel(\"Fre\")\n",
        "plt.title(\"Histogram\")\n",
        "plt.show()"
      ],
      "execution_count": 0,
      "outputs": [
        {
          "output_type": "display_data",
          "data": {
            "image/png": "[encoded data removed]",
            "text/plain": [
              "<Figure size 432x288 with 1 Axes>"
            ]
          },
          "metadata": {
            "tags": [],
            "needs_background": "light"
          }
        }
      ]
    },
    {
      "cell_type": "code",
      "metadata": {
        "id": "__CJRM5Lskt8",
        "colab_type": "code",
        "outputId": "83a2ef3e-5cb9-4188-a239-4b99b70dc951",
        "colab": {
          "base_uri": "https://localhost:8080/",
          "height": 265
        }
      },
      "source": [
        "#bar plot\n",
        "\n",
        "new_numpy = np.array([1,2,3,4,5,6,7,8])\n",
        "\n",
        "new_numpy1 = new_numpy*2 + 5\n",
        "\n",
        "plt.bar(new_numpy, new_numpy1)\n",
        "plt.show()"
      ],
      "execution_count": 0,
      "outputs": [
        {
          "output_type": "display_data",
          "data": {
            "image/png": "[encoded data removed]",
            "text/plain": [
              "<Figure size 432x288 with 1 Axes>"
            ]
          },
          "metadata": {
            "tags": [],
            "needs_background": "light"
          }
        }
      ]
    },
    {
      "cell_type": "code",
      "metadata": {
        "id": "PXPrJvOcuTS-",
        "colab_type": "code",
        "outputId": "8ba1465c-9b41-4a56-91f9-65532dd8246f",
        "colab": {
          "base_uri": "https://localhost:8080/",
          "height": 255
        }
      },
      "source": [
        "#subplots\n",
        "\n",
        "df_new1.plot(subplots = True)\n",
        "\n",
        "plt.show()"
      ],
      "execution_count": 0,
      "outputs": [
        {
          "output_type": "display_data",
          "data": {
            "image/png": "[encoded data removed]",
            "text/plain": [
              "<Figure size 432x288 with 4 Axes>"
            ]
          },
          "metadata": {
            "tags": [],
            "needs_background": "light"
          }
        }
      ]
    }
  ]
}