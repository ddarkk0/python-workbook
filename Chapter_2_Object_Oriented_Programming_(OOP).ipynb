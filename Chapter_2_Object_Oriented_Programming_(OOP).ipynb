{
  "nbformat": 4,
  "nbformat_minor": 0,
  "metadata": {
    "colab": {
      "name": "Chapter 2: Object Oriented Programming (OOP)",
      "provenance": [],
      "collapsed_sections": [],
      "authorship_tag": "ABX9TyP/S9gX3QrEUTpBUPqjQZqy",
      "include_colab_link": true
    },
    "kernelspec": {
      "name": "python3",
      "display_name": "Python 3"
    }
  },
  "cells": [
    {
      "cell_type": "markdown",
      "metadata": {
        "id": "view-in-github",
        "colab_type": "text"
      },
      "source": [
        "<a href=\"https://colab.research.google.com/github/ddarkk0/python-workbook/blob/master/Chapter_2_Object_Oriented_Programming_(OOP).ipynb\" target=\"_parent\"><img src=\"https://colab.research.google.com/assets/colab-badge.svg\" alt=\"Open In Colab\"/></a>"
      ]
    },
    {
      "cell_type": "markdown",
      "metadata": {
        "colab_type": "text",
        "id": "V_QjzTjPq9ZL"
      },
      "source": [
        "# **Chapter 2: Object Oriented Programming (OOP)**\n",
        "\n",
        "## **Introduction:** In this section, we will generally make operations on object-oriented programs, and we will make general examples in line with the operations."
      ]
    },
    {
      "cell_type": "code",
      "metadata": {
        "colab_type": "code",
        "id": "prdMuSBXqya_",
        "colab": {}
      },
      "source": [
        "\"\"\"\n",
        "As we have seen, we have created one of our employees, but if the number of these employees is 200, \n",
        "it will take a long time to create them one by one, and object-oriented programming will help us here.\n",
        "\"\"\"\n",
        "employee1_name = \"David\"\n",
        "employee1_surname = \"Alex\"\n",
        "employee1_age = 19\n",
        "employee1_position = \"Marketing\""
      ],
      "execution_count": 0,
      "outputs": []
    },
    {
      "cell_type": "code",
      "metadata": {
        "id": "hsTCfsM0s5iV",
        "colab_type": "code",
        "colab": {}
      },
      "source": [
        "#Create a class\n",
        "\n",
        "class EmployeeList:\n",
        "  #attribute = age, phone-number, adress, name and surname\n",
        "  #behaviour = capabilities\n",
        "  pass"
      ],
      "execution_count": 0,
      "outputs": []
    },
    {
      "cell_type": "code",
      "metadata": {
        "id": "zIcSLm5rtdIZ",
        "colab_type": "code",
        "outputId": "6ff32c84-5659-46b4-9e24-cadf84e53920",
        "colab": {
          "base_uri": "https://localhost:8080/",
          "height": 102
        }
      },
      "source": [
        "#attribute\n",
        "# Note: Normally coding is not done in this way, but in general, it is written in this way to repeat and gain knowledge about the subject.\n",
        "class SalesMan:\n",
        "  company = \"XYZ\"\n",
        "  age = 20\n",
        "  gender = \"MALE\"\n",
        "\n",
        "new_salesman1 = SalesMan()\n",
        "print(new_salesman1.gender)\n",
        "print(new_salesman1.company)\n",
        "print(new_salesman1.age)\n",
        "print(\" \")\n",
        "\n",
        "#Changing the data\n",
        "new_salesman1.company = \"ZYX\"\n",
        "print(new_salesman1.company)"
      ],
      "execution_count": 0,
      "outputs": [
        {
          "output_type": "stream",
          "text": [
            "MALE\n",
            "XYZ\n",
            "20\n",
            " \n",
            "ZYX\n"
          ],
          "name": "stdout"
        }
      ]
    },
    {
      "cell_type": "code",
      "metadata": {
        "id": "eBtN5BKFvS3x",
        "colab_type": "code",
        "outputId": "85489053-efea-4805-abee-f7bf63741ab3",
        "colab": {
          "base_uri": "https://localhost:8080/",
          "height": 68
        }
      },
      "source": [
        "#methods\n",
        "\n",
        "#Create a new class\n",
        "\n",
        "class Square:\n",
        "  edge = 10 #meter\n",
        "\n",
        "  def areaSqaure(self):\n",
        "    area = self.edge * self.edge\n",
        "    return area\n",
        "    \n",
        "square1 = Square()\n",
        "print(square1)\n",
        "print(square1.edge)\n",
        "print(square1.areaSqaure())"
      ],
      "execution_count": 0,
      "outputs": [
        {
          "output_type": "stream",
          "text": [
            "<__main__.Square object at 0x7fef1e00d3c8>\n",
            "10\n",
            "100\n"
          ],
          "name": "stdout"
        }
      ]
    },
    {
      "cell_type": "code",
      "metadata": {
        "id": "euAvJdylxCVK",
        "colab_type": "code",
        "outputId": "7629f096-1437-4260-f9ab-7ac22345abaa",
        "colab": {
          "base_uri": "https://localhost:8080/",
          "height": 102
        }
      },
      "source": [
        "# methods vs functions\n",
        "\n",
        "#Create a new class\n",
        "\n",
        "class StudentsList:\n",
        "  age = 17\n",
        "  exam_score = 70\n",
        "\n",
        "  #methods\n",
        "  def ageExamScoreRatio(self):\n",
        "    ratio = print(self.age / self.exam_score)\n",
        "    return ratio\n",
        "\n",
        "#functions\n",
        "def ageExamScoreRatio2(age1, exam_score1):\n",
        "  return print(age1 / exam_score1)\n",
        "  \n",
        "\n",
        "student_1 = StudentsList()\n",
        "print(\"Method:\")\n",
        "student_1.ageExamScoreRatio()\n",
        "print(\" \")\n",
        "print(\"Function:\")\n",
        "ageExamScoreRatio2(40,80)"
      ],
      "execution_count": 0,
      "outputs": [
        {
          "output_type": "stream",
          "text": [
            "Method:\n",
            "0.24285714285714285\n",
            " \n",
            "Function:\n",
            "0.5\n"
          ],
          "name": "stdout"
        }
      ]
    },
    {
      "cell_type": "code",
      "metadata": {
        "id": "bJI3l0N3zBnF",
        "colab_type": "code",
        "outputId": "9f2051ed-1db6-40ae-d604-b339e8614021",
        "colab": {
          "base_uri": "https://localhost:8080/",
          "height": 51
        }
      },
      "source": [
        "#Constructor\n",
        "\n",
        "class Animals:\n",
        "\n",
        "  def __init__(self, animal, animal_age):\n",
        "    self.animal = animal\n",
        "    self.animal_age = animal_age\n",
        "  \n",
        "  def getAge(self):\n",
        "    return self.animal_age\n",
        "  \n",
        "  def getAnimal(self):\n",
        "    return self.animal\n",
        "  \n",
        "animal1 = Animals(\"dog\", 7)\n",
        "animal2 = Animals(\"cat\", 4)\n",
        "\n",
        "print(animal1.getAge())\n",
        "print(animal2.getAnimal())"
      ],
      "execution_count": 0,
      "outputs": [
        {
          "output_type": "stream",
          "text": [
            "7\n",
            "cat\n"
          ],
          "name": "stdout"
        }
      ]
    },
    {
      "cell_type": "markdown",
      "metadata": {
        "id": "rREG6UAR2C47",
        "colab_type": "text"
      },
      "source": [
        "# **OOP - BASİC EXAMPLE**"
      ]
    },
    {
      "cell_type": "code",
      "metadata": {
        "id": "4v9-rIi41tmC",
        "colab_type": "code",
        "outputId": "51287a18-66b5-4e90-f067-db91f6d9022b",
        "colab": {
          "base_uri": "https://localhost:8080/",
          "height": 85
        }
      },
      "source": [
        "#calculator project\n",
        "\n",
        "class CalculatorProject:\n",
        "\n",
        "  def __init__(self, value1, value2):\n",
        "    self.value1 = value1\n",
        "    self.value2 = value2\n",
        "  \n",
        "  def valueAddition(self):\n",
        "    return self.value1 + self.value2\n",
        "  \n",
        "  def valueMultiply(self):\n",
        "    return self.value1 * self.value2\n",
        "  \n",
        "  def valueDivision(self):\n",
        "    return self.value1 / self.value2\n",
        "  \n",
        "  def valueSubtraction(self):\n",
        "    return self.value1 - self.value2\n",
        "\n",
        "# In its simplest form\n",
        "v1 = 100\n",
        "v2 = 20\n",
        "c1 = CalculatorProject(v1, v2)\n",
        "\n",
        "print(c1.valueAddition())\n",
        "print(c1.valueMultiply())\n",
        "print(\"------------------\")\n",
        "ct1 = c1.valueAddition()\n",
        "ct2 = c1.valueMultiply()\n",
        "print(\"Addition: {} , Multiply: {}\".format(ct1, ct2))"
      ],
      "execution_count": 0,
      "outputs": [
        {
          "output_type": "stream",
          "text": [
            "120\n",
            "2000\n",
            "------------------\n",
            "Addition: 120 , Multiply: 2000\n"
          ],
          "name": "stdout"
        }
      ]
    },
    {
      "cell_type": "code",
      "metadata": {
        "id": "nvLnmY-x4Wrd",
        "colab_type": "code",
        "outputId": "28885ce9-88ea-418f-ef42-78adc951d5c2",
        "colab": {
          "base_uri": "https://localhost:8080/",
          "height": 102
        }
      },
      "source": [
        "# Improved version\n",
        "\n",
        "\"\"\"\n",
        "class CalculatorProject:\n",
        "\n",
        "  def __init__(self, value1, value2):\n",
        "    self.value1 = value1\n",
        "    self.value2 = value2\n",
        "  \n",
        "  def valueAddition(self):\n",
        "    return self.value1 + self.value2\n",
        "  \n",
        "  def valueMultiply(self):\n",
        "    return self.value1 * self.value2\n",
        "\"\"\"\n",
        "print(\"Choose to add (1) or to multiply (2) or devision(3) or subtraction(4)\")\n",
        "selection = int(input(\"Select 1 or 2 or 3 or 4\"))\n",
        "\n",
        "v3 = int(input(\"first value\"))\n",
        "v4 = int(input(\"second value\"))\n",
        "c2 = CalculatorProject(v3,v4)\n",
        "\n",
        "if selection == 1:\n",
        "  print(\"Addition:\", c2.valueAddition())\n",
        "elif selection == 2:\n",
        "  print(\"Multiply:\", c2.valueMultiply())\n",
        "elif selection == 3:\n",
        "  print(\"Division:\", c2.valueDivision())\n",
        "elif selection == 4:\n",
        "  print(\"Subtraction:\", c2.valueSubtraction())\n",
        "else:\n",
        "  print(\" \")\n",
        "\n",
        "#finish"
      ],
      "execution_count": 0,
      "outputs": [
        {
          "output_type": "stream",
          "text": [
            "Choose to add (1) or to multiply (2) or devision(3) or subtraction(4)\n",
            "Select 1 or 2 or 3 or 42\n",
            "first value2\n",
            "second value2\n",
            "Multiply: 4\n"
          ],
          "name": "stdout"
        }
      ]
    },
    {
      "cell_type": "code",
      "metadata": {
        "id": "c-DGqV5P99sT",
        "colab_type": "code",
        "colab": {}
      },
      "source": [
        "#Encapsulation\n",
        "#restricting methods and direct access to variables\n",
        "\n",
        "class BankAccount:\n",
        "\n",
        "  def __init__(self, name, money, address):\n",
        "    self.name = name #global variable\n",
        "    self.money = money #private variable1!\n",
        "    self.address = address #gloabal variable\n",
        "\n",
        "person1 = BankAccount(\"john\", 400, \"USA\")\n",
        "person2 = BankAccount(\"messi\", 600, \"Canada\")"
      ],
      "execution_count": 0,
      "outputs": []
    },
    {
      "cell_type": "code",
      "metadata": {
        "id": "wxr8geNNkkyo",
        "colab_type": "code",
        "outputId": "64765b1b-0521-4633-bf5f-ddbfd8720909",
        "colab": {
          "base_uri": "https://localhost:8080/",
          "height": 34
        }
      },
      "source": [
        "person1.name"
      ],
      "execution_count": 0,
      "outputs": [
        {
          "output_type": "execute_result",
          "data": {
            "text/plain": [
              "'john'"
            ]
          },
          "metadata": {
            "tags": []
          },
          "execution_count": 44
        }
      ]
    },
    {
      "cell_type": "code",
      "metadata": {
        "id": "S-AkfVZHk2vG",
        "colab_type": "code",
        "outputId": "0d1ccab3-89c8-43ae-aa52-3227a366e0b9",
        "colab": {
          "base_uri": "https://localhost:8080/",
          "height": 51
        }
      },
      "source": [
        "#Bank accounts are secure, but we have changed this value, now let's prevent it from being changed.\n",
        "\n",
        "person1.money = person1.money + person2.money \n",
        "person2.money = 0\n",
        "\n",
        "print(person1.money)\n",
        "print(person2.money)"
      ],
      "execution_count": 0,
      "outputs": [
        {
          "output_type": "stream",
          "text": [
            "1000\n",
            "0\n"
          ],
          "name": "stdout"
        }
      ]
    },
    {
      "cell_type": "code",
      "metadata": {
        "id": "X8Y9TGI_lFZL",
        "colab_type": "code",
        "colab": {}
      },
      "source": [
        "#Private variable!\n",
        "\n",
        "class BankAccount2:\n",
        "\n",
        "  def __init__(self, name1, money1, address1):\n",
        "    self.name1 = name1 #global variable\n",
        "    self.__money1 = money1 #private variable1!\n",
        "    self.address1 = address1 #gloabal variable\n",
        "  \n",
        "  #get and set methods\n",
        "  def getMoney(self):\n",
        "    return self.__money1\n",
        "  \n",
        "  def setMoney(self, amount):\n",
        "    self.__money1 = amount\n",
        "\n",
        "  def increase(self):\n",
        "    self.__money1 = self.__money1 + 500\n",
        "\n",
        "person3 = BankAccount2(\"john\", 400, \"USA\")\n",
        "person4 = BankAccount2(\"messi\", 600, \"Canada\")"
      ],
      "execution_count": 0,
      "outputs": []
    },
    {
      "cell_type": "code",
      "metadata": {
        "id": "tA7WUYePmXs-",
        "colab_type": "code",
        "outputId": "e9aa431c-52bc-40fa-9f1f-b584bf2f55f8",
        "colab": {
          "base_uri": "https://localhost:8080/",
          "height": 51
        }
      },
      "source": [
        "#As we have seen, we cannot pull this object or variable.\n",
        "# person3.__money\n",
        "\n",
        "#But now we can access this data by using the get and set methods.\n",
        "print(\"Get Method:\", person3.getMoney())\n",
        "person3.setMoney(300)\n",
        "print(\"After Set Method:\", person3.getMoney())"
      ],
      "execution_count": 0,
      "outputs": [
        {
          "output_type": "stream",
          "text": [
            "Get Method: 400\n",
            "After Set Method: 300\n"
          ],
          "name": "stdout"
        }
      ]
    },
    {
      "cell_type": "code",
      "metadata": {
        "id": "Lfp1hFoTmaOf",
        "colab_type": "code",
        "outputId": "bb24b406-e385-4d7e-c66a-98eef330237e",
        "colab": {
          "base_uri": "https://localhost:8080/",
          "height": 51
        }
      },
      "source": [
        "print(\"Set Method:\", person4.getMoney())\n",
        "person4.increase()\n",
        "print(\"After Increase Method:\", person4.getMoney())"
      ],
      "execution_count": 0,
      "outputs": [
        {
          "output_type": "stream",
          "text": [
            "Set Method: 600\n",
            "After Increase Method: 1100\n"
          ],
          "name": "stdout"
        }
      ]
    },
    {
      "cell_type": "code",
      "metadata": {
        "id": "9YcJrlVFopSP",
        "colab_type": "code",
        "outputId": "291b9506-7c95-45a9-e701-b62b833e5c0e",
        "colab": {
          "base_uri": "https://localhost:8080/",
          "height": 68
        }
      },
      "source": [
        "#Inheritance\n",
        "\n",
        "class Animals1(object):\n",
        "\n",
        "  def __init__(self):\n",
        "    print(\"animal is created\")\n",
        "\n",
        "  def walk(self):\n",
        "    print(\"animal walk\")\n",
        "  \n",
        "  def run(self):\n",
        "    print(\"animal run\")\n",
        "\n",
        "class Bird(Animals1):\n",
        "  \n",
        "  def __init__(self):\n",
        "    super().__init__()\n",
        "    print(\"bird is created\")\n",
        "  \n",
        "  def fly(self):\n",
        "    print(\"bird can fly\")\n",
        "\n",
        "animal2 = Bird()\n",
        "animal2.fly()"
      ],
      "execution_count": 0,
      "outputs": [
        {
          "output_type": "stream",
          "text": [
            "animal is created\n",
            "bird is created\n",
            "bird can fly\n"
          ],
          "name": "stdout"
        }
      ]
    },
    {
      "cell_type": "code",
      "metadata": {
        "id": "zJSpXERQ7HS-",
        "colab_type": "code",
        "outputId": "522db96b-0b7c-4a14-ba95-f64fff4dafbe",
        "colab": {
          "base_uri": "https://localhost:8080/",
          "height": 34
        }
      },
      "source": [
        "#Abstract Classes\n",
        "#1. A superclass variable cannot be defined.\n",
        "#2. A superclass defined method needs to be defined in child classes\n",
        "\n",
        "from abc import ABC, abstractclassmethod\n",
        "\n",
        "class Book(ABC):\n",
        "\n",
        "  @abstractclassmethod\n",
        "  def numberOfPages(self):\n",
        "    pass  \n",
        "  @abstractclassmethod\n",
        "  def costBook(self):\n",
        "    pass\n",
        "\n",
        "class FunnyBook(Book):\n",
        "\n",
        "  def __init__(self):\n",
        "    print(\"Funny book\")\n",
        "  def numberOfPages(self):\n",
        "    print(\"200 pages\")\n",
        "  def costBook(self):\n",
        "    print(\"20.00 $\")\n",
        "\n",
        "book1 = FunnyBook()"
      ],
      "execution_count": 0,
      "outputs": [
        {
          "output_type": "stream",
          "text": [
            "Funny book\n"
          ],
          "name": "stdout"
        }
      ]
    },
    {
      "cell_type": "code",
      "metadata": {
        "id": "0Jl3DU7F-8dJ",
        "colab_type": "code",
        "outputId": "42d4f500-7343-41bf-d6fc-2e906cca90f6",
        "colab": {
          "base_uri": "https://localhost:8080/",
          "height": 51
        }
      },
      "source": [
        "#Overriding\n",
        "\n",
        "class Fruits(object):\n",
        "\n",
        "  def toString(self):\n",
        "    print(\"Fruit created\")\n",
        "  \n",
        "class Banana(Fruits):\n",
        "\n",
        "  def toString(self):\n",
        "    print(\"Banana!\")\n",
        "\n",
        "fruit1 = Fruits()\n",
        "fruit1.toString()\n",
        "\n",
        "fruit2 = Banana() # banana calls overriding method\n",
        "fruit2.toString()"
      ],
      "execution_count": 0,
      "outputs": [
        {
          "output_type": "stream",
          "text": [
            "Fruit created\n",
            "Banana!\n"
          ],
          "name": "stdout"
        }
      ]
    },
    {
      "cell_type": "code",
      "metadata": {
        "id": "BrM85yUVBzmD",
        "colab_type": "code",
        "outputId": "a99da5c6-6448-4cfc-ed7b-ea0ffe92e126",
        "colab": {
          "base_uri": "https://localhost:8080/",
          "height": 136
        }
      },
      "source": [
        "#Polymorphism\n",
        "\n",
        "class Employee:\n",
        "\n",
        "  def raisee(self):\n",
        "    raisee_rate = 0.10\n",
        "    result = 200 + 200 * raisee_rate\n",
        "    print(\"Employee:\", result)\n",
        "\n",
        "class ComputerEngineer(Employee):\n",
        "\n",
        "  def raisee(self):\n",
        "    raisee_rate = 0.20\n",
        "    result = 200 + 200 * raisee_rate\n",
        "    print(\"Computer Engineer:\", result)\n",
        "\n",
        "class ElectricEngineer(Employee):\n",
        "\n",
        "  def raisee(self):\n",
        "    raisee_rate = 0.35\n",
        "    result = 200 + 200 * raisee_rate\n",
        "    print(\"ElectricEngineer:\", result)\n",
        "\n",
        "employee1 = Employee()\n",
        "employee1.raisee()\n",
        "\n",
        "computerengineer1 = ComputerEngineer()\n",
        "computerengineer1.raisee()\n",
        "\n",
        "electricengineer1 = ElectricEngineer()\n",
        "electricengineer1.raisee()\n",
        "\n",
        "employee_list = [computerengineer1, electricengineer1]\n",
        "print(\" \")\n",
        "\n",
        "print(\"For each in employee_list\")\n",
        "for each in employee_list:\n",
        "  each.raisee()"
      ],
      "execution_count": 0,
      "outputs": [
        {
          "output_type": "stream",
          "text": [
            "Employee: 220.0\n",
            "Computer Engineer: 240.0\n",
            "ElectricEngineer: 270.0\n",
            " \n",
            "For each in employee_list\n",
            "Computer Engineer: 240.0\n",
            "ElectricEngineer: 270.0\n"
          ],
          "name": "stdout"
        }
      ]
    },
    {
      "cell_type": "markdown",
      "metadata": {
        "id": "cK1yTEa2ISGv",
        "colab_type": "text"
      },
      "source": [
        "# **BIG QUIZ AND EXAMPLE**\n",
        "\n",
        "Calculating the circumference and areas of geometric shapes."
      ]
    },
    {
      "cell_type": "code",
      "metadata": {
        "id": "yE1GTIszF8se",
        "colab_type": "code",
        "outputId": "01191d9e-b0d6-408f-d7a3-55d8c54c5b6a",
        "colab": {
          "base_uri": "https://localhost:8080/",
          "height": 204
        }
      },
      "source": [
        "from abc import ABC, abstractclassmethod\n",
        "\n",
        "class Shape(ABC):\n",
        "\n",
        "  @abstractclassmethod\n",
        "  def area(self): pass\n",
        "\n",
        "  @abstractclassmethod\n",
        "  def perimeter(self): pass\n",
        "\n",
        "  def toString(self): pass\n",
        "\n",
        "class Square(Shape):\n",
        "\n",
        "  def __init__(self, edge):\n",
        "    self.__edge = edge\n",
        "  \n",
        "  def area(self):\n",
        "    result = self.__edge**2\n",
        "    print(\"Square Area:\", result)\n",
        "\n",
        "  def perimeter(self):\n",
        "    result = self.__edge*4\n",
        "    print(\"Square Perimeter:\", result)\n",
        "  \n",
        "  def toString(self):\n",
        "    print(\"Square\")\n",
        "  \n",
        "class Circle(Shape):\n",
        "\n",
        "  PI = 3.14\n",
        "  def __init__(self, radius):\n",
        "    self.__radius = radius\n",
        "  \n",
        "  def area(self):\n",
        "    result = Circle.PI*self.__radius**2\n",
        "    print(\"Circle Area:\", result)\n",
        "  \n",
        "  def perimeter(self):\n",
        "    result = 2*Circle.PI*self.__radius\n",
        "    print(\"Circle Perimeter:\", result)\n",
        "  \n",
        "  def toString(self):\n",
        "    print(\"Circle\")\n",
        "\n",
        "class Rectangle(Shape):\n",
        "  \n",
        "  def __init__(self, short_edge, long_edge):\n",
        "    self.__short_edge = int(short_edge)\n",
        "    self.__long_edge = int(long_edge)\n",
        "  \n",
        "  def area(self):\n",
        "    result = (self.__short_edge * self.__long_edge)\n",
        "    print(\"Rectangle Area:\", result)\n",
        "\n",
        "  def perimeter(self):\n",
        "    result = (2 * (self.__short_edge + self.__long_edge))\n",
        "    print(\"Rectangle Perimeter:\", result)\n",
        "\n",
        "  def toString(self):\n",
        "    print(\"Rectangle\")\n",
        "  \n",
        "square1 = Square(5)\n",
        "square1.area()\n",
        "square1.perimeter()\n",
        "square1.toString()\n",
        "print(\" \")\n",
        "\n",
        "circle1 = Circle(5)\n",
        "circle1.area()\n",
        "circle1.perimeter()\n",
        "circle1.toString()\n",
        "print(\" \")\n",
        "\n",
        "rectangle1 = Rectangle(4,5)\n",
        "rectangle1.area()\n",
        "rectangle1.perimeter()\n",
        "rectangle1.toString()"
      ],
      "execution_count": 0,
      "outputs": [
        {
          "output_type": "stream",
          "text": [
            "Square Area: 25\n",
            "Square Perimeter: 20\n",
            "Square\n",
            " \n",
            "Circle Area: 78.5\n",
            "Circle Perimeter: 31.400000000000002\n",
            "Circle\n",
            " \n",
            "Rectangle Area: 20\n",
            "Rectangle Perimeter: 18\n",
            "Rectangle\n"
          ],
          "name": "stdout"
        }
      ]
    },
    {
      "cell_type": "markdown",
      "metadata": {
        "id": "j30rTDQIjVoc",
        "colab_type": "text"
      },
      "source": [
        "# **EXAMPLE PROJECT**\n",
        "\n",
        "Vehicle Rental Project; The overall aim of the project is that customers can rent two vehicles (cars or bicycles). They can rent them on an hourly or daily basis, and there will be a price reduction on certain rentals."
      ]
    },
    {
      "cell_type": "code",
      "metadata": {
        "id": "KONlbpDCx-rd",
        "colab_type": "code",
        "colab": {}
      },
      "source": [
        "#Create classes\n",
        "import datetime\n",
        "\n",
        "class VehicleRent:\n",
        "\n",
        "  def __init__(self, stock):\n",
        "    self.stock = stock\n",
        "    self.now = 0\n",
        "  \n",
        "  def displayStock(self):\n",
        "    print(\"{} vehicle available to rent\".format(self.stock))\n",
        "    return self.stock\n",
        "  \n",
        "  def rentHourly(self, n):\n",
        "    if n <= 0:\n",
        "      print(\"The value entered cannot be negative!\")\n",
        "      return None\n",
        "    elif n > self.stock:\n",
        "      print(\"Sorry, {} vehicle available to rent\".format(self.stock))\n",
        "      return None\n",
        "    else:\n",
        "      self.now = datetime.datetime.now()\n",
        "      print(\"Rented a {} vehicle for hourly at {} hours\".format(n,self.now.hour))\n",
        "\n",
        "      self.stock -= n\n",
        "      return self.now\n",
        "    \n",
        "  def rentDaily(self, n):\n",
        "    if n <= 0:\n",
        "      print(\"The value entered cannot be negative!\")\n",
        "      return None\n",
        "    elif n > self.stock:\n",
        "      print(\"Sorry, {} vehicle avaiable to rent\".format(self.stock))\n",
        "      return None\n",
        "    else:\n",
        "      self.now = datetime.datetime.now()\n",
        "      print(\"Rented a {} vehicle for daily at {} hours\".format(n,self.now.hour))\n",
        "\n",
        "      self.stock -= n\n",
        "      return self.now\n",
        "  def returnVehicle(self, request, brand):\n",
        "    car_h_price = 100\n",
        "    car_d_price = car_h_price/8*24\n",
        "    bike_h_price = 50\n",
        "    bike_d_price = bike_h_price/8*24\n",
        "\n",
        "    rentalTime, rentalBasis, numofVehicle = request\n",
        "    rentalTime = self.now\n",
        "    bill = 0\n",
        "\n",
        "    if (brand == \"car\"):\n",
        "      if rentalTime and rentalBasis and numofVehicle:\n",
        "        self.stock += numofVehicle\n",
        "        now = datetime.datetime.now()\n",
        "        rentalPeriod = now - rentalTime\n",
        "\n",
        "        if rentalBasis == 1: #hourly\n",
        "          bill = rentalPeriod.seconds/3600*car_h_price*numofVehicle\n",
        "        elif rentalBasis == 2: #daily\n",
        "          bill = rentalPeriod.seconds/(3600*24)*car_d_price*numofVehicle\n",
        "        \n",
        "        if (2 <= numofVehicle):\n",
        "          print(\"You have extra 20% discount!\")\n",
        "          bill = bill*0.8\n",
        "        \n",
        "        print(\"Thank you for returning your car\")\n",
        "        print(\"Price: $ {}\".format(bill))\n",
        "        return bill\n",
        "    \n",
        "    elif (brand == \"bike\"):\n",
        "      if rentalTime and rentalBasis and numofVehicle:\n",
        "        self.stock += numofVehicle\n",
        "        now = datetime.datetime.now()\n",
        "        rentalPeriod = now - rentalTime\n",
        "\n",
        "      if (rentalBasis == 1): #Hourly\n",
        "        bill = rentalPeriod.seconds/3600*bike_h_price*numofVehicle\n",
        "      elif (rentalBasis == 2): #Daily\n",
        "        bill = rentalPeriod.seconds/(3600*24)*bike_d_price*numofVehicle\n",
        "\n",
        "      print(\"Thank you for returning your bike\")\n",
        "      print(\"Price: $ {}\".format(bill))\n",
        "      return bill\n",
        "    \n",
        "    else:\n",
        "      print(\"You did not rent a car!\")\n",
        "      return None"
      ],
      "execution_count": 0,
      "outputs": []
    },
    {
      "cell_type": "code",
      "metadata": {
        "id": "_PMPX9ecyqAP",
        "colab_type": "code",
        "colab": {}
      },
      "source": [
        "class CarRent(VehicleRent):\n",
        "\n",
        "  global discount_rate\n",
        "  discount_rate = 15\n",
        "  def __init__(self, stock):\n",
        "    super().__init__(stock)\n",
        "  \n",
        "  def discount(self, b):\n",
        "    bill = b - (b * discount.rate)/100\n",
        "    return bill\n",
        "\n",
        "class BikeRent(VehicleRent):\n",
        "\n",
        "  def __init__(self, stock):\n",
        "    super().__init__(stock)\n",
        "\n",
        "class Customer:\n",
        "\n",
        "  def __init__(self):\n",
        "    self.bikes = 0\n",
        "    self.cars = 0\n",
        "    self.rentalBasis_b = 0\n",
        "    self.rentalBasis_c = 0\n",
        "    self.rentalTime_b = 0\n",
        "    self.rentalTime_c = 0 \n",
        "  \n",
        "  def requestVehicle(self, brand):\n",
        "    if brand == \"bike\":\n",
        "      bikes = input(\"How many bikes would you like to rent?\")\n",
        "      \n",
        "      try: \n",
        "        bikes = int(bikes)\n",
        "      except ValueError:\n",
        "        print(\"Number should be Number!\")\n",
        "        return -1\n",
        "      \n",
        "      if bikes < 1:\n",
        "        print(\"Number of bikes should be greater than zero\")\n",
        "        return -1\n",
        "      else:\n",
        "        self.bikes = bikes\n",
        "        return self.bikes\n",
        "\n",
        "    elif brand == \"car\":\n",
        "      cars = input(\"How many cars would you like to rent?\")\n",
        "\n",
        "      try: \n",
        "        cars = int(cars)\n",
        "      except ValueError:\n",
        "        print(\"Number should be Number!\")\n",
        "        return -1\n",
        "\n",
        "      if cars < 1:\n",
        "        print(\"Number of bikes should be greater than zero\")\n",
        "        return -1\n",
        "      else:\n",
        "        self.cars = cars\n",
        "        return self.cars\n",
        "\n",
        "    else:\n",
        "      print(\"Request vehicle error\")\n",
        "      return None\n",
        "\n",
        "  def returnVehicle(self, brand):\n",
        "    if brand == \"bike\":\n",
        "      if self.rentalBasis_b and self.rentalTime_b and self.bikes:\n",
        "        return self.rentalBasis_b, self.rentalTime_b, self.bikes\n",
        "      else:\n",
        "        return 0,0,0\n",
        "    \n",
        "    elif brand == \"car\":\n",
        "        if self.rentalBasis_c and self.rentalTime_c and self.cars:\n",
        "          return self.rentalBasis_c, self.rentalTime_c, self.cars\n",
        "        else:\n",
        "          return 0,0,0\n",
        "    else:\n",
        "      print(\"Return vehicle error\")"
      ],
      "execution_count": 0,
      "outputs": []
    },
    {
      "cell_type": "code",
      "metadata": {
        "id": "kzjhmG-ulj-j",
        "colab_type": "code",
        "colab": {}
      },
      "source": [
        "bike100 = BikeRent(100)\n",
        "car10 = CarRent(10)\n",
        "customer11 = Customer()"
      ],
      "execution_count": 0,
      "outputs": []
    },
    {
      "cell_type": "code",
      "metadata": {
        "id": "ct6qxr8Vzx4r",
        "colab_type": "code",
        "outputId": "9f873201-4d93-41cf-9571-7fca5b324ca2",
        "colab": {
          "base_uri": "https://localhost:8080/",
          "height": 136
        }
      },
      "source": [
        "main_menu = True\n",
        "\n",
        "while True:\n",
        "\n",
        "  if main_menu:\n",
        "    print(\"\"\"\n",
        "    **** Vehicle Rental Shop ****\n",
        "    A. Bike Menu\n",
        "    B. Car Menu\n",
        "    Q. Exit\n",
        "    \"\"\")\n",
        "    main_menu = False\n",
        "\n",
        "    choice = input(\"Enter choice: \")\n",
        "\n",
        "  if choice == \"A\" or choice == \"a\":\n",
        "    print(\"\"\"\n",
        "    **** Bike Menu ****\n",
        "    1. Display Available Bikes\n",
        "    2. Request a bike on hourly basis $50\n",
        "    3. Request a bike on daily basis $160\n",
        "    4. Return a Bike\n",
        "    5. Main Menu\n",
        "    6. Exit\n",
        "    \"\"\")\n",
        "\n",
        "    choice = input(\"Enter choice: \")\n",
        "\n",
        "    try:\n",
        "      choice = int(choice)\n",
        "    except ValueError:\n",
        "      print(\"It is not integer\")\n",
        "      continue\n",
        "    \n",
        "    if choice == 1:\n",
        "      bike100.displayStock()\n",
        "      choice = \"A\"\n",
        "    elif choice == 2:\n",
        "      customer11.rentalTime_b = bike100.rentHourly(customer11.requestVehicle(\"bike\"))\n",
        "      main_menu = True\n",
        "      print(\"----------------\")\n",
        "    elif choice == 3:\n",
        "      customer11.rentalTime_b = bike100.rentDaily(customer11.requestVehicle(\"bike\"))\n",
        "      customer11.rentalBasis_b = 2\n",
        "      main_menu = True\n",
        "      print(\"----------------\")\n",
        "    elif choice == 4:\n",
        "      customer11.bill = bike100.returnVehicle(customer11.returnVehicle(\"bike\"),\"bike\")\n",
        "      customer11.rentalBasis_b, customer11.rentalTime_b, customer11.bikes = 0,0,0\n",
        "      main_menu = True\n",
        "      print(\"----------------\")\n",
        "    elif choice == 5:\n",
        "      main_menu = True\n",
        "    elif choice == 6:\n",
        "      break\n",
        "    else:\n",
        "      print(\"Invalid input! Please enter a number between 1-6\")\n",
        "      main_menu = True\n",
        "\n",
        "  elif choice == \"B\" or choice == \"b\":\n",
        "    print(\"\"\"\n",
        "    **** Car Menu ****\n",
        "    1. Display Available Cars\n",
        "    2. Request a car on hourly basis $50\n",
        "    3. Request a car on daily basis $160\n",
        "    4. Return a Car\n",
        "    5. Main Menu\n",
        "    6. Exit\n",
        "    \"\"\")\n",
        "\n",
        "    choice = input(\"Enter a choice: \")\n",
        "\n",
        "    try:\n",
        "      choice = int(choice)\n",
        "    except ValueError:\n",
        "      print(\"It is not integer\")\n",
        "      continue\n",
        "    \n",
        "    if choice == 1:\n",
        "      car10.displayStock()\n",
        "      choice = \"B\"\n",
        "    elif choice == 2:\n",
        "      customer11.rentalTime_c = car10.rentHourly(customer11.requestVehicle(\"car\"))\n",
        "      customer11.rentalBasis_c = 1\n",
        "      main_menu = True\n",
        "      print(\"-------------------\")\n",
        "    elif choice == 3:\n",
        "      customer11.rentalTime_c = car10.rentDaily(customer11.requestVehicle(\"car\"))\n",
        "      customer11.rentalBasis_c = 2\n",
        "      main_menu = True\n",
        "      print(\"-------------------\")\n",
        "    elif choice == 4:\n",
        "      customer11.bill = car10.returnVehicle(customer11.returnVehicle(\"car\"),\"car\")\n",
        "      customer11.rentalBasis_c, customer11.rentalTime_c, customer11.cars = 0,0,0\n",
        "      main_menu = True\n",
        "      print(\"-------------------\")\n",
        "    elif choice == 5:\n",
        "      main_menu = True\n",
        "    elif choice == 6:\n",
        "      break\n",
        "    else:\n",
        "      print(\"Invalid input! Please enter a number between 1-6\")\n",
        "      main_menu = True\n",
        "\n",
        "  elif choice == \"Q\" or choice == \"q\":\n",
        "    break\n",
        "  \n",
        "  else:\n",
        "    print(\"Invalid input! Please enter A-B-Q\")\n",
        "    main_menu = True\n",
        "  print(\"Thank you for using Rental Vehicle Shop!\")"
      ],
      "execution_count": 0,
      "outputs": [
        {
          "output_type": "stream",
          "text": [
            "\n",
            "    **** Vehicle Rental Shop ****\n",
            "    A. Bike Menu\n",
            "    B. Car Menu\n",
            "    Q. Exit\n",
            "    \n",
            "Enter choice: q\n"
          ],
          "name": "stdout"
        }
      ]
    },
    {
      "cell_type": "code",
      "metadata": {
        "id": "2XHRaFvp6Nor",
        "colab_type": "code",
        "outputId": "6ee76d8a-829e-474f-8d87-95ac6616f897",
        "colab": {
          "base_uri": "https://localhost:8080/",
          "height": 136
        }
      },
      "source": [
        "def addition(value1, value2):\n",
        "  return value1 + value2\n",
        "\n",
        "def subtract(value1, value2):\n",
        "  return value1 - value2\n",
        "\n",
        "def division(value1, value2):\n",
        "  return value1/value2\n",
        "\n",
        "def multiply(value1, value2):\n",
        "  return value1 * value2\n",
        "\n",
        "while True:\n",
        "\n",
        "  try:\n",
        "    value1 = float(input(\"Enter a value1: \"))\n",
        "    value2 = float(input(\"Enter a value2: \"))\n",
        "    operator = input(\"\"\"\n",
        "    What is the procedure to do(addition, subtract, division, multiply): \n",
        "    Note: Press (Q) to sign out!:\n",
        "    \"\"\")\n",
        "\n",
        "    if operator == \"addition\":\n",
        "      addition_o = addition(value1, value2)\n",
        "      print(\"Addition: {}\".format(addition_o))\n",
        "      break\n",
        "    \n",
        "    elif operator == \"subtract\":\n",
        "      subtract_o = subtract(value1, value2)\n",
        "      print(\"Subtract: {}\".format(subtract_o))\n",
        "      break\n",
        "    \n",
        "    elif operator == \"divison\":\n",
        "      division_o = division(value1, value2)\n",
        "      print(\"Divison: {}\".format(division_o))\n",
        "      break\n",
        "\n",
        "    elif operator == \"multiply\":\n",
        "      multiply_o = multiply(value1, value2)\n",
        "      print(\"Multiply: {}\".format(multiply_o))\n",
        "      break\n",
        "    \n",
        "    elif operator == \"q\":\n",
        "      break\n",
        "     \n",
        "    else:\n",
        "      print(\"An incorrect value was entered.\")\n",
        "  except ValueError:\n",
        "    print(\"An incorrect value was entered.\")"
      ],
      "execution_count": 0,
      "outputs": [
        {
          "output_type": "stream",
          "text": [
            "Enter a value1: 200\n",
            "Enter a value2: 200\n",
            "\n",
            "    What is the procedure to do(addition, subtract, division, multiply): \n",
            "    Note: Press (Q) to sign out!:\n",
            "    addition\n",
            "Addition: 400.0\n"
          ],
          "name": "stdout"
        }
      ]
    },
    {
      "cell_type": "code",
      "metadata": {
        "id": "KZx-0GOsmXBA",
        "colab_type": "code",
        "outputId": "c0b9acc0-d929-4636-d7fa-01f7d1925626",
        "colab": {
          "base_uri": "https://localhost:8080/",
          "height": 34
        }
      },
      "source": [
        "import time\n",
        "\n",
        "rentalTime4 = time.ctime()\n",
        "print(rentalTime4)\n"
      ],
      "execution_count": 0,
      "outputs": [
        {
          "output_type": "stream",
          "text": [
            "Tue May 19 12:08:05 2020\n"
          ],
          "name": "stdout"
        }
      ]
    },
    {
      "cell_type": "code",
      "metadata": {
        "id": "dUfQIGN-nDaL",
        "colab_type": "code",
        "outputId": "639ce570-b979-4b2a-b9f3-7724805782f2",
        "colab": {
          "base_uri": "https://localhost:8080/",
          "height": 34
        }
      },
      "source": [
        "rentalTime5 = time.ctime()\n",
        "print(rentalTime5)"
      ],
      "execution_count": 0,
      "outputs": [
        {
          "output_type": "stream",
          "text": [
            "Tue May 19 12:08:05 2020\n"
          ],
          "name": "stdout"
        }
      ]
    },
    {
      "cell_type": "code",
      "metadata": {
        "id": "22eIzWcpq6_P",
        "colab_type": "code",
        "outputId": "35136401-b457-4c47-c659-cad77420e703",
        "colab": {
          "base_uri": "https://localhost:8080/",
          "height": 34
        }
      },
      "source": [
        "import datetime\n",
        "rentalTime6 = datetime.datetime.now()\n",
        "print(rentalTime6)"
      ],
      "execution_count": 0,
      "outputs": [
        {
          "output_type": "stream",
          "text": [
            "2020-05-19 12:08:05.460428\n"
          ],
          "name": "stdout"
        }
      ]
    },
    {
      "cell_type": "code",
      "metadata": {
        "id": "MvebC80wuVqx",
        "colab_type": "code",
        "outputId": "73771344-4fb3-4a11-bf56-16bdc524fecd",
        "colab": {
          "base_uri": "https://localhost:8080/",
          "height": 51
        }
      },
      "source": [
        "rentalTime7 = datetime.datetime.now()\n",
        "print(rentalTime7)\n",
        "\n",
        "d = rentalTime7 - rentalTime6\n",
        "print(d.seconds/3600*24*100)"
      ],
      "execution_count": 0,
      "outputs": [
        {
          "output_type": "stream",
          "text": [
            "2020-05-19 12:08:05.469188\n",
            "0.0\n"
          ],
          "name": "stdout"
        }
      ]
    },
    {
      "cell_type": "code",
      "metadata": {
        "id": "LtQHd9IuvvT-",
        "colab_type": "code",
        "colab": {}
      },
      "source": [
        ""
      ],
      "execution_count": 0,
      "outputs": []
    }
  ]
}