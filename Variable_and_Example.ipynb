{
  "nbformat": 4,
  "nbformat_minor": 0,
  "metadata": {
    "colab": {
      "name": "Variable and Example",
      "provenance": [],
      "authorship_tag": "ABX9TyP4wnZCivZyvASj4NkEnW9Z",
      "include_colab_link": true
    },
    "kernelspec": {
      "name": "python3",
      "display_name": "Python 3"
    }
  },
  "cells": [
    {
      "cell_type": "markdown",
      "metadata": {
        "id": "view-in-github",
        "colab_type": "text"
      },
      "source": [
        "<a href=\"https://colab.research.google.com/github/ddarkk0/python-workbook/blob/master/Variable_and_Example.ipynb\" target=\"_parent\"><img src=\"https://colab.research.google.com/assets/colab-badge.svg\" alt=\"Open In Colab\"/></a>"
      ]
    },
    {
      "cell_type": "markdown",
      "metadata": {
        "id": "pAdN2M7gYC_p",
        "colab_type": "text"
      },
      "source": [
        "# **Variable and Examples**\n",
        "We will make detailed and multiple examples of variables."
      ]
    },
    {
      "cell_type": "code",
      "metadata": {
        "id": "NMjB2jc0YF47",
        "colab_type": "code",
        "colab": {}
      },
      "source": [
        "#Numeric variable\n",
        "\n",
        "#integer\n",
        "variable100 = 100\n",
        "variable200 = 200\n",
        "variable300 = 300\n",
        "variable400 = 400\n",
        "\n",
        "#float\n",
        "variable500 = 500.5\n",
        "variable600 = 600.9\n",
        "variable700 = 700.4"
      ],
      "execution_count": 0,
      "outputs": []
    },
    {
      "cell_type": "code",
      "metadata": {
        "id": "ZxUZiAd6Ydmz",
        "colab_type": "code",
        "colab": {
          "base_uri": "https://localhost:8080/",
          "height": 51
        },
        "outputId": "93f51df1-e8f3-4713-995f-6ce6a2fdec20"
      },
      "source": [
        "#print variable\n",
        "\n",
        "print(\"Integer Variables: {}, {}, {}, {}\".format(variable100, variable200, variable300, variable400))\n",
        "print(\"Float Variables: {}, {}, {}\".format(variable500, variable600, variable700))"
      ],
      "execution_count": 4,
      "outputs": [
        {
          "output_type": "stream",
          "text": [
            "Integer Variables: 100, 200, 300, 400\n",
            "Float Variables: 500.5, 600.9, 700.4\n"
          ],
          "name": "stdout"
        }
      ]
    },
    {
      "cell_type": "code",
      "metadata": {
        "id": "n32-1AzSYrqJ",
        "colab_type": "code",
        "colab": {
          "base_uri": "https://localhost:8080/",
          "height": 102
        },
        "outputId": "0eac6a79-1401-406b-8dc3-7124ebdd3a1d"
      },
      "source": [
        "#Four transactions\n",
        "\n",
        "#Addition\n",
        "print(\"Addition:\", variable100 + variable200 + variable300)\n",
        "\n",
        "#Subtract\n",
        "print(\"Subtract:\", variable400 - variable300)\n",
        "\n",
        "#Division\n",
        "print(\"Division:\", variable400 / variable200)\n",
        "\n",
        "#Multiply\n",
        "print(\"Multiply:\", variable400 * variable100)\n",
        "\n",
        "#Addition, subtract, division and multiply\n",
        "new_value = ((variable400 + variable300) * (variable500 + variable700) / variable600) - variable400\n",
        "print(\"Output: {}\".format(new_value))"
      ],
      "execution_count": 5,
      "outputs": [
        {
          "output_type": "stream",
          "text": [
            "Addition: 600\n",
            "Subtract: 100\n",
            "Division: 2.0\n",
            "Multiply: 40000\n",
            "Output: 998.9515726410386\n"
          ],
          "name": "stdout"
        }
      ]
    },
    {
      "cell_type": "code",
      "metadata": {
        "id": "4qcPEGPgaJYE",
        "colab_type": "code",
        "colab": {
          "base_uri": "https://localhost:8080/",
          "height": 34
        },
        "outputId": "c92204f7-5479-40ef-da9b-dac69d920029"
      },
      "source": [
        "#if-else\n",
        "\n",
        "if variable400 == 400:\n",
        "  x = variable400 + 200\n",
        "  if x == 600:\n",
        "    print(\"Output: {}\".format(x))\n",
        "else:\n",
        "  print(\" \")"
      ],
      "execution_count": 6,
      "outputs": [
        {
          "output_type": "stream",
          "text": [
            "Output: 600\n"
          ],
          "name": "stdout"
        }
      ]
    },
    {
      "cell_type": "code",
      "metadata": {
        "id": "4XDsd1tsaosI",
        "colab_type": "code",
        "colab": {
          "base_uri": "https://localhost:8080/",
          "height": 51
        },
        "outputId": "83689bee-5cee-471b-d35f-a9aad76bf358"
      },
      "source": [
        "#input if-else\n",
        "\n",
        "enter_value = int(input(\"Enter a value:\"))\n",
        "\n",
        "if enter_value >= 200:\n",
        "  print(enter_value * 5)\n",
        "elif enter_value <= 200:\n",
        "  print(enter_value * 10)\n",
        "else:\n",
        "  print(\" \")"
      ],
      "execution_count": 8,
      "outputs": [
        {
          "output_type": "stream",
          "text": [
            "Enter a value:200\n",
            "1000\n"
          ],
          "name": "stdout"
        }
      ]
    },
    {
      "cell_type": "code",
      "metadata": {
        "id": "Q1qBVhKzbFvF",
        "colab_type": "code",
        "colab": {}
      },
      "source": [
        "#string variable\n",
        "\n",
        "str_variable1 = \"banana\"\n",
        "str_variable2 = \"apple\"\n",
        "str_variable3 = \"cherry\"\n",
        "str_variable4 = \"500\"\n",
        "str_variable5 = \"100\""
      ],
      "execution_count": 0,
      "outputs": []
    },
    {
      "cell_type": "code",
      "metadata": {
        "id": "XWca4J5Hba3W",
        "colab_type": "code",
        "colab": {
          "base_uri": "https://localhost:8080/",
          "height": 68
        },
        "outputId": "227b69e7-5e1e-4d17-bb73-e67f51faadf4"
      },
      "source": [
        "#print string variable\n",
        "\n",
        "print(str_variable1)\n",
        "print(str_variable1, \"and\", str_variable2)\n",
        "print(str_variable4 + str_variable5)"
      ],
      "execution_count": 11,
      "outputs": [
        {
          "output_type": "stream",
          "text": [
            "banana\n",
            "banana and apple\n",
            "500100\n"
          ],
          "name": "stdout"
        }
      ]
    },
    {
      "cell_type": "code",
      "metadata": {
        "id": "bpDs9nJTbh7R",
        "colab_type": "code",
        "colab": {
          "base_uri": "https://localhost:8080/",
          "height": 68
        },
        "outputId": "d7479781-8de1-4c43-e619-24ee3ede74a6"
      },
      "source": [
        "#if-else and input\n",
        "\n",
        "enter_stringvalue = input(\"Enter String Value:\")\n",
        "print(\"Entered Value:\", enter_stringvalue)\n",
        "\n",
        "if len(enter_stringvalue) >= 10:\n",
        "  print(\"More than 10 characters\")\n",
        "else:\n",
        "  print(\"Less than 10 characters\")"
      ],
      "execution_count": 12,
      "outputs": [
        {
          "output_type": "stream",
          "text": [
            "Enter String Value:enes\n",
            "Entered Value: enes\n",
            "Less than 10 characters\n"
          ],
          "name": "stdout"
        }
      ]
    },
    {
      "cell_type": "code",
      "metadata": {
        "id": "hc5HhwEEcLhQ",
        "colab_type": "code",
        "colab": {}
      },
      "source": [
        ""
      ],
      "execution_count": 0,
      "outputs": []
    }
  ]
}